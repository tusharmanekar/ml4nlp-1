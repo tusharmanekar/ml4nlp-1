{
  "cells": [
    {
      "cell_type": "markdown",
      "metadata": {
        "id": "iAbU1yiufsmP"
      },
      "source": [
        "***IMPORTS***"
      ]
    },
    {
      "cell_type": "code",
      "execution_count": 2,
      "metadata": {
        "colab": {
          "base_uri": "https://localhost:8080/"
        },
        "id": "0u0jXFD8raSL",
        "outputId": "2e40c3c3-a79d-4703-df08-f70b65d77d5c"
      },
      "outputs": [
        {
          "output_type": "stream",
          "name": "stdout",
          "text": [
            "Collecting emoji\n",
            "  Downloading emoji-2.8.0-py2.py3-none-any.whl (358 kB)\n",
            "\u001b[2K     \u001b[90m━━━━━━━━━━━━━━━━━━━━━━━━━━━━━━━━━━━━━━━━\u001b[0m \u001b[32m358.9/358.9 kB\u001b[0m \u001b[31m7.9 MB/s\u001b[0m eta \u001b[36m0:00:00\u001b[0m\n",
            "\u001b[?25hInstalling collected packages: emoji\n",
            "Successfully installed emoji-2.8.0\n"
          ]
        }
      ],
      "source": [
        "!pip install emoji"
      ]
    },
    {
      "cell_type": "code",
      "execution_count": 3,
      "metadata": {
        "id": "Qo1q6CYKfvKo"
      },
      "outputs": [],
      "source": [
        "import pandas as pd\n",
        "import numpy as np\n",
        "\n",
        "import matplotlib.pyplot as plt\n",
        "import seaborn as sns"
      ]
    },
    {
      "cell_type": "code",
      "execution_count": 4,
      "metadata": {
        "colab": {
          "base_uri": "https://localhost:8080/"
        },
        "id": "ELBc1ntbt5e8",
        "outputId": "30a44ccd-364a-4df7-dd27-15a940a573d0"
      },
      "outputs": [
        {
          "output_type": "execute_result",
          "data": {
            "text/plain": [
              "device(type='cuda', index=0)"
            ]
          },
          "metadata": {},
          "execution_count": 4
        }
      ],
      "source": [
        "import torch\n",
        "import torch.nn as nn\n",
        "import torch.nn.functional as F\n",
        "import torch.optim as optim\n",
        "import torch.cuda\n",
        "from torch.utils.data import Dataset, DataLoader\n",
        "\n",
        "from sklearn.model_selection import train_test_split\n",
        "\n",
        "from tqdm.notebook import tqdm\n",
        "\n",
        "torch.manual_seed(1)\n",
        "\n",
        "device = torch.device(\"cuda:0\" if torch.cuda.is_available() else \"cpu\")\n",
        "device"
      ]
    },
    {
      "cell_type": "code",
      "execution_count": 5,
      "metadata": {
        "id": "piYWFsNcri-C"
      },
      "outputs": [],
      "source": [
        "import re\n",
        "import string\n",
        "import emoji\n",
        "\n",
        "import nltk\n",
        "from nltk.corpus import stopwords\n",
        "from nltk.stem import PorterStemmer\n",
        "stemmer = PorterStemmer()"
      ]
    },
    {
      "cell_type": "code",
      "execution_count": 6,
      "metadata": {
        "colab": {
          "base_uri": "https://localhost:8080/"
        },
        "id": "i2eV8RpMrrAQ",
        "outputId": "4c2928cb-900d-45a9-c473-c4f11cf596f3"
      },
      "outputs": [
        {
          "output_type": "stream",
          "name": "stderr",
          "text": [
            "[nltk_data] Downloading package punkt to /root/nltk_data...\n",
            "[nltk_data]   Unzipping tokenizers/punkt.zip.\n",
            "[nltk_data] Downloading package stopwords to /root/nltk_data...\n",
            "[nltk_data]   Unzipping corpora/stopwords.zip.\n"
          ]
        }
      ],
      "source": [
        "nltk.download(\"punkt\")\n",
        "nltk.download('stopwords')\n",
        "stop_words = set(stopwords.words('english'))"
      ]
    },
    {
      "cell_type": "markdown",
      "metadata": {
        "id": "CUIcxx00jSCs"
      },
      "source": [
        "***LOADING THE DATASETS***"
      ]
    },
    {
      "cell_type": "code",
      "execution_count": 95,
      "metadata": {
        "colab": {
          "base_uri": "https://localhost:8080/"
        },
        "id": "4sEty1rvjRbW",
        "outputId": "24515125-cf7a-4e54-a5eb-910ec4a88d3c"
      },
      "outputs": [
        {
          "output_type": "stream",
          "name": "stdout",
          "text": [
            "/usr/local/lib/python3.10/dist-packages/gdown/cli.py:121: FutureWarning: Option `--id` was deprecated in version 4.3.1 and will be removed in 5.0. You don't need to pass it anymore to use a file ID.\n",
            "  warnings.warn(\n",
            "Downloading...\n",
            "From: https://drive.google.com/uc?id=1foE1JuZJeu5E_4qVge9kExzhvF32teuF\n",
            "To: /content/tripadvisor_hotel_reviews_reduced.csv\n",
            "100% 7.36M/7.36M [00:00<00:00, 133MB/s]\n",
            "/usr/local/lib/python3.10/dist-packages/gdown/cli.py:121: FutureWarning: Option `--id` was deprecated in version 4.3.1 and will be removed in 5.0. You don't need to pass it anymore to use a file ID.\n",
            "  warnings.warn(\n",
            "Downloading...\n",
            "From: https://drive.google.com/uc?id=13IWXrTjGTrfCd9l7dScZVO8ZvMicPU75\n",
            "To: /content/scifi_reduced.txt\n",
            "100% 43.1M/43.1M [00:00<00:00, 151MB/s]\n"
          ]
        }
      ],
      "source": [
        "!gdown --id 1foE1JuZJeu5E_4qVge9kExzhvF32teuF\n",
        "!gdown --id 13IWXrTjGTrfCd9l7dScZVO8ZvMicPU75"
      ]
    },
    {
      "cell_type": "code",
      "execution_count": 96,
      "metadata": {
        "id": "SbK29CO7kxYZ"
      },
      "outputs": [],
      "source": [
        "# Loading the trip advisor hotel reviews dataset into a dataframe\n",
        "\n",
        "df_trip = pd.read_csv(\"tripadvisor_hotel_reviews_reduced.csv\")"
      ]
    },
    {
      "cell_type": "code",
      "execution_count": 7,
      "metadata": {
        "id": "88GpEOCBj56v"
      },
      "outputs": [],
      "source": [
        "# Loading the sci-fi dataset into a dataframe\n",
        "\n",
        "with open(f'scifi.txt') as f:\n",
        "    scifi_txt = f.read()\n",
        "\n",
        "scifi_txt = scifi_txt.split('. ')\n",
        "\n",
        "# Loading the sci-fi dataset into a dataframe\n",
        "df_scifi = pd.DataFrame(scifi_txt, columns=['text'])"
      ]
    },
    {
      "cell_type": "markdown",
      "metadata": {
        "id": "QWbcRPbQlqT2"
      },
      "source": [
        "***EXPLORATORY DATA ANALYSIS (EDA)***"
      ]
    },
    {
      "cell_type": "markdown",
      "metadata": {
        "id": "fR8FelC9lzoi"
      },
      "source": [
        "*Trip Advisor Hotel Reviews Data*"
      ]
    },
    {
      "cell_type": "code",
      "execution_count": 97,
      "metadata": {
        "colab": {
          "base_uri": "https://localhost:8080/"
        },
        "id": "6-y1QBhRlDfu",
        "outputId": "bd1d5293-7c00-444a-b7c9-39d328ca8c07"
      },
      "outputs": [
        {
          "output_type": "stream",
          "name": "stdout",
          "text": [
            "<class 'pandas.core.frame.DataFrame'>\n",
            "RangeIndex: 10000 entries, 0 to 9999\n",
            "Data columns (total 2 columns):\n",
            " #   Column  Non-Null Count  Dtype \n",
            "---  ------  --------------  ----- \n",
            " 0   Review  10000 non-null  object\n",
            " 1   Rating  10000 non-null  int64 \n",
            "dtypes: int64(1), object(1)\n",
            "memory usage: 156.4+ KB\n"
          ]
        }
      ],
      "source": [
        "# Info about the dataframe\n",
        "\n",
        "df_trip.info()"
      ]
    },
    {
      "cell_type": "code",
      "execution_count": 98,
      "metadata": {
        "colab": {
          "base_uri": "https://localhost:8080/",
          "height": 206
        },
        "id": "dVVs58VelxhJ",
        "outputId": "8723d657-fea3-4308-a696-71cdee424eaf"
      },
      "outputs": [
        {
          "output_type": "execute_result",
          "data": {
            "text/plain": [
              "                                              Review  Rating\n",
              "0  fantastic service large hotel caters business ...       5\n",
              "1  great hotel modern hotel good location, locate...       4\n",
              "2  3 star plus glasgowjust got 30th november 4 da...       4\n",
              "3  nice stayed hotel nov 19-23. great little bout...       4\n",
              "4  great place wonderful hotel ideally located me...       5"
            ],
            "text/html": [
              "\n",
              "  <div id=\"df-0fe95057-055e-4755-8758-61bbf1da2ebe\" class=\"colab-df-container\">\n",
              "    <div>\n",
              "<style scoped>\n",
              "    .dataframe tbody tr th:only-of-type {\n",
              "        vertical-align: middle;\n",
              "    }\n",
              "\n",
              "    .dataframe tbody tr th {\n",
              "        vertical-align: top;\n",
              "    }\n",
              "\n",
              "    .dataframe thead th {\n",
              "        text-align: right;\n",
              "    }\n",
              "</style>\n",
              "<table border=\"1\" class=\"dataframe\">\n",
              "  <thead>\n",
              "    <tr style=\"text-align: right;\">\n",
              "      <th></th>\n",
              "      <th>Review</th>\n",
              "      <th>Rating</th>\n",
              "    </tr>\n",
              "  </thead>\n",
              "  <tbody>\n",
              "    <tr>\n",
              "      <th>0</th>\n",
              "      <td>fantastic service large hotel caters business ...</td>\n",
              "      <td>5</td>\n",
              "    </tr>\n",
              "    <tr>\n",
              "      <th>1</th>\n",
              "      <td>great hotel modern hotel good location, locate...</td>\n",
              "      <td>4</td>\n",
              "    </tr>\n",
              "    <tr>\n",
              "      <th>2</th>\n",
              "      <td>3 star plus glasgowjust got 30th november 4 da...</td>\n",
              "      <td>4</td>\n",
              "    </tr>\n",
              "    <tr>\n",
              "      <th>3</th>\n",
              "      <td>nice stayed hotel nov 19-23. great little bout...</td>\n",
              "      <td>4</td>\n",
              "    </tr>\n",
              "    <tr>\n",
              "      <th>4</th>\n",
              "      <td>great place wonderful hotel ideally located me...</td>\n",
              "      <td>5</td>\n",
              "    </tr>\n",
              "  </tbody>\n",
              "</table>\n",
              "</div>\n",
              "    <div class=\"colab-df-buttons\">\n",
              "\n",
              "  <div class=\"colab-df-container\">\n",
              "    <button class=\"colab-df-convert\" onclick=\"convertToInteractive('df-0fe95057-055e-4755-8758-61bbf1da2ebe')\"\n",
              "            title=\"Convert this dataframe to an interactive table.\"\n",
              "            style=\"display:none;\">\n",
              "\n",
              "  <svg xmlns=\"http://www.w3.org/2000/svg\" height=\"24px\" viewBox=\"0 -960 960 960\">\n",
              "    <path d=\"M120-120v-720h720v720H120Zm60-500h600v-160H180v160Zm220 220h160v-160H400v160Zm0 220h160v-160H400v160ZM180-400h160v-160H180v160Zm440 0h160v-160H620v160ZM180-180h160v-160H180v160Zm440 0h160v-160H620v160Z\"/>\n",
              "  </svg>\n",
              "    </button>\n",
              "\n",
              "  <style>\n",
              "    .colab-df-container {\n",
              "      display:flex;\n",
              "      gap: 12px;\n",
              "    }\n",
              "\n",
              "    .colab-df-convert {\n",
              "      background-color: #E8F0FE;\n",
              "      border: none;\n",
              "      border-radius: 50%;\n",
              "      cursor: pointer;\n",
              "      display: none;\n",
              "      fill: #1967D2;\n",
              "      height: 32px;\n",
              "      padding: 0 0 0 0;\n",
              "      width: 32px;\n",
              "    }\n",
              "\n",
              "    .colab-df-convert:hover {\n",
              "      background-color: #E2EBFA;\n",
              "      box-shadow: 0px 1px 2px rgba(60, 64, 67, 0.3), 0px 1px 3px 1px rgba(60, 64, 67, 0.15);\n",
              "      fill: #174EA6;\n",
              "    }\n",
              "\n",
              "    .colab-df-buttons div {\n",
              "      margin-bottom: 4px;\n",
              "    }\n",
              "\n",
              "    [theme=dark] .colab-df-convert {\n",
              "      background-color: #3B4455;\n",
              "      fill: #D2E3FC;\n",
              "    }\n",
              "\n",
              "    [theme=dark] .colab-df-convert:hover {\n",
              "      background-color: #434B5C;\n",
              "      box-shadow: 0px 1px 3px 1px rgba(0, 0, 0, 0.15);\n",
              "      filter: drop-shadow(0px 1px 2px rgba(0, 0, 0, 0.3));\n",
              "      fill: #FFFFFF;\n",
              "    }\n",
              "  </style>\n",
              "\n",
              "    <script>\n",
              "      const buttonEl =\n",
              "        document.querySelector('#df-0fe95057-055e-4755-8758-61bbf1da2ebe button.colab-df-convert');\n",
              "      buttonEl.style.display =\n",
              "        google.colab.kernel.accessAllowed ? 'block' : 'none';\n",
              "\n",
              "      async function convertToInteractive(key) {\n",
              "        const element = document.querySelector('#df-0fe95057-055e-4755-8758-61bbf1da2ebe');\n",
              "        const dataTable =\n",
              "          await google.colab.kernel.invokeFunction('convertToInteractive',\n",
              "                                                    [key], {});\n",
              "        if (!dataTable) return;\n",
              "\n",
              "        const docLinkHtml = 'Like what you see? Visit the ' +\n",
              "          '<a target=\"_blank\" href=https://colab.research.google.com/notebooks/data_table.ipynb>data table notebook</a>'\n",
              "          + ' to learn more about interactive tables.';\n",
              "        element.innerHTML = '';\n",
              "        dataTable['output_type'] = 'display_data';\n",
              "        await google.colab.output.renderOutput(dataTable, element);\n",
              "        const docLink = document.createElement('div');\n",
              "        docLink.innerHTML = docLinkHtml;\n",
              "        element.appendChild(docLink);\n",
              "      }\n",
              "    </script>\n",
              "  </div>\n",
              "\n",
              "\n",
              "<div id=\"df-c225183f-e08f-4f17-b324-907e5b83f224\">\n",
              "  <button class=\"colab-df-quickchart\" onclick=\"quickchart('df-c225183f-e08f-4f17-b324-907e5b83f224')\"\n",
              "            title=\"Suggest charts.\"\n",
              "            style=\"display:none;\">\n",
              "\n",
              "<svg xmlns=\"http://www.w3.org/2000/svg\" height=\"24px\"viewBox=\"0 0 24 24\"\n",
              "     width=\"24px\">\n",
              "    <g>\n",
              "        <path d=\"M19 3H5c-1.1 0-2 .9-2 2v14c0 1.1.9 2 2 2h14c1.1 0 2-.9 2-2V5c0-1.1-.9-2-2-2zM9 17H7v-7h2v7zm4 0h-2V7h2v10zm4 0h-2v-4h2v4z\"/>\n",
              "    </g>\n",
              "</svg>\n",
              "  </button>\n",
              "\n",
              "<style>\n",
              "  .colab-df-quickchart {\n",
              "      --bg-color: #E8F0FE;\n",
              "      --fill-color: #1967D2;\n",
              "      --hover-bg-color: #E2EBFA;\n",
              "      --hover-fill-color: #174EA6;\n",
              "      --disabled-fill-color: #AAA;\n",
              "      --disabled-bg-color: #DDD;\n",
              "  }\n",
              "\n",
              "  [theme=dark] .colab-df-quickchart {\n",
              "      --bg-color: #3B4455;\n",
              "      --fill-color: #D2E3FC;\n",
              "      --hover-bg-color: #434B5C;\n",
              "      --hover-fill-color: #FFFFFF;\n",
              "      --disabled-bg-color: #3B4455;\n",
              "      --disabled-fill-color: #666;\n",
              "  }\n",
              "\n",
              "  .colab-df-quickchart {\n",
              "    background-color: var(--bg-color);\n",
              "    border: none;\n",
              "    border-radius: 50%;\n",
              "    cursor: pointer;\n",
              "    display: none;\n",
              "    fill: var(--fill-color);\n",
              "    height: 32px;\n",
              "    padding: 0;\n",
              "    width: 32px;\n",
              "  }\n",
              "\n",
              "  .colab-df-quickchart:hover {\n",
              "    background-color: var(--hover-bg-color);\n",
              "    box-shadow: 0 1px 2px rgba(60, 64, 67, 0.3), 0 1px 3px 1px rgba(60, 64, 67, 0.15);\n",
              "    fill: var(--button-hover-fill-color);\n",
              "  }\n",
              "\n",
              "  .colab-df-quickchart-complete:disabled,\n",
              "  .colab-df-quickchart-complete:disabled:hover {\n",
              "    background-color: var(--disabled-bg-color);\n",
              "    fill: var(--disabled-fill-color);\n",
              "    box-shadow: none;\n",
              "  }\n",
              "\n",
              "  .colab-df-spinner {\n",
              "    border: 2px solid var(--fill-color);\n",
              "    border-color: transparent;\n",
              "    border-bottom-color: var(--fill-color);\n",
              "    animation:\n",
              "      spin 1s steps(1) infinite;\n",
              "  }\n",
              "\n",
              "  @keyframes spin {\n",
              "    0% {\n",
              "      border-color: transparent;\n",
              "      border-bottom-color: var(--fill-color);\n",
              "      border-left-color: var(--fill-color);\n",
              "    }\n",
              "    20% {\n",
              "      border-color: transparent;\n",
              "      border-left-color: var(--fill-color);\n",
              "      border-top-color: var(--fill-color);\n",
              "    }\n",
              "    30% {\n",
              "      border-color: transparent;\n",
              "      border-left-color: var(--fill-color);\n",
              "      border-top-color: var(--fill-color);\n",
              "      border-right-color: var(--fill-color);\n",
              "    }\n",
              "    40% {\n",
              "      border-color: transparent;\n",
              "      border-right-color: var(--fill-color);\n",
              "      border-top-color: var(--fill-color);\n",
              "    }\n",
              "    60% {\n",
              "      border-color: transparent;\n",
              "      border-right-color: var(--fill-color);\n",
              "    }\n",
              "    80% {\n",
              "      border-color: transparent;\n",
              "      border-right-color: var(--fill-color);\n",
              "      border-bottom-color: var(--fill-color);\n",
              "    }\n",
              "    90% {\n",
              "      border-color: transparent;\n",
              "      border-bottom-color: var(--fill-color);\n",
              "    }\n",
              "  }\n",
              "</style>\n",
              "\n",
              "  <script>\n",
              "    async function quickchart(key) {\n",
              "      const quickchartButtonEl =\n",
              "        document.querySelector('#' + key + ' button');\n",
              "      quickchartButtonEl.disabled = true;  // To prevent multiple clicks.\n",
              "      quickchartButtonEl.classList.add('colab-df-spinner');\n",
              "      try {\n",
              "        const charts = await google.colab.kernel.invokeFunction(\n",
              "            'suggestCharts', [key], {});\n",
              "      } catch (error) {\n",
              "        console.error('Error during call to suggestCharts:', error);\n",
              "      }\n",
              "      quickchartButtonEl.classList.remove('colab-df-spinner');\n",
              "      quickchartButtonEl.classList.add('colab-df-quickchart-complete');\n",
              "    }\n",
              "    (() => {\n",
              "      let quickchartButtonEl =\n",
              "        document.querySelector('#df-c225183f-e08f-4f17-b324-907e5b83f224 button');\n",
              "      quickchartButtonEl.style.display =\n",
              "        google.colab.kernel.accessAllowed ? 'block' : 'none';\n",
              "    })();\n",
              "  </script>\n",
              "</div>\n",
              "    </div>\n",
              "  </div>\n"
            ]
          },
          "metadata": {},
          "execution_count": 98
        }
      ],
      "source": [
        "# First few rows of the dataframe\n",
        "\n",
        "df_trip.head()"
      ]
    },
    {
      "cell_type": "code",
      "execution_count": 99,
      "metadata": {
        "colab": {
          "base_uri": "https://localhost:8080/",
          "height": 494
        },
        "id": "V43568KZmZXp",
        "outputId": "384d4b8f-92f5-454f-c265-ec56c2e56fd5"
      },
      "outputs": [
        {
          "output_type": "display_data",
          "data": {
            "text/plain": [
              "<Figure size 1200x600 with 1 Axes>"
            ],
            "image/png": "[encoded data removed]"
          },
          "metadata": {}
        }
      ],
      "source": [
        "# Visualizing the distribution of length of the reviews\n",
        "\n",
        "df_trip['review_length'] = df_trip['Review'].apply(len)\n",
        "\n",
        "plt.figure(figsize=(12, 6))\n",
        "sns.histplot(df_trip['review_length'], bins=50)\n",
        "plt.title('Distribution of Review Length')\n",
        "plt.show()"
      ]
    },
    {
      "cell_type": "code",
      "execution_count": 100,
      "metadata": {
        "colab": {
          "base_uri": "https://localhost:8080/"
        },
        "id": "KThAhifJqv66",
        "outputId": "0fcf75b1-d4d0-4346-8ea9-7f47162678c6"
      },
      "outputs": [
        {
          "output_type": "execute_result",
          "data": {
            "text/plain": [
              "count    10000.000000\n",
              "mean       730.082200\n",
              "std        699.132521\n",
              "min         44.000000\n",
              "25%        340.750000\n",
              "50%        540.000000\n",
              "75%        859.000000\n",
              "max      10420.000000\n",
              "Name: review_length, dtype: float64"
            ]
          },
          "metadata": {},
          "execution_count": 100
        }
      ],
      "source": [
        "df_trip[\"review_length\"].describe()"
      ]
    },
    {
      "cell_type": "code",
      "execution_count": 101,
      "metadata": {
        "colab": {
          "base_uri": "https://localhost:8080/",
          "height": 472
        },
        "id": "iNy8tMYDlqDM",
        "outputId": "ffc13918-4616-4f74-a41a-c2be94271016"
      },
      "outputs": [
        {
          "output_type": "display_data",
          "data": {
            "text/plain": [
              "<Figure size 640x480 with 1 Axes>"
            ],
            "image/png": "[encoded data removed]"
          },
          "metadata": {}
        }
      ],
      "source": [
        "# Distribution of Labels\n",
        "\n",
        "sns.countplot(x='Rating', data=df_trip)\n",
        "plt.title('Distribution of Labels')\n",
        "plt.show()"
      ]
    },
    {
      "cell_type": "code",
      "execution_count": 102,
      "metadata": {
        "colab": {
          "base_uri": "https://localhost:8080/"
        },
        "id": "17zQisxGlp28",
        "outputId": "674bb53b-3aad-483b-91f2-7e0b08b9a3b8"
      },
      "outputs": [
        {
          "output_type": "stream",
          "name": "stdout",
          "text": [
            "         count        mean         std   min     25%    50%     75%      max\n",
            "Rating                                                                      \n",
            "1        687.0  775.365357  718.289123  77.0  346.50  553.0  953.00   6511.0\n",
            "2        828.0  853.996377  743.229338  74.0  411.75  643.5  998.50   7802.0\n",
            "3       1108.0  792.102888  732.871652  55.0  374.75  590.5  929.50   9339.0\n",
            "4       2941.0  745.359062  734.636714  61.0  335.00  544.0  883.00   9712.0\n",
            "5       4436.0  674.320559  648.036990  44.0  324.00  503.5  788.25  10420.0\n"
          ]
        }
      ],
      "source": [
        "# Group by labels and describe review length statistics\n",
        "\n",
        "print(df_trip.groupby('Rating')['review_length'].describe())"
      ]
    },
    {
      "cell_type": "markdown",
      "metadata": {
        "id": "fvtz__OUn0MM"
      },
      "source": [
        "*Sci-Fi Data*"
      ]
    },
    {
      "cell_type": "code",
      "execution_count": 103,
      "metadata": {
        "colab": {
          "base_uri": "https://localhost:8080/"
        },
        "id": "CyM0v22ZqCjf",
        "outputId": "2015e9c6-5423-40ca-e52d-6067219d7fdd"
      },
      "outputs": [
        {
          "output_type": "stream",
          "name": "stdout",
          "text": [
            "<class 'pandas.core.frame.DataFrame'>\n",
            "RangeIndex: 834557 entries, 0 to 834556\n",
            "Data columns (total 3 columns):\n",
            " #   Column             Non-Null Count   Dtype \n",
            "---  ------             --------------   ----- \n",
            " 0   text               834557 non-null  object\n",
            " 1   Preprocessed Text  834557 non-null  object\n",
            " 2   text_length        834557 non-null  int64 \n",
            "dtypes: int64(1), object(2)\n",
            "memory usage: 19.1+ MB\n"
          ]
        }
      ],
      "source": [
        "# Info about the dataset\n",
        "\n",
        "df_scifi.info()"
      ]
    },
    {
      "cell_type": "code",
      "execution_count": 104,
      "metadata": {
        "colab": {
          "base_uri": "https://localhost:8080/",
          "height": 206
        },
        "id": "86ziMyFDnvim",
        "outputId": "3e8969d6-b5e7-43f4-cac1-88411c4aaffd"
      },
      "outputs": [
        {
          "output_type": "execute_result",
          "data": {
            "text/plain": [
              "                                                text  \\\n",
              "0  MARCH # All Stories New and Complete Publisher...   \n",
              "1                                       Volume #, No   \n",
              "2                                                  #   \n",
              "3       Copyright # by Quinn Publishing Company, Inc   \n",
              "4  Application for Entry' as Second Class matter ...   \n",
              "\n",
              "                                   Preprocessed Text  text_length  \n",
              "0  march stori new complet publish editor publish...          134  \n",
              "1                                              volum           12  \n",
              "2                                                               1  \n",
              "3                copyright quinn publish compani inc           44  \n",
              "4  applic entri second class matter post offic bu...           88  "
            ],
            "text/html": [
              "\n",
              "  <div id=\"df-4f815abb-ec7f-41aa-a8f9-367697d1b8ad\" class=\"colab-df-container\">\n",
              "    <div>\n",
              "<style scoped>\n",
              "    .dataframe tbody tr th:only-of-type {\n",
              "        vertical-align: middle;\n",
              "    }\n",
              "\n",
              "    .dataframe tbody tr th {\n",
              "        vertical-align: top;\n",
              "    }\n",
              "\n",
              "    .dataframe thead th {\n",
              "        text-align: right;\n",
              "    }\n",
              "</style>\n",
              "<table border=\"1\" class=\"dataframe\">\n",
              "  <thead>\n",
              "    <tr style=\"text-align: right;\">\n",
              "      <th></th>\n",
              "      <th>text</th>\n",
              "      <th>Preprocessed Text</th>\n",
              "      <th>text_length</th>\n",
              "    </tr>\n",
              "  </thead>\n",
              "  <tbody>\n",
              "    <tr>\n",
              "      <th>0</th>\n",
              "      <td>MARCH # All Stories New and Complete Publisher...</td>\n",
              "      <td>march stori new complet publish editor publish...</td>\n",
              "      <td>134</td>\n",
              "    </tr>\n",
              "    <tr>\n",
              "      <th>1</th>\n",
              "      <td>Volume #, No</td>\n",
              "      <td>volum</td>\n",
              "      <td>12</td>\n",
              "    </tr>\n",
              "    <tr>\n",
              "      <th>2</th>\n",
              "      <td>#</td>\n",
              "      <td></td>\n",
              "      <td>1</td>\n",
              "    </tr>\n",
              "    <tr>\n",
              "      <th>3</th>\n",
              "      <td>Copyright # by Quinn Publishing Company, Inc</td>\n",
              "      <td>copyright quinn publish compani inc</td>\n",
              "      <td>44</td>\n",
              "    </tr>\n",
              "    <tr>\n",
              "      <th>4</th>\n",
              "      <td>Application for Entry' as Second Class matter ...</td>\n",
              "      <td>applic entri second class matter post offic bu...</td>\n",
              "      <td>88</td>\n",
              "    </tr>\n",
              "  </tbody>\n",
              "</table>\n",
              "</div>\n",
              "    <div class=\"colab-df-buttons\">\n",
              "\n",
              "  <div class=\"colab-df-container\">\n",
              "    <button class=\"colab-df-convert\" onclick=\"convertToInteractive('df-4f815abb-ec7f-41aa-a8f9-367697d1b8ad')\"\n",
              "            title=\"Convert this dataframe to an interactive table.\"\n",
              "            style=\"display:none;\">\n",
              "\n",
              "  <svg xmlns=\"http://www.w3.org/2000/svg\" height=\"24px\" viewBox=\"0 -960 960 960\">\n",
              "    <path d=\"M120-120v-720h720v720H120Zm60-500h600v-160H180v160Zm220 220h160v-160H400v160Zm0 220h160v-160H400v160ZM180-400h160v-160H180v160Zm440 0h160v-160H620v160ZM180-180h160v-160H180v160Zm440 0h160v-160H620v160Z\"/>\n",
              "  </svg>\n",
              "    </button>\n",
              "\n",
              "  <style>\n",
              "    .colab-df-container {\n",
              "      display:flex;\n",
              "      gap: 12px;\n",
              "    }\n",
              "\n",
              "    .colab-df-convert {\n",
              "      background-color: #E8F0FE;\n",
              "      border: none;\n",
              "      border-radius: 50%;\n",
              "      cursor: pointer;\n",
              "      display: none;\n",
              "      fill: #1967D2;\n",
              "      height: 32px;\n",
              "      padding: 0 0 0 0;\n",
              "      width: 32px;\n",
              "    }\n",
              "\n",
              "    .colab-df-convert:hover {\n",
              "      background-color: #E2EBFA;\n",
              "      box-shadow: 0px 1px 2px rgba(60, 64, 67, 0.3), 0px 1px 3px 1px rgba(60, 64, 67, 0.15);\n",
              "      fill: #174EA6;\n",
              "    }\n",
              "\n",
              "    .colab-df-buttons div {\n",
              "      margin-bottom: 4px;\n",
              "    }\n",
              "\n",
              "    [theme=dark] .colab-df-convert {\n",
              "      background-color: #3B4455;\n",
              "      fill: #D2E3FC;\n",
              "    }\n",
              "\n",
              "    [theme=dark] .colab-df-convert:hover {\n",
              "      background-color: #434B5C;\n",
              "      box-shadow: 0px 1px 3px 1px rgba(0, 0, 0, 0.15);\n",
              "      filter: drop-shadow(0px 1px 2px rgba(0, 0, 0, 0.3));\n",
              "      fill: #FFFFFF;\n",
              "    }\n",
              "  </style>\n",
              "\n",
              "    <script>\n",
              "      const buttonEl =\n",
              "        document.querySelector('#df-4f815abb-ec7f-41aa-a8f9-367697d1b8ad button.colab-df-convert');\n",
              "      buttonEl.style.display =\n",
              "        google.colab.kernel.accessAllowed ? 'block' : 'none';\n",
              "\n",
              "      async function convertToInteractive(key) {\n",
              "        const element = document.querySelector('#df-4f815abb-ec7f-41aa-a8f9-367697d1b8ad');\n",
              "        const dataTable =\n",
              "          await google.colab.kernel.invokeFunction('convertToInteractive',\n",
              "                                                    [key], {});\n",
              "        if (!dataTable) return;\n",
              "\n",
              "        const docLinkHtml = 'Like what you see? Visit the ' +\n",
              "          '<a target=\"_blank\" href=https://colab.research.google.com/notebooks/data_table.ipynb>data table notebook</a>'\n",
              "          + ' to learn more about interactive tables.';\n",
              "        element.innerHTML = '';\n",
              "        dataTable['output_type'] = 'display_data';\n",
              "        await google.colab.output.renderOutput(dataTable, element);\n",
              "        const docLink = document.createElement('div');\n",
              "        docLink.innerHTML = docLinkHtml;\n",
              "        element.appendChild(docLink);\n",
              "      }\n",
              "    </script>\n",
              "  </div>\n",
              "\n",
              "\n",
              "<div id=\"df-b7a81f4b-4809-4023-b93d-94d8b05e57ee\">\n",
              "  <button class=\"colab-df-quickchart\" onclick=\"quickchart('df-b7a81f4b-4809-4023-b93d-94d8b05e57ee')\"\n",
              "            title=\"Suggest charts.\"\n",
              "            style=\"display:none;\">\n",
              "\n",
              "<svg xmlns=\"http://www.w3.org/2000/svg\" height=\"24px\"viewBox=\"0 0 24 24\"\n",
              "     width=\"24px\">\n",
              "    <g>\n",
              "        <path d=\"M19 3H5c-1.1 0-2 .9-2 2v14c0 1.1.9 2 2 2h14c1.1 0 2-.9 2-2V5c0-1.1-.9-2-2-2zM9 17H7v-7h2v7zm4 0h-2V7h2v10zm4 0h-2v-4h2v4z\"/>\n",
              "    </g>\n",
              "</svg>\n",
              "  </button>\n",
              "\n",
              "<style>\n",
              "  .colab-df-quickchart {\n",
              "      --bg-color: #E8F0FE;\n",
              "      --fill-color: #1967D2;\n",
              "      --hover-bg-color: #E2EBFA;\n",
              "      --hover-fill-color: #174EA6;\n",
              "      --disabled-fill-color: #AAA;\n",
              "      --disabled-bg-color: #DDD;\n",
              "  }\n",
              "\n",
              "  [theme=dark] .colab-df-quickchart {\n",
              "      --bg-color: #3B4455;\n",
              "      --fill-color: #D2E3FC;\n",
              "      --hover-bg-color: #434B5C;\n",
              "      --hover-fill-color: #FFFFFF;\n",
              "      --disabled-bg-color: #3B4455;\n",
              "      --disabled-fill-color: #666;\n",
              "  }\n",
              "\n",
              "  .colab-df-quickchart {\n",
              "    background-color: var(--bg-color);\n",
              "    border: none;\n",
              "    border-radius: 50%;\n",
              "    cursor: pointer;\n",
              "    display: none;\n",
              "    fill: var(--fill-color);\n",
              "    height: 32px;\n",
              "    padding: 0;\n",
              "    width: 32px;\n",
              "  }\n",
              "\n",
              "  .colab-df-quickchart:hover {\n",
              "    background-color: var(--hover-bg-color);\n",
              "    box-shadow: 0 1px 2px rgba(60, 64, 67, 0.3), 0 1px 3px 1px rgba(60, 64, 67, 0.15);\n",
              "    fill: var(--button-hover-fill-color);\n",
              "  }\n",
              "\n",
              "  .colab-df-quickchart-complete:disabled,\n",
              "  .colab-df-quickchart-complete:disabled:hover {\n",
              "    background-color: var(--disabled-bg-color);\n",
              "    fill: var(--disabled-fill-color);\n",
              "    box-shadow: none;\n",
              "  }\n",
              "\n",
              "  .colab-df-spinner {\n",
              "    border: 2px solid var(--fill-color);\n",
              "    border-color: transparent;\n",
              "    border-bottom-color: var(--fill-color);\n",
              "    animation:\n",
              "      spin 1s steps(1) infinite;\n",
              "  }\n",
              "\n",
              "  @keyframes spin {\n",
              "    0% {\n",
              "      border-color: transparent;\n",
              "      border-bottom-color: var(--fill-color);\n",
              "      border-left-color: var(--fill-color);\n",
              "    }\n",
              "    20% {\n",
              "      border-color: transparent;\n",
              "      border-left-color: var(--fill-color);\n",
              "      border-top-color: var(--fill-color);\n",
              "    }\n",
              "    30% {\n",
              "      border-color: transparent;\n",
              "      border-left-color: var(--fill-color);\n",
              "      border-top-color: var(--fill-color);\n",
              "      border-right-color: var(--fill-color);\n",
              "    }\n",
              "    40% {\n",
              "      border-color: transparent;\n",
              "      border-right-color: var(--fill-color);\n",
              "      border-top-color: var(--fill-color);\n",
              "    }\n",
              "    60% {\n",
              "      border-color: transparent;\n",
              "      border-right-color: var(--fill-color);\n",
              "    }\n",
              "    80% {\n",
              "      border-color: transparent;\n",
              "      border-right-color: var(--fill-color);\n",
              "      border-bottom-color: var(--fill-color);\n",
              "    }\n",
              "    90% {\n",
              "      border-color: transparent;\n",
              "      border-bottom-color: var(--fill-color);\n",
              "    }\n",
              "  }\n",
              "</style>\n",
              "\n",
              "  <script>\n",
              "    async function quickchart(key) {\n",
              "      const quickchartButtonEl =\n",
              "        document.querySelector('#' + key + ' button');\n",
              "      quickchartButtonEl.disabled = true;  // To prevent multiple clicks.\n",
              "      quickchartButtonEl.classList.add('colab-df-spinner');\n",
              "      try {\n",
              "        const charts = await google.colab.kernel.invokeFunction(\n",
              "            'suggestCharts', [key], {});\n",
              "      } catch (error) {\n",
              "        console.error('Error during call to suggestCharts:', error);\n",
              "      }\n",
              "      quickchartButtonEl.classList.remove('colab-df-spinner');\n",
              "      quickchartButtonEl.classList.add('colab-df-quickchart-complete');\n",
              "    }\n",
              "    (() => {\n",
              "      let quickchartButtonEl =\n",
              "        document.querySelector('#df-b7a81f4b-4809-4023-b93d-94d8b05e57ee button');\n",
              "      quickchartButtonEl.style.display =\n",
              "        google.colab.kernel.accessAllowed ? 'block' : 'none';\n",
              "    })();\n",
              "  </script>\n",
              "</div>\n",
              "    </div>\n",
              "  </div>\n"
            ]
          },
          "metadata": {},
          "execution_count": 104
        }
      ],
      "source": [
        "# First few rows of the dataframe\n",
        "\n",
        "df_scifi.head()"
      ]
    },
    {
      "cell_type": "code",
      "execution_count": 105,
      "metadata": {
        "colab": {
          "base_uri": "https://localhost:8080/",
          "height": 487
        },
        "id": "B2BXCcJZnvdR",
        "outputId": "2585d11a-1aba-4f87-e3ae-2257ce617852"
      },
      "outputs": [
        {
          "output_type": "display_data",
          "data": {
            "text/plain": [
              "<Figure size 1200x600 with 1 Axes>"
            ],
            "image/png": "[encoded data removed]"
          },
          "metadata": {}
        }
      ],
      "source": [
        "# Visualizing the distribution of length of the reviews\n",
        "\n",
        "df_scifi['text_length'] = df_scifi['text'].apply(len)\n",
        "\n",
        "plt.figure(figsize=(12, 6))\n",
        "sns.histplot(df_scifi['text_length'], bins=50, color='red')\n",
        "plt.title('Distribution of Review Length')\n",
        "plt.show()"
      ]
    },
    {
      "cell_type": "code",
      "execution_count": 106,
      "metadata": {
        "colab": {
          "base_uri": "https://localhost:8080/"
        },
        "id": "GQR5bBP8qqaT",
        "outputId": "b0f3848d-79f9-4d5c-dbf9-c8e6d3cb6d99"
      },
      "outputs": [
        {
          "output_type": "execute_result",
          "data": {
            "text/plain": [
              "count    834557.000000\n",
              "mean         82.181900\n",
              "std          63.603062\n",
              "min           0.000000\n",
              "25%          37.000000\n",
              "50%          67.000000\n",
              "75%         110.000000\n",
              "max        1515.000000\n",
              "Name: text_length, dtype: float64"
            ]
          },
          "metadata": {},
          "execution_count": 106
        }
      ],
      "source": [
        "df_scifi[\"text_length\"].describe()"
      ]
    },
    {
      "cell_type": "markdown",
      "metadata": {
        "id": "Y6inuPDTrGq7"
      },
      "source": [
        "***DATA PREPROCESSING***"
      ]
    },
    {
      "cell_type": "code",
      "execution_count": 107,
      "metadata": {
        "id": "pJBHLAJ_sKVm"
      },
      "outputs": [],
      "source": [
        "def preprocess_review(review):\n",
        "  # Convert all words to lower case\n",
        "  review = review.lower()\n",
        "\n",
        "  # Remove all punctuations\n",
        "  review = review.translate(str.maketrans('', '', string.punctuation))\n",
        "\n",
        "  # Remove all stop words\n",
        "  # Tokenize the sentence\n",
        "  tokens = nltk.word_tokenize(review)\n",
        "  # Remove stop words\n",
        "  clean_tokens = [token for token in tokens if not token.lower() in stop_words]\n",
        "  # Join the tokens back into a sentence\n",
        "  review = ' '.join(clean_tokens)\n",
        "\n",
        "  # Removing HTML Tags, URLs and Website Links\n",
        "  # Removing Website Links\n",
        "  temp_text = review.split()\n",
        "\n",
        "  for i in temp_text:\n",
        "    if i[-4:] == \".com\" or i[:4] == \"www.\":\n",
        "      temp_text.remove(i)\n",
        "\n",
        "  review = ' '.join(temp_text)\n",
        "\n",
        "  # Remove HTML tags\n",
        "  clean_text = re.sub('<[^<]+?>', '', review)\n",
        "\n",
        "  # Remove URLs\n",
        "  clean_text = re.sub(r'http\\S+', '', clean_text)\n",
        "\n",
        "  review = clean_text\n",
        "\n",
        "  # Remove numbers\n",
        "  review = re.sub(r'\\d+', '', review)\n",
        "\n",
        "  # Deemojize Emojis\n",
        "  review = emoji.demojize(review)\n",
        "\n",
        "  # Remove mentions\n",
        "  review = re.sub(r'@\\w+', '', review)\n",
        "\n",
        "  # Stemming\n",
        "  # Tokenize the sentence\n",
        "  tokens = nltk.word_tokenize(review)\n",
        "\n",
        "  # Stem the tokens\n",
        "  stemmed_tokens = [stemmer.stem(token) for token in tokens]\n",
        "\n",
        "  # Join the stemmed tokens back into a sentence\n",
        "  review = ' '.join(stemmed_tokens)\n",
        "\n",
        "  return review"
      ]
    },
    {
      "cell_type": "markdown",
      "metadata": {
        "id": "QDn89Y_dvb9S"
      },
      "source": [
        "***PREPROCESSING THE DATASETS***"
      ]
    },
    {
      "cell_type": "markdown",
      "metadata": {
        "id": "8KPZWL22ynwG"
      },
      "source": [
        "*Trip Advisor Hotel Reviews Data*"
      ]
    },
    {
      "cell_type": "code",
      "execution_count": 108,
      "metadata": {
        "id": "twZhX1YusKPT"
      },
      "outputs": [],
      "source": [
        "df_trip[\"Preprocessed Reviews\"] = df_trip[\"Review\"].apply(preprocess_review)"
      ]
    },
    {
      "cell_type": "code",
      "execution_count": 109,
      "metadata": {
        "colab": {
          "base_uri": "https://localhost:8080/"
        },
        "id": "hKw5ci2syL6F",
        "outputId": "2bf65c08-67a0-49e1-9a97-ed14ebe9cb8c"
      },
      "outputs": [
        {
          "output_type": "execute_result",
          "data": {
            "text/plain": [
              "['Review', 'Rating', 'review_length', 'Preprocessed Reviews']"
            ]
          },
          "metadata": {},
          "execution_count": 109
        }
      ],
      "source": [
        "cols = list(df_trip.columns.values)\n",
        "cols"
      ]
    },
    {
      "cell_type": "code",
      "execution_count": 110,
      "metadata": {
        "id": "SMAfVx0eyLuw"
      },
      "outputs": [],
      "source": [
        "df_trip = df_trip[['Review', 'Preprocessed Reviews', 'Rating', 'review_length']]"
      ]
    },
    {
      "cell_type": "code",
      "execution_count": 111,
      "metadata": {
        "colab": {
          "base_uri": "https://localhost:8080/",
          "height": 206
        },
        "id": "zPlaLpipyLrN",
        "outputId": "3c598191-9bab-421e-93d3-c13257af62d1"
      },
      "outputs": [
        {
          "output_type": "execute_result",
          "data": {
            "text/plain": [
              "                                              Review  \\\n",
              "0  fantastic service large hotel caters business ...   \n",
              "1  great hotel modern hotel good location, locate...   \n",
              "2  3 star plus glasgowjust got 30th november 4 da...   \n",
              "3  nice stayed hotel nov 19-23. great little bout...   \n",
              "4  great place wonderful hotel ideally located me...   \n",
              "\n",
              "                                Preprocessed Reviews  Rating  review_length  \n",
              "0  fantast servic larg hotel cater busi corpor se...       5            371  \n",
              "1  great hotel modern hotel good locat locat minu...       4            297  \n",
              "2  star plu glasgowjust got th novemb day visit g...       4            319  \n",
              "3  nice stay hotel nov great littl boutiqu hotel ...       4            425  \n",
              "4  great place wonder hotel ideal locat metro sta...       5            285  "
            ],
            "text/html": [
              "\n",
              "  <div id=\"df-112cf1e6-5ebd-4ee3-b040-e0b53a5b7f59\" class=\"colab-df-container\">\n",
              "    <div>\n",
              "<style scoped>\n",
              "    .dataframe tbody tr th:only-of-type {\n",
              "        vertical-align: middle;\n",
              "    }\n",
              "\n",
              "    .dataframe tbody tr th {\n",
              "        vertical-align: top;\n",
              "    }\n",
              "\n",
              "    .dataframe thead th {\n",
              "        text-align: right;\n",
              "    }\n",
              "</style>\n",
              "<table border=\"1\" class=\"dataframe\">\n",
              "  <thead>\n",
              "    <tr style=\"text-align: right;\">\n",
              "      <th></th>\n",
              "      <th>Review</th>\n",
              "      <th>Preprocessed Reviews</th>\n",
              "      <th>Rating</th>\n",
              "      <th>review_length</th>\n",
              "    </tr>\n",
              "  </thead>\n",
              "  <tbody>\n",
              "    <tr>\n",
              "      <th>0</th>\n",
              "      <td>fantastic service large hotel caters business ...</td>\n",
              "      <td>fantast servic larg hotel cater busi corpor se...</td>\n",
              "      <td>5</td>\n",
              "      <td>371</td>\n",
              "    </tr>\n",
              "    <tr>\n",
              "      <th>1</th>\n",
              "      <td>great hotel modern hotel good location, locate...</td>\n",
              "      <td>great hotel modern hotel good locat locat minu...</td>\n",
              "      <td>4</td>\n",
              "      <td>297</td>\n",
              "    </tr>\n",
              "    <tr>\n",
              "      <th>2</th>\n",
              "      <td>3 star plus glasgowjust got 30th november 4 da...</td>\n",
              "      <td>star plu glasgowjust got th novemb day visit g...</td>\n",
              "      <td>4</td>\n",
              "      <td>319</td>\n",
              "    </tr>\n",
              "    <tr>\n",
              "      <th>3</th>\n",
              "      <td>nice stayed hotel nov 19-23. great little bout...</td>\n",
              "      <td>nice stay hotel nov great littl boutiqu hotel ...</td>\n",
              "      <td>4</td>\n",
              "      <td>425</td>\n",
              "    </tr>\n",
              "    <tr>\n",
              "      <th>4</th>\n",
              "      <td>great place wonderful hotel ideally located me...</td>\n",
              "      <td>great place wonder hotel ideal locat metro sta...</td>\n",
              "      <td>5</td>\n",
              "      <td>285</td>\n",
              "    </tr>\n",
              "  </tbody>\n",
              "</table>\n",
              "</div>\n",
              "    <div class=\"colab-df-buttons\">\n",
              "\n",
              "  <div class=\"colab-df-container\">\n",
              "    <button class=\"colab-df-convert\" onclick=\"convertToInteractive('df-112cf1e6-5ebd-4ee3-b040-e0b53a5b7f59')\"\n",
              "            title=\"Convert this dataframe to an interactive table.\"\n",
              "            style=\"display:none;\">\n",
              "\n",
              "  <svg xmlns=\"http://www.w3.org/2000/svg\" height=\"24px\" viewBox=\"0 -960 960 960\">\n",
              "    <path d=\"M120-120v-720h720v720H120Zm60-500h600v-160H180v160Zm220 220h160v-160H400v160Zm0 220h160v-160H400v160ZM180-400h160v-160H180v160Zm440 0h160v-160H620v160ZM180-180h160v-160H180v160Zm440 0h160v-160H620v160Z\"/>\n",
              "  </svg>\n",
              "    </button>\n",
              "\n",
              "  <style>\n",
              "    .colab-df-container {\n",
              "      display:flex;\n",
              "      gap: 12px;\n",
              "    }\n",
              "\n",
              "    .colab-df-convert {\n",
              "      background-color: #E8F0FE;\n",
              "      border: none;\n",
              "      border-radius: 50%;\n",
              "      cursor: pointer;\n",
              "      display: none;\n",
              "      fill: #1967D2;\n",
              "      height: 32px;\n",
              "      padding: 0 0 0 0;\n",
              "      width: 32px;\n",
              "    }\n",
              "\n",
              "    .colab-df-convert:hover {\n",
              "      background-color: #E2EBFA;\n",
              "      box-shadow: 0px 1px 2px rgba(60, 64, 67, 0.3), 0px 1px 3px 1px rgba(60, 64, 67, 0.15);\n",
              "      fill: #174EA6;\n",
              "    }\n",
              "\n",
              "    .colab-df-buttons div {\n",
              "      margin-bottom: 4px;\n",
              "    }\n",
              "\n",
              "    [theme=dark] .colab-df-convert {\n",
              "      background-color: #3B4455;\n",
              "      fill: #D2E3FC;\n",
              "    }\n",
              "\n",
              "    [theme=dark] .colab-df-convert:hover {\n",
              "      background-color: #434B5C;\n",
              "      box-shadow: 0px 1px 3px 1px rgba(0, 0, 0, 0.15);\n",
              "      filter: drop-shadow(0px 1px 2px rgba(0, 0, 0, 0.3));\n",
              "      fill: #FFFFFF;\n",
              "    }\n",
              "  </style>\n",
              "\n",
              "    <script>\n",
              "      const buttonEl =\n",
              "        document.querySelector('#df-112cf1e6-5ebd-4ee3-b040-e0b53a5b7f59 button.colab-df-convert');\n",
              "      buttonEl.style.display =\n",
              "        google.colab.kernel.accessAllowed ? 'block' : 'none';\n",
              "\n",
              "      async function convertToInteractive(key) {\n",
              "        const element = document.querySelector('#df-112cf1e6-5ebd-4ee3-b040-e0b53a5b7f59');\n",
              "        const dataTable =\n",
              "          await google.colab.kernel.invokeFunction('convertToInteractive',\n",
              "                                                    [key], {});\n",
              "        if (!dataTable) return;\n",
              "\n",
              "        const docLinkHtml = 'Like what you see? Visit the ' +\n",
              "          '<a target=\"_blank\" href=https://colab.research.google.com/notebooks/data_table.ipynb>data table notebook</a>'\n",
              "          + ' to learn more about interactive tables.';\n",
              "        element.innerHTML = '';\n",
              "        dataTable['output_type'] = 'display_data';\n",
              "        await google.colab.output.renderOutput(dataTable, element);\n",
              "        const docLink = document.createElement('div');\n",
              "        docLink.innerHTML = docLinkHtml;\n",
              "        element.appendChild(docLink);\n",
              "      }\n",
              "    </script>\n",
              "  </div>\n",
              "\n",
              "\n",
              "<div id=\"df-c66b4373-70f0-4848-85c5-5c18d2acf379\">\n",
              "  <button class=\"colab-df-quickchart\" onclick=\"quickchart('df-c66b4373-70f0-4848-85c5-5c18d2acf379')\"\n",
              "            title=\"Suggest charts.\"\n",
              "            style=\"display:none;\">\n",
              "\n",
              "<svg xmlns=\"http://www.w3.org/2000/svg\" height=\"24px\"viewBox=\"0 0 24 24\"\n",
              "     width=\"24px\">\n",
              "    <g>\n",
              "        <path d=\"M19 3H5c-1.1 0-2 .9-2 2v14c0 1.1.9 2 2 2h14c1.1 0 2-.9 2-2V5c0-1.1-.9-2-2-2zM9 17H7v-7h2v7zm4 0h-2V7h2v10zm4 0h-2v-4h2v4z\"/>\n",
              "    </g>\n",
              "</svg>\n",
              "  </button>\n",
              "\n",
              "<style>\n",
              "  .colab-df-quickchart {\n",
              "      --bg-color: #E8F0FE;\n",
              "      --fill-color: #1967D2;\n",
              "      --hover-bg-color: #E2EBFA;\n",
              "      --hover-fill-color: #174EA6;\n",
              "      --disabled-fill-color: #AAA;\n",
              "      --disabled-bg-color: #DDD;\n",
              "  }\n",
              "\n",
              "  [theme=dark] .colab-df-quickchart {\n",
              "      --bg-color: #3B4455;\n",
              "      --fill-color: #D2E3FC;\n",
              "      --hover-bg-color: #434B5C;\n",
              "      --hover-fill-color: #FFFFFF;\n",
              "      --disabled-bg-color: #3B4455;\n",
              "      --disabled-fill-color: #666;\n",
              "  }\n",
              "\n",
              "  .colab-df-quickchart {\n",
              "    background-color: var(--bg-color);\n",
              "    border: none;\n",
              "    border-radius: 50%;\n",
              "    cursor: pointer;\n",
              "    display: none;\n",
              "    fill: var(--fill-color);\n",
              "    height: 32px;\n",
              "    padding: 0;\n",
              "    width: 32px;\n",
              "  }\n",
              "\n",
              "  .colab-df-quickchart:hover {\n",
              "    background-color: var(--hover-bg-color);\n",
              "    box-shadow: 0 1px 2px rgba(60, 64, 67, 0.3), 0 1px 3px 1px rgba(60, 64, 67, 0.15);\n",
              "    fill: var(--button-hover-fill-color);\n",
              "  }\n",
              "\n",
              "  .colab-df-quickchart-complete:disabled,\n",
              "  .colab-df-quickchart-complete:disabled:hover {\n",
              "    background-color: var(--disabled-bg-color);\n",
              "    fill: var(--disabled-fill-color);\n",
              "    box-shadow: none;\n",
              "  }\n",
              "\n",
              "  .colab-df-spinner {\n",
              "    border: 2px solid var(--fill-color);\n",
              "    border-color: transparent;\n",
              "    border-bottom-color: var(--fill-color);\n",
              "    animation:\n",
              "      spin 1s steps(1) infinite;\n",
              "  }\n",
              "\n",
              "  @keyframes spin {\n",
              "    0% {\n",
              "      border-color: transparent;\n",
              "      border-bottom-color: var(--fill-color);\n",
              "      border-left-color: var(--fill-color);\n",
              "    }\n",
              "    20% {\n",
              "      border-color: transparent;\n",
              "      border-left-color: var(--fill-color);\n",
              "      border-top-color: var(--fill-color);\n",
              "    }\n",
              "    30% {\n",
              "      border-color: transparent;\n",
              "      border-left-color: var(--fill-color);\n",
              "      border-top-color: var(--fill-color);\n",
              "      border-right-color: var(--fill-color);\n",
              "    }\n",
              "    40% {\n",
              "      border-color: transparent;\n",
              "      border-right-color: var(--fill-color);\n",
              "      border-top-color: var(--fill-color);\n",
              "    }\n",
              "    60% {\n",
              "      border-color: transparent;\n",
              "      border-right-color: var(--fill-color);\n",
              "    }\n",
              "    80% {\n",
              "      border-color: transparent;\n",
              "      border-right-color: var(--fill-color);\n",
              "      border-bottom-color: var(--fill-color);\n",
              "    }\n",
              "    90% {\n",
              "      border-color: transparent;\n",
              "      border-bottom-color: var(--fill-color);\n",
              "    }\n",
              "  }\n",
              "</style>\n",
              "\n",
              "  <script>\n",
              "    async function quickchart(key) {\n",
              "      const quickchartButtonEl =\n",
              "        document.querySelector('#' + key + ' button');\n",
              "      quickchartButtonEl.disabled = true;  // To prevent multiple clicks.\n",
              "      quickchartButtonEl.classList.add('colab-df-spinner');\n",
              "      try {\n",
              "        const charts = await google.colab.kernel.invokeFunction(\n",
              "            'suggestCharts', [key], {});\n",
              "      } catch (error) {\n",
              "        console.error('Error during call to suggestCharts:', error);\n",
              "      }\n",
              "      quickchartButtonEl.classList.remove('colab-df-spinner');\n",
              "      quickchartButtonEl.classList.add('colab-df-quickchart-complete');\n",
              "    }\n",
              "    (() => {\n",
              "      let quickchartButtonEl =\n",
              "        document.querySelector('#df-c66b4373-70f0-4848-85c5-5c18d2acf379 button');\n",
              "      quickchartButtonEl.style.display =\n",
              "        google.colab.kernel.accessAllowed ? 'block' : 'none';\n",
              "    })();\n",
              "  </script>\n",
              "</div>\n",
              "    </div>\n",
              "  </div>\n"
            ]
          },
          "metadata": {},
          "execution_count": 111
        }
      ],
      "source": [
        "df_trip.head()"
      ]
    },
    {
      "cell_type": "markdown",
      "metadata": {
        "id": "Y4gG_-wCixzG"
      },
      "source": [
        "Sci-fi Data\n"
      ]
    },
    {
      "cell_type": "code",
      "execution_count": 13,
      "metadata": {
        "id": "QuSlCNe3i260"
      },
      "outputs": [],
      "source": [
        "df_scifi[\"Preprocessed Text\"] = df_scifi[\"text\"].apply(preprocess_review)"
      ]
    },
    {
      "cell_type": "code",
      "execution_count": 14,
      "metadata": {
        "colab": {
          "base_uri": "https://localhost:8080/"
        },
        "id": "J1LtA84HjMuU",
        "outputId": "7a093b00-960e-4ca2-f690-6de90fab418a"
      },
      "outputs": [
        {
          "output_type": "execute_result",
          "data": {
            "text/plain": [
              "['text', 'text_length', 'Preprocessed Text']"
            ]
          },
          "metadata": {},
          "execution_count": 14
        }
      ],
      "source": [
        "cols = list(df_scifi.columns.values)\n",
        "cols"
      ]
    },
    {
      "cell_type": "code",
      "execution_count": 15,
      "metadata": {
        "id": "w0x5J3p5kQxm"
      },
      "outputs": [],
      "source": [
        "df_scifi = df_scifi[['text', 'Preprocessed Text', 'text_length']]"
      ]
    },
    {
      "cell_type": "code",
      "execution_count": 16,
      "metadata": {
        "colab": {
          "base_uri": "https://localhost:8080/",
          "height": 206
        },
        "id": "-ds2yluUkbN5",
        "outputId": "490e7509-b3aa-459f-88a1-ec45439aa4a1"
      },
      "outputs": [
        {
          "output_type": "execute_result",
          "data": {
            "text/plain": [
              "                                                text  \\\n",
              "0  MARCH # All Stories New and Complete Publisher...   \n",
              "1                                       Volume #, No   \n",
              "2                                                  #   \n",
              "3       Copyright # by Quinn Publishing Company, Inc   \n",
              "4  Application for Entry' as Second Class matter ...   \n",
              "\n",
              "                                   Preprocessed Text  text_length  \n",
              "0  march stori new complet publish editor publish...          134  \n",
              "1                                              volum           12  \n",
              "2                                                               1  \n",
              "3                copyright quinn publish compani inc           44  \n",
              "4  applic entri second class matter post offic bu...           88  "
            ],
            "text/html": [
              "\n",
              "  <div id=\"df-de2ef76a-88ee-40a6-b949-6e962449308b\" class=\"colab-df-container\">\n",
              "    <div>\n",
              "<style scoped>\n",
              "    .dataframe tbody tr th:only-of-type {\n",
              "        vertical-align: middle;\n",
              "    }\n",
              "\n",
              "    .dataframe tbody tr th {\n",
              "        vertical-align: top;\n",
              "    }\n",
              "\n",
              "    .dataframe thead th {\n",
              "        text-align: right;\n",
              "    }\n",
              "</style>\n",
              "<table border=\"1\" class=\"dataframe\">\n",
              "  <thead>\n",
              "    <tr style=\"text-align: right;\">\n",
              "      <th></th>\n",
              "      <th>text</th>\n",
              "      <th>Preprocessed Text</th>\n",
              "      <th>text_length</th>\n",
              "    </tr>\n",
              "  </thead>\n",
              "  <tbody>\n",
              "    <tr>\n",
              "      <th>0</th>\n",
              "      <td>MARCH # All Stories New and Complete Publisher...</td>\n",
              "      <td>march stori new complet publish editor publish...</td>\n",
              "      <td>134</td>\n",
              "    </tr>\n",
              "    <tr>\n",
              "      <th>1</th>\n",
              "      <td>Volume #, No</td>\n",
              "      <td>volum</td>\n",
              "      <td>12</td>\n",
              "    </tr>\n",
              "    <tr>\n",
              "      <th>2</th>\n",
              "      <td>#</td>\n",
              "      <td></td>\n",
              "      <td>1</td>\n",
              "    </tr>\n",
              "    <tr>\n",
              "      <th>3</th>\n",
              "      <td>Copyright # by Quinn Publishing Company, Inc</td>\n",
              "      <td>copyright quinn publish compani inc</td>\n",
              "      <td>44</td>\n",
              "    </tr>\n",
              "    <tr>\n",
              "      <th>4</th>\n",
              "      <td>Application for Entry' as Second Class matter ...</td>\n",
              "      <td>applic entri second class matter post offic bu...</td>\n",
              "      <td>88</td>\n",
              "    </tr>\n",
              "  </tbody>\n",
              "</table>\n",
              "</div>\n",
              "    <div class=\"colab-df-buttons\">\n",
              "\n",
              "  <div class=\"colab-df-container\">\n",
              "    <button class=\"colab-df-convert\" onclick=\"convertToInteractive('df-de2ef76a-88ee-40a6-b949-6e962449308b')\"\n",
              "            title=\"Convert this dataframe to an interactive table.\"\n",
              "            style=\"display:none;\">\n",
              "\n",
              "  <svg xmlns=\"http://www.w3.org/2000/svg\" height=\"24px\" viewBox=\"0 -960 960 960\">\n",
              "    <path d=\"M120-120v-720h720v720H120Zm60-500h600v-160H180v160Zm220 220h160v-160H400v160Zm0 220h160v-160H400v160ZM180-400h160v-160H180v160Zm440 0h160v-160H620v160ZM180-180h160v-160H180v160Zm440 0h160v-160H620v160Z\"/>\n",
              "  </svg>\n",
              "    </button>\n",
              "\n",
              "  <style>\n",
              "    .colab-df-container {\n",
              "      display:flex;\n",
              "      gap: 12px;\n",
              "    }\n",
              "\n",
              "    .colab-df-convert {\n",
              "      background-color: #E8F0FE;\n",
              "      border: none;\n",
              "      border-radius: 50%;\n",
              "      cursor: pointer;\n",
              "      display: none;\n",
              "      fill: #1967D2;\n",
              "      height: 32px;\n",
              "      padding: 0 0 0 0;\n",
              "      width: 32px;\n",
              "    }\n",
              "\n",
              "    .colab-df-convert:hover {\n",
              "      background-color: #E2EBFA;\n",
              "      box-shadow: 0px 1px 2px rgba(60, 64, 67, 0.3), 0px 1px 3px 1px rgba(60, 64, 67, 0.15);\n",
              "      fill: #174EA6;\n",
              "    }\n",
              "\n",
              "    .colab-df-buttons div {\n",
              "      margin-bottom: 4px;\n",
              "    }\n",
              "\n",
              "    [theme=dark] .colab-df-convert {\n",
              "      background-color: #3B4455;\n",
              "      fill: #D2E3FC;\n",
              "    }\n",
              "\n",
              "    [theme=dark] .colab-df-convert:hover {\n",
              "      background-color: #434B5C;\n",
              "      box-shadow: 0px 1px 3px 1px rgba(0, 0, 0, 0.15);\n",
              "      filter: drop-shadow(0px 1px 2px rgba(0, 0, 0, 0.3));\n",
              "      fill: #FFFFFF;\n",
              "    }\n",
              "  </style>\n",
              "\n",
              "    <script>\n",
              "      const buttonEl =\n",
              "        document.querySelector('#df-de2ef76a-88ee-40a6-b949-6e962449308b button.colab-df-convert');\n",
              "      buttonEl.style.display =\n",
              "        google.colab.kernel.accessAllowed ? 'block' : 'none';\n",
              "\n",
              "      async function convertToInteractive(key) {\n",
              "        const element = document.querySelector('#df-de2ef76a-88ee-40a6-b949-6e962449308b');\n",
              "        const dataTable =\n",
              "          await google.colab.kernel.invokeFunction('convertToInteractive',\n",
              "                                                    [key], {});\n",
              "        if (!dataTable) return;\n",
              "\n",
              "        const docLinkHtml = 'Like what you see? Visit the ' +\n",
              "          '<a target=\"_blank\" href=https://colab.research.google.com/notebooks/data_table.ipynb>data table notebook</a>'\n",
              "          + ' to learn more about interactive tables.';\n",
              "        element.innerHTML = '';\n",
              "        dataTable['output_type'] = 'display_data';\n",
              "        await google.colab.output.renderOutput(dataTable, element);\n",
              "        const docLink = document.createElement('div');\n",
              "        docLink.innerHTML = docLinkHtml;\n",
              "        element.appendChild(docLink);\n",
              "      }\n",
              "    </script>\n",
              "  </div>\n",
              "\n",
              "\n",
              "<div id=\"df-4baa5d0c-173e-4aaa-af3b-9becfd8b75b6\">\n",
              "  <button class=\"colab-df-quickchart\" onclick=\"quickchart('df-4baa5d0c-173e-4aaa-af3b-9becfd8b75b6')\"\n",
              "            title=\"Suggest charts.\"\n",
              "            style=\"display:none;\">\n",
              "\n",
              "<svg xmlns=\"http://www.w3.org/2000/svg\" height=\"24px\"viewBox=\"0 0 24 24\"\n",
              "     width=\"24px\">\n",
              "    <g>\n",
              "        <path d=\"M19 3H5c-1.1 0-2 .9-2 2v14c0 1.1.9 2 2 2h14c1.1 0 2-.9 2-2V5c0-1.1-.9-2-2-2zM9 17H7v-7h2v7zm4 0h-2V7h2v10zm4 0h-2v-4h2v4z\"/>\n",
              "    </g>\n",
              "</svg>\n",
              "  </button>\n",
              "\n",
              "<style>\n",
              "  .colab-df-quickchart {\n",
              "      --bg-color: #E8F0FE;\n",
              "      --fill-color: #1967D2;\n",
              "      --hover-bg-color: #E2EBFA;\n",
              "      --hover-fill-color: #174EA6;\n",
              "      --disabled-fill-color: #AAA;\n",
              "      --disabled-bg-color: #DDD;\n",
              "  }\n",
              "\n",
              "  [theme=dark] .colab-df-quickchart {\n",
              "      --bg-color: #3B4455;\n",
              "      --fill-color: #D2E3FC;\n",
              "      --hover-bg-color: #434B5C;\n",
              "      --hover-fill-color: #FFFFFF;\n",
              "      --disabled-bg-color: #3B4455;\n",
              "      --disabled-fill-color: #666;\n",
              "  }\n",
              "\n",
              "  .colab-df-quickchart {\n",
              "    background-color: var(--bg-color);\n",
              "    border: none;\n",
              "    border-radius: 50%;\n",
              "    cursor: pointer;\n",
              "    display: none;\n",
              "    fill: var(--fill-color);\n",
              "    height: 32px;\n",
              "    padding: 0;\n",
              "    width: 32px;\n",
              "  }\n",
              "\n",
              "  .colab-df-quickchart:hover {\n",
              "    background-color: var(--hover-bg-color);\n",
              "    box-shadow: 0 1px 2px rgba(60, 64, 67, 0.3), 0 1px 3px 1px rgba(60, 64, 67, 0.15);\n",
              "    fill: var(--button-hover-fill-color);\n",
              "  }\n",
              "\n",
              "  .colab-df-quickchart-complete:disabled,\n",
              "  .colab-df-quickchart-complete:disabled:hover {\n",
              "    background-color: var(--disabled-bg-color);\n",
              "    fill: var(--disabled-fill-color);\n",
              "    box-shadow: none;\n",
              "  }\n",
              "\n",
              "  .colab-df-spinner {\n",
              "    border: 2px solid var(--fill-color);\n",
              "    border-color: transparent;\n",
              "    border-bottom-color: var(--fill-color);\n",
              "    animation:\n",
              "      spin 1s steps(1) infinite;\n",
              "  }\n",
              "\n",
              "  @keyframes spin {\n",
              "    0% {\n",
              "      border-color: transparent;\n",
              "      border-bottom-color: var(--fill-color);\n",
              "      border-left-color: var(--fill-color);\n",
              "    }\n",
              "    20% {\n",
              "      border-color: transparent;\n",
              "      border-left-color: var(--fill-color);\n",
              "      border-top-color: var(--fill-color);\n",
              "    }\n",
              "    30% {\n",
              "      border-color: transparent;\n",
              "      border-left-color: var(--fill-color);\n",
              "      border-top-color: var(--fill-color);\n",
              "      border-right-color: var(--fill-color);\n",
              "    }\n",
              "    40% {\n",
              "      border-color: transparent;\n",
              "      border-right-color: var(--fill-color);\n",
              "      border-top-color: var(--fill-color);\n",
              "    }\n",
              "    60% {\n",
              "      border-color: transparent;\n",
              "      border-right-color: var(--fill-color);\n",
              "    }\n",
              "    80% {\n",
              "      border-color: transparent;\n",
              "      border-right-color: var(--fill-color);\n",
              "      border-bottom-color: var(--fill-color);\n",
              "    }\n",
              "    90% {\n",
              "      border-color: transparent;\n",
              "      border-bottom-color: var(--fill-color);\n",
              "    }\n",
              "  }\n",
              "</style>\n",
              "\n",
              "  <script>\n",
              "    async function quickchart(key) {\n",
              "      const quickchartButtonEl =\n",
              "        document.querySelector('#' + key + ' button');\n",
              "      quickchartButtonEl.disabled = true;  // To prevent multiple clicks.\n",
              "      quickchartButtonEl.classList.add('colab-df-spinner');\n",
              "      try {\n",
              "        const charts = await google.colab.kernel.invokeFunction(\n",
              "            'suggestCharts', [key], {});\n",
              "      } catch (error) {\n",
              "        console.error('Error during call to suggestCharts:', error);\n",
              "      }\n",
              "      quickchartButtonEl.classList.remove('colab-df-spinner');\n",
              "      quickchartButtonEl.classList.add('colab-df-quickchart-complete');\n",
              "    }\n",
              "    (() => {\n",
              "      let quickchartButtonEl =\n",
              "        document.querySelector('#df-4baa5d0c-173e-4aaa-af3b-9becfd8b75b6 button');\n",
              "      quickchartButtonEl.style.display =\n",
              "        google.colab.kernel.accessAllowed ? 'block' : 'none';\n",
              "    })();\n",
              "  </script>\n",
              "</div>\n",
              "    </div>\n",
              "  </div>\n"
            ]
          },
          "metadata": {},
          "execution_count": 16
        }
      ],
      "source": [
        "df_scifi.head()"
      ]
    },
    {
      "cell_type": "code",
      "source": [
        "word_common=pd.Series(' '.join(df_scifi['Preprocessed Text']).lower().split()).value_counts()[:100]"
      ],
      "metadata": {
        "id": "GcT3YLpbmSr9"
      },
      "execution_count": 78,
      "outputs": []
    },
    {
      "cell_type": "code",
      "source": [
        "# Select a random less common word slice\n",
        "word_counts=pd.Series(' '.join(df_scifi['Preprocessed Text']).lower().split()).value_counts()\n",
        "less_common = word_counts[1400:1500]"
      ],
      "metadata": {
        "id": "B2pFBGR5nZl3"
      },
      "execution_count": 75,
      "outputs": []
    },
    {
      "cell_type": "code",
      "source": [
        "# Plotting the bar chart\n",
        "plt.figure(figsize=(12, 6))\n",
        "word_common.plot(kind='bar')\n",
        "plt.title('Top 100 Word Frequencies')\n",
        "plt.xlabel('Words')\n",
        "plt.ylabel('Frequency')\n",
        "plt.xticks(rotation=90)\n",
        "plt.tight_layout()\n",
        "plt.show()"
      ],
      "metadata": {
        "colab": {
          "base_uri": "https://localhost:8080/",
          "height": 456
        },
        "id": "Ilr8iXLZnDby",
        "outputId": "4518f2eb-3388-4550-8439-f418214fb922"
      },
      "execution_count": 123,
      "outputs": [
        {
          "output_type": "display_data",
          "data": {
            "text/plain": [
              "<Figure size 1200x600 with 1 Axes>"
            ],
            "image/png": "[encoded data removed]"
          },
          "metadata": {}
        }
      ]
    },
    {
      "cell_type": "code",
      "source": [
        "# Plotting the bar chart\n",
        "plt.figure(figsize=(12, 6))\n",
        "less_common.plot(kind='bar')\n",
        "plt.title(' Less Frequent Words')\n",
        "plt.xlabel('Words')\n",
        "plt.ylabel('Frequency')\n",
        "plt.xticks(rotation=90)\n",
        "plt.tight_layout()\n",
        "plt.show()"
      ],
      "metadata": {
        "colab": {
          "base_uri": "https://localhost:8080/",
          "height": 456
        },
        "id": "shpvnUyjzS39",
        "outputId": "f0d2cebe-0a9b-4adf-b6f2-a0321067839b"
      },
      "execution_count": 112,
      "outputs": [
        {
          "output_type": "display_data",
          "data": {
            "text/plain": [
              "<Figure size 1200x600 with 1 Axes>"
            ],
            "image/png": "[encoded data removed]"
          },
          "metadata": {}
        }
      ]
    },
    {
      "cell_type": "code",
      "execution_count": 113,
      "metadata": {
        "id": "2vIIzibEHhyx"
      },
      "outputs": [],
      "source": [
        "# By deriving a set from `raw_text`, we deduplicate the array\n",
        "\n",
        "raw_text = (' '.join(df_trip[\"Preprocessed Reviews\"])).split()"
      ]
    },
    {
      "cell_type": "code",
      "execution_count": 114,
      "metadata": {
        "id": "jtaqaIEp-sFN"
      },
      "outputs": [],
      "source": [
        "# We create our vocab, context words and target words\n",
        "\n",
        "vocab = set(raw_text)\n",
        "vocab_size = len(vocab)"
      ]
    },
    {
      "cell_type": "code",
      "execution_count": 115,
      "metadata": {
        "id": "9FBbLAyCMHw6"
      },
      "outputs": [],
      "source": [
        "# Index the words\n",
        "\n",
        "word_to_ix = {word: i for i, word in enumerate(vocab)}"
      ]
    },
    {
      "cell_type": "code",
      "execution_count": null,
      "metadata": {
        "id": "OMuQU5EtOEwb"
      },
      "outputs": [],
      "source": [
        "# # Define a function to make context and target words from the raw text\n",
        "\n",
        "# def make_context_targets(CONTEXT_WIDTH, raw_text):\n",
        "#     trip_data = []\n",
        "#     for i in range(CONTEXT_WIDTH, len(raw_text) - CONTEXT_WIDTH):\n",
        "#         context = [raw_text[i - 2], raw_text[i - 1], raw_text[i + 1], raw_text[i + 2]]\n",
        "#         target = raw_text[i]\n",
        "#         trip_data.append((context, target))\n",
        "#     return trip_data"
      ]
    },
    {
      "cell_type": "code",
      "execution_count": 84,
      "metadata": {
        "id": "H_TVr7uVOX_W"
      },
      "outputs": [],
      "source": [
        "# Define a function to make vectors of the context words\n",
        "\n",
        "def make_context_vector(context, word_to_ix):\n",
        "    idxs = [word_to_ix[w] for w in context]\n",
        "    return torch.tensor(idxs, dtype=torch.long)"
      ]
    },
    {
      "cell_type": "code",
      "execution_count": 83,
      "metadata": {
        "id": "j-ZiSaJChZFG"
      },
      "outputs": [],
      "source": [
        "class CBOWDataset(Dataset):\n",
        "\n",
        "    def __init__(self, context_size, word_to_ix, raw_text=None, preprocessed_data=None):\n",
        "        if preprocessed_data:\n",
        "            self.data = preprocessed_data\n",
        "        else:\n",
        "            self.data = self._make_context_targets(context_size, raw_text)\n",
        "        self.word_to_ix = word_to_ix\n",
        "\n",
        "    def _make_context_targets(self, context_width, raw_text):\n",
        "        data = []\n",
        "        for i in range(context_width, len(raw_text) - context_width):\n",
        "            # Using slicing to get the context words\n",
        "            context = raw_text[i - context_width:i] + raw_text[i+1:i+1+context_width]\n",
        "            target = raw_text[i]\n",
        "            data.append((context, target))\n",
        "        return data\n",
        "\n",
        "    def __len__(self):\n",
        "        return len(self.data)\n",
        "\n",
        "    def __getitem__(self, idx):\n",
        "        context_words, target_word = self.data[idx]\n",
        "\n",
        "        # Check if words are in word_to_ix and Convert list of context words to their indices\n",
        "        context_idxs = torch.tensor([self.word_to_ix.get(w, 0) for w in context_words], dtype=torch.long)\n",
        "        target_idx = torch.tensor(self.word_to_ix.get(target_word, 0), dtype=torch.long)\n",
        "\n",
        "        return context_idxs, target_idx"
      ]
    },
    {
      "cell_type": "code",
      "execution_count": 80,
      "metadata": {
        "id": "4CamnSh-LPbF"
      },
      "outputs": [],
      "source": [
        "class CBOW(nn.Module):\n",
        "\n",
        "    def __init__(self, vocab_size, EMBEDDING_DIM, CONTEXT_WIDTH, HIDDEN_DIM, word_to_ix):\n",
        "        super(CBOW, self).__init__()\n",
        "\n",
        "        self.word_to_ix = word_to_ix\n",
        "\n",
        "        # Embedding layer to represent words in a dense form\n",
        "        self.embeddings = nn.Embedding(vocab_size, EMBEDDING_DIM)\n",
        "\n",
        "        # The input to this layer is CONTEXT_WIDTH words from the left, and CONTEXT_WIDTH from the right.\n",
        "        # Each word is represented as an EMBEDDING_DIM sized vector.\n",
        "        self.linear1 = nn.Linear(CONTEXT_WIDTH * 2 * EMBEDDING_DIM, HIDDEN_DIM)\n",
        "\n",
        "        # An additional hidden layer for better representation\n",
        "        self.linear2 = nn.Linear(HIDDEN_DIM, HIDDEN_DIM)\n",
        "        self.linear3 = nn.Linear(HIDDEN_DIM, HIDDEN_DIM)\n",
        "        self.linear4 = nn.Linear(HIDDEN_DIM, HIDDEN_DIM)\n",
        "\n",
        "        # The output layer predicts the central word, so it has vocab_size units\n",
        "        self.linear5 = nn.Linear(HIDDEN_DIM, vocab_size)\n",
        "\n",
        "    def forward(self, context_idxs):\n",
        "        # Embed the words\n",
        "        embeds = self.embeddings(context_idxs)\n",
        "\n",
        "        # Flatten the embeddings\n",
        "        embeds = embeds.view(-1, embeds.size(1) * embeds.size(2))\n",
        "\n",
        "        # Pass through the layers\n",
        "        out = F.relu(self.linear1(embeds))\n",
        "        out = F.relu(self.linear2(out))\n",
        "        out = F.relu(self.linear3(out))\n",
        "        out = F.relu(self.linear4(out))\n",
        "        out = self.linear5(out)\n",
        "\n",
        "        # Predict the log probabilities of the center word\n",
        "        log_probs = F.log_softmax(out, dim=1)\n",
        "        return log_probs\n",
        "\n",
        "    def train_model(self, epochs, optimizer, train_dataloader, val_dataloader, device):\n",
        "        loss_function = nn.NLLLoss()\n",
        "        train_losses = []\n",
        "        val_losses = []\n",
        "\n",
        "        for epoch in range(epochs):\n",
        "            self.train()\n",
        "            total_loss = 0\n",
        "\n",
        "            # Training loop with progress bar\n",
        "            pbar = tqdm(train_dataloader, desc=f\"Epoch {epoch+1}/{epochs}\")\n",
        "            for context_idxs, target_idx in pbar:\n",
        "                context_idxs, target_idx = context_idxs.to(device), target_idx.to(device)\n",
        "                self.zero_grad()\n",
        "                log_probs = self(context_idxs)\n",
        "                loss = loss_function(log_probs, target_idx)\n",
        "                loss.backward()\n",
        "                optimizer.step()\n",
        "                total_loss += loss.item()\n",
        "\n",
        "                # Update the progress bar description\n",
        "                pbar.set_description(f\"Epoch {epoch+1}/{epochs} Loss: {loss.item():.4f}\")\n",
        "\n",
        "\n",
        "            train_losses.append(total_loss/len(train_dataloader))\n",
        "            print(f\"\\nEpoch {epoch+1}, Training Loss: {total_loss/len(train_dataloader)}\")\n",
        "\n",
        "            self.eval()\n",
        "            total_val_loss = 0\n",
        "\n",
        "            # Validation loop with progress bar\n",
        "            val_pbar = tqdm(val_dataloader, desc=f\"Validating Epoch {epoch+1}/{epochs}\")\n",
        "            with torch.no_grad():\n",
        "                for context_idxs, target_idx in val_pbar:\n",
        "                    context_idxs, target_idx = context_idxs.to(device), target_idx.to(device)\n",
        "                    log_probs = self(context_idxs)\n",
        "                    loss = loss_function(log_probs, target_idx)\n",
        "                    total_val_loss += loss.item()\n",
        "\n",
        "                    # Update the validation progress bar description\n",
        "                    val_pbar.set_description(f\"Validating Epoch {epoch+1}/{epochs} Val Loss: {loss.item():.4f}\")\n",
        "\n",
        "            val_losses.append(total_val_loss/len(val_dataloader))\n",
        "            print(f\"Epoch {epoch+1}, Validation Loss: {total_val_loss/len(val_dataloader)}\")\n",
        "        return train_losses, val_losses"
      ]
    },
    {
      "cell_type": "code",
      "execution_count": 81,
      "metadata": {
        "id": "dNEQ4-cJUZfT"
      },
      "outputs": [],
      "source": [
        "# Setting hyperparameters\n",
        "\n",
        "EMBEDDING_DIM = 50\n",
        "CONTEXT_WIDTH = 2\n",
        "HIDDEN_DIM = 256\n",
        "N_EPOCHS = 12"
      ]
    },
    {
      "cell_type": "code",
      "execution_count": 116,
      "metadata": {
        "id": "C3VTnM03TDlX",
        "colab": {
          "base_uri": "https://localhost:8080/"
        },
        "outputId": "11614c2a-3567-48cf-ae33-6004dd8e4788"
      },
      "outputs": [
        {
          "output_type": "stream",
          "name": "stderr",
          "text": [
            "/usr/local/lib/python3.10/dist-packages/torch/utils/data/dataloader.py:557: UserWarning: This DataLoader will create 4 worker processes in total. Our suggested max number of worker in current system is 2, which is smaller than what this DataLoader is going to create. Please be aware that excessive worker creation might get DataLoader running slow or even freeze, lower the worker number to avoid potential slowness/freeze if necessary.\n",
            "  warnings.warn(_create_warning_msg(\n"
          ]
        }
      ],
      "source": [
        "# Create the full dataset using the raw text\n",
        "full_dataset = CBOWDataset(CONTEXT_WIDTH, word_to_ix, raw_text=raw_text)\n",
        "\n",
        "# Split the dataset into training, validation, and test sets\n",
        "train_data, temp_data = train_test_split(full_dataset.data, test_size=0.2, random_state=42)\n",
        "val_data, test_data = train_test_split(temp_data, test_size=0.5, random_state=42)\n",
        "\n",
        "# Using the split data to instantiate datasets\n",
        "# raw_text is defaulted to None when using preprocessed_data\n",
        "train_dataset = CBOWDataset(context_size=CONTEXT_WIDTH, word_to_ix=word_to_ix, preprocessed_data=train_data)\n",
        "val_dataset = CBOWDataset(context_size=CONTEXT_WIDTH, word_to_ix=word_to_ix, preprocessed_data=val_data)\n",
        "test_dataset = CBOWDataset(context_size=CONTEXT_WIDTH, word_to_ix=word_to_ix, preprocessed_data=test_data)\n",
        "\n",
        "# Creating dataloaders for each dataset\n",
        "train_dataloader = DataLoader(train_dataset, batch_size=64, shuffle=True, num_workers=4)\n",
        "val_dataloader = DataLoader(val_dataset, batch_size=64, shuffle=False, num_workers=4)\n",
        "test_dataloader = DataLoader(test_dataset, batch_size=64, shuffle=False, num_workers=4)"
      ]
    },
    {
      "cell_type": "code",
      "execution_count": null,
      "metadata": {
        "colab": {
          "base_uri": "https://localhost:8080/",
          "height": 388,
          "referenced_widgets": [
            "2843cee7a2fb4baba07b36ab76509c0c",
            "fe054752f2f04d71a689ba6a5a2eb8b7",
            "79365e57774045e5bce5bc6e7e8d123c",
            "0d69ed9452224ed7b83bbadacb79604d",
            "ed6297d8dd3f46dfa6de1c5dfe7dc551",
            "5a59d7a49478444eb67336b40d5c8e45",
            "3f0e012645294691a55163dc6bfd021d",
            "abf16d0528a142eeac27086d0bfe428e",
            "40f4c177fc284deebe47e20daae3d87d",
            "2b1a49fa30794eed9f6757c63d94e627",
            "fe87754af1d449d1a9d9fe49bb918461",
            "9a303924ca75449988b68fc8f7c56eff",
            "9678688a48604f81b919b49afe2e30af",
            "a1c96039faa24779909321493c1a83d8",
            "c8359fa6f0fc4fe0a1032455bdcc5605",
            "e7ae8abf9caa48d68ff32cd9a1d89349",
            "4db8aade68bf4fdcb65cef135641b9f6",
            "bbc2fb93c1f344b28d75cb78181d27f6",
            "64c7424002a8439b9dc6d4be18852c05",
            "a4a944703a31470db4062408972b763d",
            "19302203fcb94711b66354443cc77fdb",
            "347e941ae3be48b681a2fe7a3e27fbe1",
            "5bced55cc93241f09fd9664ecfe06f00",
            "86e7d5c77c8f40ffa9951369fc5bf958"
          ]
        },
        "id": "A-s0oJT0Prjt",
        "outputId": "232fbd33-336d-4194-829d-e82505aadf96"
      },
      "outputs": [
        {
          "data": {
            "application/vnd.jupyter.widget-view+json": {
              "model_id": "2843cee7a2fb4baba07b36ab76509c0c",
              "version_major": 2,
              "version_minor": 0
            },
            "text/plain": [
              "Epoch 1/12:   0%|          | 0/12377 [00:00<?, ?it/s]"
            ]
          },
          "metadata": {},
          "output_type": "display_data"
        },
        {
          "name": "stdout",
          "output_type": "stream",
          "text": [
            "\n",
            "Epoch 1, Training Loss: 7.403620773769113\n"
          ]
        },
        {
          "data": {
            "application/vnd.jupyter.widget-view+json": {
              "model_id": "fe054752f2f04d71a689ba6a5a2eb8b7",
              "version_major": 2,
              "version_minor": 0
            },
            "text/plain": [
              "Validating Epoch 1/12:   0%|          | 0/1548 [00:00<?, ?it/s]"
            ]
          },
          "metadata": {},
          "output_type": "display_data"
        },
        {
          "name": "stdout",
          "output_type": "stream",
          "text": [
            "Epoch 1, Validation Loss: 7.285237136429286\n"
          ]
        },
        {
          "data": {
            "application/vnd.jupyter.widget-view+json": {
              "model_id": "79365e57774045e5bce5bc6e7e8d123c",
              "version_major": 2,
              "version_minor": 0
            },
            "text/plain": [
              "Epoch 2/12:   0%|          | 0/12377 [00:00<?, ?it/s]"
            ]
          },
          "metadata": {},
          "output_type": "display_data"
        },
        {
          "name": "stdout",
          "output_type": "stream",
          "text": [
            "\n",
            "Epoch 2, Training Loss: 7.1132917226184365\n"
          ]
        },
        {
          "data": {
            "application/vnd.jupyter.widget-view+json": {
              "model_id": "0d69ed9452224ed7b83bbadacb79604d",
              "version_major": 2,
              "version_minor": 0
            },
            "text/plain": [
              "Validating Epoch 2/12:   0%|          | 0/1548 [00:00<?, ?it/s]"
            ]
          },
          "metadata": {},
          "output_type": "display_data"
        },
        {
          "name": "stdout",
          "output_type": "stream",
          "text": [
            "Epoch 2, Validation Loss: 7.215800339553399\n"
          ]
        },
        {
          "data": {
            "application/vnd.jupyter.widget-view+json": {
              "model_id": "ed6297d8dd3f46dfa6de1c5dfe7dc551",
              "version_major": 2,
              "version_minor": 0
            },
            "text/plain": [
              "Epoch 3/12:   0%|          | 0/12377 [00:00<?, ?it/s]"
            ]
          },
          "metadata": {},
          "output_type": "display_data"
        },
        {
          "name": "stdout",
          "output_type": "stream",
          "text": [
            "\n",
            "Epoch 3, Training Loss: 6.94040741850739\n"
          ]
        },
        {
          "data": {
            "application/vnd.jupyter.widget-view+json": {
              "model_id": "5a59d7a49478444eb67336b40d5c8e45",
              "version_major": 2,
              "version_minor": 0
            },
            "text/plain": [
              "Validating Epoch 3/12:   0%|          | 0/1548 [00:00<?, ?it/s]"
            ]
          },
          "metadata": {},
          "output_type": "display_data"
        },
        {
          "name": "stdout",
          "output_type": "stream",
          "text": [
            "Epoch 3, Validation Loss: 7.190593282073659\n"
          ]
        },
        {
          "data": {
            "application/vnd.jupyter.widget-view+json": {
              "model_id": "3f0e012645294691a55163dc6bfd021d",
              "version_major": 2,
              "version_minor": 0
            },
            "text/plain": [
              "Epoch 4/12:   0%|          | 0/12377 [00:00<?, ?it/s]"
            ]
          },
          "metadata": {},
          "output_type": "display_data"
        },
        {
          "name": "stdout",
          "output_type": "stream",
          "text": [
            "\n",
            "Epoch 4, Training Loss: 6.840540145839504\n"
          ]
        },
        {
          "data": {
            "application/vnd.jupyter.widget-view+json": {
              "model_id": "abf16d0528a142eeac27086d0bfe428e",
              "version_major": 2,
              "version_minor": 0
            },
            "text/plain": [
              "Validating Epoch 4/12:   0%|          | 0/1548 [00:00<?, ?it/s]"
            ]
          },
          "metadata": {},
          "output_type": "display_data"
        },
        {
          "name": "stdout",
          "output_type": "stream",
          "text": [
            "Epoch 4, Validation Loss: 7.18962071631922\n"
          ]
        },
        {
          "data": {
            "application/vnd.jupyter.widget-view+json": {
              "model_id": "40f4c177fc284deebe47e20daae3d87d",
              "version_major": 2,
              "version_minor": 0
            },
            "text/plain": [
              "Epoch 5/12:   0%|          | 0/12377 [00:00<?, ?it/s]"
            ]
          },
          "metadata": {},
          "output_type": "display_data"
        },
        {
          "name": "stdout",
          "output_type": "stream",
          "text": [
            "\n",
            "Epoch 5, Training Loss: 6.777901918502638\n"
          ]
        },
        {
          "data": {
            "application/vnd.jupyter.widget-view+json": {
              "model_id": "2b1a49fa30794eed9f6757c63d94e627",
              "version_major": 2,
              "version_minor": 0
            },
            "text/plain": [
              "Validating Epoch 5/12:   0%|          | 0/1548 [00:00<?, ?it/s]"
            ]
          },
          "metadata": {},
          "output_type": "display_data"
        },
        {
          "name": "stdout",
          "output_type": "stream",
          "text": [
            "Epoch 5, Validation Loss: 7.193694548089375\n"
          ]
        },
        {
          "data": {
            "application/vnd.jupyter.widget-view+json": {
              "model_id": "fe87754af1d449d1a9d9fe49bb918461",
              "version_major": 2,
              "version_minor": 0
            },
            "text/plain": [
              "Epoch 6/12:   0%|          | 0/12377 [00:00<?, ?it/s]"
            ]
          },
          "metadata": {},
          "output_type": "display_data"
        },
        {
          "name": "stdout",
          "output_type": "stream",
          "text": [
            "\n",
            "Epoch 6, Training Loss: 6.7334103489515424\n"
          ]
        },
        {
          "data": {
            "application/vnd.jupyter.widget-view+json": {
              "model_id": "9a303924ca75449988b68fc8f7c56eff",
              "version_major": 2,
              "version_minor": 0
            },
            "text/plain": [
              "Validating Epoch 6/12:   0%|          | 0/1548 [00:00<?, ?it/s]"
            ]
          },
          "metadata": {},
          "output_type": "display_data"
        },
        {
          "name": "stdout",
          "output_type": "stream",
          "text": [
            "Epoch 6, Validation Loss: 7.197752870946584\n"
          ]
        },
        {
          "data": {
            "application/vnd.jupyter.widget-view+json": {
              "model_id": "9678688a48604f81b919b49afe2e30af",
              "version_major": 2,
              "version_minor": 0
            },
            "text/plain": [
              "Epoch 7/12:   0%|          | 0/12377 [00:00<?, ?it/s]"
            ]
          },
          "metadata": {},
          "output_type": "display_data"
        },
        {
          "name": "stdout",
          "output_type": "stream",
          "text": [
            "\n",
            "Epoch 7, Training Loss: 6.6976896935406165\n"
          ]
        },
        {
          "data": {
            "application/vnd.jupyter.widget-view+json": {
              "model_id": "a1c96039faa24779909321493c1a83d8",
              "version_major": 2,
              "version_minor": 0
            },
            "text/plain": [
              "Validating Epoch 7/12:   0%|          | 0/1548 [00:00<?, ?it/s]"
            ]
          },
          "metadata": {},
          "output_type": "display_data"
        },
        {
          "name": "stdout",
          "output_type": "stream",
          "text": [
            "Epoch 7, Validation Loss: 7.221754838637912\n"
          ]
        },
        {
          "data": {
            "application/vnd.jupyter.widget-view+json": {
              "model_id": "c8359fa6f0fc4fe0a1032455bdcc5605",
              "version_major": 2,
              "version_minor": 0
            },
            "text/plain": [
              "Epoch 8/12:   0%|          | 0/12377 [00:00<?, ?it/s]"
            ]
          },
          "metadata": {},
          "output_type": "display_data"
        },
        {
          "name": "stdout",
          "output_type": "stream",
          "text": [
            "\n",
            "Epoch 8, Training Loss: 6.6700691156648535\n"
          ]
        },
        {
          "data": {
            "application/vnd.jupyter.widget-view+json": {
              "model_id": "e7ae8abf9caa48d68ff32cd9a1d89349",
              "version_major": 2,
              "version_minor": 0
            },
            "text/plain": [
              "Validating Epoch 8/12:   0%|          | 0/1548 [00:00<?, ?it/s]"
            ]
          },
          "metadata": {},
          "output_type": "display_data"
        },
        {
          "name": "stdout",
          "output_type": "stream",
          "text": [
            "Epoch 8, Validation Loss: 7.195720233966521\n"
          ]
        },
        {
          "data": {
            "application/vnd.jupyter.widget-view+json": {
              "model_id": "4db8aade68bf4fdcb65cef135641b9f6",
              "version_major": 2,
              "version_minor": 0
            },
            "text/plain": [
              "Epoch 9/12:   0%|          | 0/12377 [00:00<?, ?it/s]"
            ]
          },
          "metadata": {},
          "output_type": "display_data"
        },
        {
          "name": "stdout",
          "output_type": "stream",
          "text": [
            "\n",
            "Epoch 9, Training Loss: 6.645063643136894\n"
          ]
        },
        {
          "data": {
            "application/vnd.jupyter.widget-view+json": {
              "model_id": "bbc2fb93c1f344b28d75cb78181d27f6",
              "version_major": 2,
              "version_minor": 0
            },
            "text/plain": [
              "Validating Epoch 9/12:   0%|          | 0/1548 [00:00<?, ?it/s]"
            ]
          },
          "metadata": {},
          "output_type": "display_data"
        },
        {
          "name": "stdout",
          "output_type": "stream",
          "text": [
            "Epoch 9, Validation Loss: 7.222690714114088\n"
          ]
        },
        {
          "data": {
            "application/vnd.jupyter.widget-view+json": {
              "model_id": "64c7424002a8439b9dc6d4be18852c05",
              "version_major": 2,
              "version_minor": 0
            },
            "text/plain": [
              "Epoch 10/12:   0%|          | 0/12377 [00:00<?, ?it/s]"
            ]
          },
          "metadata": {},
          "output_type": "display_data"
        },
        {
          "name": "stdout",
          "output_type": "stream",
          "text": [
            "\n",
            "Epoch 10, Training Loss: 6.625030139059495\n"
          ]
        },
        {
          "data": {
            "application/vnd.jupyter.widget-view+json": {
              "model_id": "a4a944703a31470db4062408972b763d",
              "version_major": 2,
              "version_minor": 0
            },
            "text/plain": [
              "Validating Epoch 10/12:   0%|          | 0/1548 [00:00<?, ?it/s]"
            ]
          },
          "metadata": {},
          "output_type": "display_data"
        },
        {
          "name": "stdout",
          "output_type": "stream",
          "text": [
            "Epoch 10, Validation Loss: 7.21593386843531\n"
          ]
        },
        {
          "data": {
            "application/vnd.jupyter.widget-view+json": {
              "model_id": "19302203fcb94711b66354443cc77fdb",
              "version_major": 2,
              "version_minor": 0
            },
            "text/plain": [
              "Epoch 11/12:   0%|          | 0/12377 [00:00<?, ?it/s]"
            ]
          },
          "metadata": {},
          "output_type": "display_data"
        },
        {
          "name": "stdout",
          "output_type": "stream",
          "text": [
            "\n",
            "Epoch 11, Training Loss: 6.606897908901373\n"
          ]
        },
        {
          "data": {
            "application/vnd.jupyter.widget-view+json": {
              "model_id": "347e941ae3be48b681a2fe7a3e27fbe1",
              "version_major": 2,
              "version_minor": 0
            },
            "text/plain": [
              "Validating Epoch 11/12:   0%|          | 0/1548 [00:00<?, ?it/s]"
            ]
          },
          "metadata": {},
          "output_type": "display_data"
        },
        {
          "name": "stdout",
          "output_type": "stream",
          "text": [
            "Epoch 11, Validation Loss: 7.228480350139529\n"
          ]
        },
        {
          "data": {
            "application/vnd.jupyter.widget-view+json": {
              "model_id": "5bced55cc93241f09fd9664ecfe06f00",
              "version_major": 2,
              "version_minor": 0
            },
            "text/plain": [
              "Epoch 12/12:   0%|          | 0/12377 [00:00<?, ?it/s]"
            ]
          },
          "metadata": {},
          "output_type": "display_data"
        },
        {
          "name": "stdout",
          "output_type": "stream",
          "text": [
            "\n",
            "Epoch 12, Training Loss: 6.591087840067085\n"
          ]
        },
        {
          "data": {
            "application/vnd.jupyter.widget-view+json": {
              "model_id": "86e7d5c77c8f40ffa9951369fc5bf958",
              "version_major": 2,
              "version_minor": 0
            },
            "text/plain": [
              "Validating Epoch 12/12:   0%|          | 0/1548 [00:00<?, ?it/s]"
            ]
          },
          "metadata": {},
          "output_type": "display_data"
        },
        {
          "name": "stdout",
          "output_type": "stream",
          "text": [
            "Epoch 12, Validation Loss: 7.229028183668467\n"
          ]
        }
      ],
      "source": [
        "# Initialize training\n",
        "\n",
        "model = CBOW(vocab_size, EMBEDDING_DIM, CONTEXT_WIDTH, HIDDEN_DIM, word_to_ix)\n",
        "\n",
        "device = torch.device(\"cuda\" if torch.cuda.is_available() else \"cpu\")\n",
        "model.to(device)\n",
        "\n",
        "optimizer = torch.optim.Adam(model.parameters(), lr=0.001)\n",
        "loss_function = nn.NLLLoss()\n",
        "\n",
        "train_losses, val_losses = model.train_model(N_EPOCHS, optimizer, train_dataloader, val_dataloader, device)"
      ]
    },
    {
      "cell_type": "code",
      "execution_count": null,
      "metadata": {
        "id": "xiM2xZwg3pGO",
        "outputId": "93f05207-52dd-451a-c153-2fdb1ee22ff1"
      },
      "outputs": [
        {
          "data": {
            "image/png": "[encoded data removed]",
            "text/plain": [
              "<Figure size 1000x500 with 1 Axes>"
            ]
          },
          "metadata": {},
          "output_type": "display_data"
        }
      ],
      "source": [
        "# After training\n",
        "plt.figure(figsize=(10,5))\n",
        "plt.title(\"Training and Validation Loss\")\n",
        "plt.plot(train_losses, label=\"train\")\n",
        "plt.plot(val_losses, label=\"val\")\n",
        "plt.xlabel(\"Epochs\")\n",
        "plt.ylabel(\"Loss\")\n",
        "plt.legend()\n",
        "plt.show()"
      ]
    },
    {
      "cell_type": "code",
      "execution_count": null,
      "metadata": {
        "colab": {
          "referenced_widgets": [
            "0823f8e241a34ddbb417274ab9fd0626"
          ]
        },
        "id": "P0ZMBN8Nqsw9",
        "outputId": "dafd2368-ee23-4fbe-9020-42bb2225da05"
      },
      "outputs": [
        {
          "data": {
            "application/vnd.jupyter.widget-view+json": {
              "model_id": "0823f8e241a34ddbb417274ab9fd0626",
              "version_major": 2,
              "version_minor": 0
            },
            "text/plain": [
              "Testing:   0%|          | 0/1548 [00:00<?, ?it/s]"
            ]
          },
          "metadata": {},
          "output_type": "display_data"
        },
        {
          "name": "stdout",
          "output_type": "stream",
          "text": [
            "Average Testing Loss: 7.258329613880286\n"
          ]
        },
        {
          "data": {
            "text/plain": [
              "7.258329613880286"
            ]
          },
          "execution_count": 35,
          "metadata": {},
          "output_type": "execute_result"
        }
      ],
      "source": [
        "def test_model(self, test_dataloader):\n",
        "    self.eval()\n",
        "    total_loss = 0\n",
        "    loss_function = nn.NLLLoss()\n",
        "\n",
        "    test_pbar = tqdm(test_dataloader, desc=\"Testing\")\n",
        "    with torch.no_grad():\n",
        "        for context, target in test_pbar:\n",
        "            context, target = context.to(device), target.to(device)\n",
        "            log_probs = self(context)\n",
        "            loss = loss_function(log_probs, target)\n",
        "            total_loss += loss.item()\n",
        "\n",
        "            test_pbar.set_description(f\"Testing Loss: {loss.item():.4f}\")\n",
        "\n",
        "    avg_test_loss = total_loss / len(test_dataloader)\n",
        "    print(f\"Average Testing Loss: {avg_test_loss}\")\n",
        "    return avg_test_loss\n",
        "\n",
        "# Run the test\n",
        "test_model(model, test_dataloader)"
      ]
    },
    {
      "cell_type": "code",
      "execution_count": null,
      "metadata": {
        "colab": {
          "referenced_widgets": [
            "7e7acdd25bce41eb86fe61d910b72846"
          ]
        },
        "id": "BYYDPr0-2_1q",
        "outputId": "c8e8960c-39e7-48bc-bee5-c3b7c8d33458"
      },
      "outputs": [
        {
          "data": {
            "application/vnd.jupyter.widget-view+json": {
              "model_id": "7e7acdd25bce41eb86fe61d910b72846",
              "version_major": 2,
              "version_minor": 0
            },
            "text/plain": [
              "Testing:   0%|          | 0/1548 [00:00<?, ?it/s]"
            ]
          },
          "metadata": {},
          "output_type": "display_data"
        },
        {
          "name": "stdout",
          "output_type": "stream",
          "text": [
            "Average Testing Loss: 7.258329613880286\n",
            "Test Accuracy: 7.06%\n"
          ]
        }
      ],
      "source": [
        "def test_model(self, test_dataloader):\n",
        "    self.eval()\n",
        "    total_loss = 0\n",
        "    correct_predictions = 0\n",
        "    total_samples = 0\n",
        "    loss_function = nn.NLLLoss()\n",
        "\n",
        "    test_pbar = tqdm(test_dataloader, desc=\"Testing\")\n",
        "    with torch.no_grad():\n",
        "        for context, target in test_pbar:\n",
        "            context, target = context.to(device), target.to(device)\n",
        "            log_probs = self(context)\n",
        "            loss = loss_function(log_probs, target)\n",
        "            total_loss += loss.item()\n",
        "\n",
        "            # Calculate the number of correct predictions\n",
        "            _, predicted = torch.max(log_probs, 1)\n",
        "            correct_predictions += (predicted == target).sum().item()\n",
        "            total_samples += target.size(0)\n",
        "\n",
        "            test_pbar.set_description(f\"Testing Loss: {loss.item():.4f}\")\n",
        "\n",
        "    avg_test_loss = total_loss / len(test_dataloader)\n",
        "    accuracy = correct_predictions / total_samples\n",
        "    print(f\"Average Testing Loss: {avg_test_loss}\")\n",
        "    print(f\"Test Accuracy: {accuracy * 100:.2f}%\")\n",
        "    return avg_test_loss, accuracy\n",
        "\n",
        "# Run the test\n",
        "avg_test_loss, accuracy = test_model(model, test_dataloader)"
      ]
    },
    {
      "cell_type": "markdown",
      "metadata": {
        "id": "r4t587w9kyP8"
      },
      "source": [
        "Sci-fi CBOW2\n"
      ]
    },
    {
      "cell_type": "code",
      "execution_count": 117,
      "metadata": {
        "id": "5eNG5i2vgc6b"
      },
      "outputs": [],
      "source": [
        "# By deriving a set from `raw_text`, we deduplicate the array\n",
        "\n",
        "raw_text_scifi = (' '.join(df_scifi[\"Preprocessed Text\"])).split()"
      ]
    },
    {
      "cell_type": "code",
      "execution_count": 118,
      "metadata": {
        "id": "yfUc63B7lNAK"
      },
      "outputs": [],
      "source": [
        "# We create our vocab, context words and target words\n",
        "\n",
        "vocab_scifi = set(raw_text_scifi)\n",
        "vocab_size_scifi = len(vocab_scifi)"
      ]
    },
    {
      "cell_type": "code",
      "execution_count": 124,
      "metadata": {
        "id": "wA04lcZylVec"
      },
      "outputs": [],
      "source": [
        "# Index the words\n",
        "word_to_ix_scifi = {word: i for i, word in enumerate(vocab_scifi)}\n",
        "ix_to_word_scifi = {ix:word for ix, word in enumerate(vocab_scifi)}\n"
      ]
    },
    {
      "cell_type": "code",
      "execution_count": null,
      "metadata": {
        "id": "bMyPyeDhmVbp"
      },
      "outputs": [],
      "source": [
        "\n"
      ]
    },
    {
      "cell_type": "code",
      "execution_count": 120,
      "metadata": {
        "id": "cEQ3CUb5qhkz"
      },
      "outputs": [],
      "source": [
        "# Setting hyperparameters\n",
        "\n",
        "EMBEDDING_DIM_SCIFI = 50\n",
        "CONTEXT_WIDTH_SCIFI = 2\n",
        "HIDDEN_DIM_SCIFI = 256\n",
        "N_EPOCHS_SCIFI = 3"
      ]
    },
    {
      "cell_type": "code",
      "execution_count": 121,
      "metadata": {
        "id": "ievAuRTosNXW"
      },
      "outputs": [],
      "source": [
        "# Create the full dataset using the raw text\n",
        "full_dataset_scifi = CBOWDataset(CONTEXT_WIDTH_SCIFI, word_to_ix_scifi, raw_text=raw_text_scifi)\n",
        "\n",
        "\n",
        "# Split the dataset into training, validation, and test sets\n",
        "train_data_scifi, temp_data = train_test_split(full_dataset_scifi.data, test_size=0.2, random_state=42)\n",
        "val_data_scifi, test_data_scifi = train_test_split(temp_data, test_size=0.5, random_state=42)\n",
        "\n",
        "\n",
        "# Using the split data to instantiate datasets\n",
        "# raw_text is defaulted to None when using preprocessed_data\n",
        "train_dataset_scifi = CBOWDataset(context_size=CONTEXT_WIDTH_SCIFI, word_to_ix=word_to_ix_scifi, preprocessed_data=train_data_scifi)\n",
        "val_dataset_scifi  = CBOWDataset(context_size=CONTEXT_WIDTH_SCIFI, word_to_ix=word_to_ix_scifi, preprocessed_data=val_data_scifi)\n",
        "test_dataset_scifi  = CBOWDataset(context_size=CONTEXT_WIDTH_SCIFI, word_to_ix=word_to_ix_scifi, preprocessed_data=test_data_scifi)\n",
        "\n",
        "# Creating dataloaders for each dataset\n",
        "train_dataloader = DataLoader(train_dataset_scifi , batch_size=64, shuffle=True, num_workers=4)\n",
        "val_dataloader = DataLoader(val_dataset_scifi , batch_size=64, shuffle=False, num_workers=4)\n",
        "test_dataloader = DataLoader(test_dataset_scifi , batch_size=64, shuffle=False, num_workers=4)\n",
        "\n"
      ]
    },
    {
      "cell_type": "code",
      "execution_count": 122,
      "metadata": {
        "colab": {
          "base_uri": "https://localhost:8080/",
          "height": 435,
          "referenced_widgets": [
            "e305e53134394ce0bb1929829e5bfa4b",
            "b25148d4ab1b48279679c2bf61e495aa",
            "ae9961855fbb4eabbea862d24c93b727",
            "46d7584f1018439ba782f58a16b4f3ea",
            "c4d8ff133b8e4070bf406f756e6c50aa",
            "eb119e4ce1f449f78c700e0db8502788",
            "6ab1e0f1566b42ac8718201d3cdef09d",
            "f18fe37d850e45c8b2d7dcc55b0f3a8c",
            "abab4310a6fe44d0b1523be75b954ed7",
            "d19f0d424dfd404990cc536e2230f248",
            "1cab74bf79984747bfa3b83f8dea99ae"
          ]
        },
        "id": "dBLcmoKdszIp",
        "outputId": "7daafa07-5cb7-4d39-903b-05d36490f0a5"
      },
      "outputs": [
        {
          "output_type": "display_data",
          "data": {
            "text/plain": [
              "Epoch 1/3:   0%|          | 0/80523 [00:00<?, ?it/s]"
            ],
            "application/vnd.jupyter.widget-view+json": {
              "version_major": 2,
              "version_minor": 0,
              "model_id": "e305e53134394ce0bb1929829e5bfa4b"
            }
          },
          "metadata": {}
        },
        {
          "output_type": "stream",
          "name": "stderr",
          "text": [
            "/usr/local/lib/python3.10/dist-packages/torch/utils/data/dataloader.py:557: UserWarning: This DataLoader will create 4 worker processes in total. Our suggested max number of worker in current system is 2, which is smaller than what this DataLoader is going to create. Please be aware that excessive worker creation might get DataLoader running slow or even freeze, lower the worker number to avoid potential slowness/freeze if necessary.\n",
            "  warnings.warn(_create_warning_msg(\n"
          ]
        },
        {
          "output_type": "error",
          "ename": "KeyboardInterrupt",
          "evalue": "ignored",
          "traceback": [
            "\u001b[0;31m---------------------------------------------------------------------------\u001b[0m",
            "\u001b[0;31mKeyboardInterrupt\u001b[0m                         Traceback (most recent call last)",
            "\u001b[0;32m<ipython-input-122-26de837ee015>\u001b[0m in \u001b[0;36m<cell line: 11>\u001b[0;34m()\u001b[0m\n\u001b[1;32m      9\u001b[0m \u001b[0mloss_function\u001b[0m \u001b[0;34m=\u001b[0m \u001b[0mnn\u001b[0m\u001b[0;34m.\u001b[0m\u001b[0mNLLLoss\u001b[0m\u001b[0;34m(\u001b[0m\u001b[0;34m)\u001b[0m\u001b[0;34m\u001b[0m\u001b[0;34m\u001b[0m\u001b[0m\n\u001b[1;32m     10\u001b[0m \u001b[0;34m\u001b[0m\u001b[0m\n\u001b[0;32m---> 11\u001b[0;31m \u001b[0mtrain_losses\u001b[0m\u001b[0;34m,\u001b[0m \u001b[0mval_losses\u001b[0m \u001b[0;34m=\u001b[0m \u001b[0mmodel_scifi\u001b[0m\u001b[0;34m.\u001b[0m\u001b[0mtrain_model\u001b[0m\u001b[0;34m(\u001b[0m\u001b[0mN_EPOCHS_SCIFI\u001b[0m\u001b[0;34m,\u001b[0m \u001b[0moptimizer\u001b[0m\u001b[0;34m,\u001b[0m \u001b[0mtrain_dataloader\u001b[0m\u001b[0;34m,\u001b[0m \u001b[0mval_dataloader\u001b[0m\u001b[0;34m,\u001b[0m \u001b[0mdevice\u001b[0m\u001b[0;34m)\u001b[0m\u001b[0;34m\u001b[0m\u001b[0;34m\u001b[0m\u001b[0m\n\u001b[0m",
            "\u001b[0;32m<ipython-input-80-54093e12d6f6>\u001b[0m in \u001b[0;36mtrain_model\u001b[0;34m(self, epochs, optimizer, train_dataloader, val_dataloader, device)\u001b[0m\n\u001b[1;32m     57\u001b[0m                 \u001b[0mloss\u001b[0m\u001b[0;34m.\u001b[0m\u001b[0mbackward\u001b[0m\u001b[0;34m(\u001b[0m\u001b[0;34m)\u001b[0m\u001b[0;34m\u001b[0m\u001b[0;34m\u001b[0m\u001b[0m\n\u001b[1;32m     58\u001b[0m                 \u001b[0moptimizer\u001b[0m\u001b[0;34m.\u001b[0m\u001b[0mstep\u001b[0m\u001b[0;34m(\u001b[0m\u001b[0;34m)\u001b[0m\u001b[0;34m\u001b[0m\u001b[0;34m\u001b[0m\u001b[0m\n\u001b[0;32m---> 59\u001b[0;31m                 \u001b[0mtotal_loss\u001b[0m \u001b[0;34m+=\u001b[0m \u001b[0mloss\u001b[0m\u001b[0;34m.\u001b[0m\u001b[0mitem\u001b[0m\u001b[0;34m(\u001b[0m\u001b[0;34m)\u001b[0m\u001b[0;34m\u001b[0m\u001b[0;34m\u001b[0m\u001b[0m\n\u001b[0m\u001b[1;32m     60\u001b[0m \u001b[0;34m\u001b[0m\u001b[0m\n\u001b[1;32m     61\u001b[0m                 \u001b[0;31m# Update the progress bar description\u001b[0m\u001b[0;34m\u001b[0m\u001b[0;34m\u001b[0m\u001b[0m\n",
            "\u001b[0;31mKeyboardInterrupt\u001b[0m: "
          ]
        }
      ],
      "source": [
        "# Initialize training\n",
        "\n",
        "model_scifi = CBOW(vocab_size_scifi, EMBEDDING_DIM_SCIFI,CONTEXT_WIDTH_SCIFI, HIDDEN_DIM_SCIFI, word_to_ix_scifi)\n",
        "\n",
        "device = torch.device(\"cuda\" if torch.cuda.is_available() else \"cpu\")\n",
        "model_scifi.to(device)\n",
        "\n",
        "optimizer = torch.optim.Adam(model_scifi.parameters(), lr=0.001)\n",
        "loss_function = nn.NLLLoss()\n",
        "\n",
        "train_losses, val_losses = model_scifi.train_model(N_EPOCHS_SCIFI, optimizer, train_dataloader, val_dataloader, device)"
      ]
    },
    {
      "cell_type": "code",
      "execution_count": null,
      "metadata": {
        "colab": {
          "base_uri": "https://localhost:8080/",
          "height": 487
        },
        "id": "qdJn8nhfEuU-",
        "outputId": "c6a60442-ff5b-481c-9d0f-1a2887d87a2a"
      },
      "outputs": [
        {
          "output_type": "display_data",
          "data": {
            "text/plain": [
              "<Figure size 1000x500 with 1 Axes>"
            ],
            "image/png": "[encoded data removed]"
          },
          "metadata": {}
        }
      ],
      "source": [
        "# After training\n",
        "plt.figure(figsize=(10,5))\n",
        "plt.title(\"Training and Validation Loss\")\n",
        "plt.plot(train_losses, label=\"train\")\n",
        "plt.plot(val_losses, label=\"val\")\n",
        "plt.xlabel(\"Epochs\")\n",
        "plt.ylabel(\"Loss\")\n",
        "plt.legend()\n",
        "plt.show()"
      ]
    },
    {
      "cell_type": "code",
      "execution_count": null,
      "metadata": {
        "colab": {
          "base_uri": "https://localhost:8080/"
        },
        "id": "zYr6XCgeFAJN",
        "outputId": "9bfcf178-90ff-4bcb-dcef-ee883591f49f"
      },
      "outputs": [
        {
          "name": "stdout",
          "output_type": "stream",
          "text": [
            "[('sexslav', 6.6741862297058105), ('mdear', 6.713298797607422), ('toreador', 6.836635589599609), ('herbi', 6.858548641204834), ('bodyfluid', 6.881492614746094)]\n"
          ]
        }
      ],
      "source": [
        "# slope, scare, rich are less frequent\n",
        "words_scifi=[\"old\",\"long\", \"rich\",\"said\",\"cant\",\"scare\",\"time\",\"planet\",\"slope\"]\n",
        "\n",
        "def get_closest_word(word, topn=5):\n",
        "  word_distance = []\n",
        "  emb = model_scifi.embeddings\n",
        "  pdist = nn.PairwiseDistance()\n",
        "  i = word_to_ix_scifi[word]\n",
        "  lookup_tensor_i = torch.tensor([i], dtype=torch.long).to(device)\n",
        "  v_i = emb(lookup_tensor_i)\n",
        "  for j in range(len(vocab_scifi)):\n",
        "    if j != i:\n",
        "      lookup_tensor_j = torch.tensor([j], dtype=torch.long).to(device)\n",
        "      v_j = emb(lookup_tensor_j)\n",
        "      word_distance.append((ix_to_word_scifi[j], float(pdist(v_i, v_j))))\n",
        "  word_distance.sort(key=lambda x: x[1])\n",
        "  return word_distance[:topn]\n",
        "\n",
        "for x in words_scifi:\n",
        "  print(get_closest_word(x))\n"
      ]
    }
  ],
  "metadata": {
    "accelerator": "GPU",
    "colab": {
      "provenance": []
    },
    "kernelspec": {
      "display_name": "Python 3",
      "language": "python",
      "name": "python3"
    },
    "language_info": {
      "codemirror_mode": {
        "name": "ipython",
        "version": 3
      },
      "file_extension": ".py",
      "mimetype": "text/x-python",
      "name": "python",
      "nbconvert_exporter": "python",
      "pygments_lexer": "ipython3",
      "version": "3.10.12"
    },
    "widgets": {
      "application/vnd.jupyter.widget-state+json": {
        "e305e53134394ce0bb1929829e5bfa4b": {
          "model_module": "@jupyter-widgets/controls",
          "model_name": "HBoxModel",
          "model_module_version": "1.5.0",
          "state": {
            "_dom_classes": [],
            "_model_module": "@jupyter-widgets/controls",
            "_model_module_version": "1.5.0",
            "_model_name": "HBoxModel",
            "_view_count": null,
            "_view_module": "@jupyter-widgets/controls",
            "_view_module_version": "1.5.0",
            "_view_name": "HBoxView",
            "box_style": "",
            "children": [
              "IPY_MODEL_b25148d4ab1b48279679c2bf61e495aa",
              "IPY_MODEL_ae9961855fbb4eabbea862d24c93b727",
              "IPY_MODEL_46d7584f1018439ba782f58a16b4f3ea"
            ],
            "layout": "IPY_MODEL_c4d8ff133b8e4070bf406f756e6c50aa"
          }
        },
        "b25148d4ab1b48279679c2bf61e495aa": {
          "model_module": "@jupyter-widgets/controls",
          "model_name": "HTMLModel",
          "model_module_version": "1.5.0",
          "state": {
            "_dom_classes": [],
            "_model_module": "@jupyter-widgets/controls",
            "_model_module_version": "1.5.0",
            "_model_name": "HTMLModel",
            "_view_count": null,
            "_view_module": "@jupyter-widgets/controls",
            "_view_module_version": "1.5.0",
            "_view_name": "HTMLView",
            "description": "",
            "description_tooltip": null,
            "layout": "IPY_MODEL_eb119e4ce1f449f78c700e0db8502788",
            "placeholder": "​",
            "style": "IPY_MODEL_6ab1e0f1566b42ac8718201d3cdef09d",
            "value": "Epoch 1/3 Loss: 7.9414:  10%"
          }
        },
        "ae9961855fbb4eabbea862d24c93b727": {
          "model_module": "@jupyter-widgets/controls",
          "model_name": "FloatProgressModel",
          "model_module_version": "1.5.0",
          "state": {
            "_dom_classes": [],
            "_model_module": "@jupyter-widgets/controls",
            "_model_module_version": "1.5.0",
            "_model_name": "FloatProgressModel",
            "_view_count": null,
            "_view_module": "@jupyter-widgets/controls",
            "_view_module_version": "1.5.0",
            "_view_name": "ProgressView",
            "bar_style": "danger",
            "description": "",
            "description_tooltip": null,
            "layout": "IPY_MODEL_f18fe37d850e45c8b2d7dcc55b0f3a8c",
            "max": 80523,
            "min": 0,
            "orientation": "horizontal",
            "style": "IPY_MODEL_abab4310a6fe44d0b1523be75b954ed7",
            "value": 8382
          }
        },
        "46d7584f1018439ba782f58a16b4f3ea": {
          "model_module": "@jupyter-widgets/controls",
          "model_name": "HTMLModel",
          "model_module_version": "1.5.0",
          "state": {
            "_dom_classes": [],
            "_model_module": "@jupyter-widgets/controls",
            "_model_module_version": "1.5.0",
            "_model_name": "HTMLModel",
            "_view_count": null,
            "_view_module": "@jupyter-widgets/controls",
            "_view_module_version": "1.5.0",
            "_view_name": "HTMLView",
            "description": "",
            "description_tooltip": null,
            "layout": "IPY_MODEL_d19f0d424dfd404990cc536e2230f248",
            "placeholder": "​",
            "style": "IPY_MODEL_1cab74bf79984747bfa3b83f8dea99ae",
            "value": " 8382/80523 [03:47&lt;30:23, 39.57it/s]"
          }
        },
        "c4d8ff133b8e4070bf406f756e6c50aa": {
          "model_module": "@jupyter-widgets/base",
          "model_name": "LayoutModel",
          "model_module_version": "1.2.0",
          "state": {
            "_model_module": "@jupyter-widgets/base",
            "_model_module_version": "1.2.0",
            "_model_name": "LayoutModel",
            "_view_count": null,
            "_view_module": "@jupyter-widgets/base",
            "_view_module_version": "1.2.0",
            "_view_name": "LayoutView",
            "align_content": null,
            "align_items": null,
            "align_self": null,
            "border": null,
            "bottom": null,
            "display": null,
            "flex": null,
            "flex_flow": null,
            "grid_area": null,
            "grid_auto_columns": null,
            "grid_auto_flow": null,
            "grid_auto_rows": null,
            "grid_column": null,
            "grid_gap": null,
            "grid_row": null,
            "grid_template_areas": null,
            "grid_template_columns": null,
            "grid_template_rows": null,
            "height": null,
            "justify_content": null,
            "justify_items": null,
            "left": null,
            "margin": null,
            "max_height": null,
            "max_width": null,
            "min_height": null,
            "min_width": null,
            "object_fit": null,
            "object_position": null,
            "order": null,
            "overflow": null,
            "overflow_x": null,
            "overflow_y": null,
            "padding": null,
            "right": null,
            "top": null,
            "visibility": null,
            "width": null
          }
        },
        "eb119e4ce1f449f78c700e0db8502788": {
          "model_module": "@jupyter-widgets/base",
          "model_name": "LayoutModel",
          "model_module_version": "1.2.0",
          "state": {
            "_model_module": "@jupyter-widgets/base",
            "_model_module_version": "1.2.0",
            "_model_name": "LayoutModel",
            "_view_count": null,
            "_view_module": "@jupyter-widgets/base",
            "_view_module_version": "1.2.0",
            "_view_name": "LayoutView",
            "align_content": null,
            "align_items": null,
            "align_self": null,
            "border": null,
            "bottom": null,
            "display": null,
            "flex": null,
            "flex_flow": null,
            "grid_area": null,
            "grid_auto_columns": null,
            "grid_auto_flow": null,
            "grid_auto_rows": null,
            "grid_column": null,
            "grid_gap": null,
            "grid_row": null,
            "grid_template_areas": null,
            "grid_template_columns": null,
            "grid_template_rows": null,
            "height": null,
            "justify_content": null,
            "justify_items": null,
            "left": null,
            "margin": null,
            "max_height": null,
            "max_width": null,
            "min_height": null,
            "min_width": null,
            "object_fit": null,
            "object_position": null,
            "order": null,
            "overflow": null,
            "overflow_x": null,
            "overflow_y": null,
            "padding": null,
            "right": null,
            "top": null,
            "visibility": null,
            "width": null
          }
        },
        "6ab1e0f1566b42ac8718201d3cdef09d": {
          "model_module": "@jupyter-widgets/controls",
          "model_name": "DescriptionStyleModel",
          "model_module_version": "1.5.0",
          "state": {
            "_model_module": "@jupyter-widgets/controls",
            "_model_module_version": "1.5.0",
            "_model_name": "DescriptionStyleModel",
            "_view_count": null,
            "_view_module": "@jupyter-widgets/base",
            "_view_module_version": "1.2.0",
            "_view_name": "StyleView",
            "description_width": ""
          }
        },
        "f18fe37d850e45c8b2d7dcc55b0f3a8c": {
          "model_module": "@jupyter-widgets/base",
          "model_name": "LayoutModel",
          "model_module_version": "1.2.0",
          "state": {
            "_model_module": "@jupyter-widgets/base",
            "_model_module_version": "1.2.0",
            "_model_name": "LayoutModel",
            "_view_count": null,
            "_view_module": "@jupyter-widgets/base",
            "_view_module_version": "1.2.0",
            "_view_name": "LayoutView",
            "align_content": null,
            "align_items": null,
            "align_self": null,
            "border": null,
            "bottom": null,
            "display": null,
            "flex": null,
            "flex_flow": null,
            "grid_area": null,
            "grid_auto_columns": null,
            "grid_auto_flow": null,
            "grid_auto_rows": null,
            "grid_column": null,
            "grid_gap": null,
            "grid_row": null,
            "grid_template_areas": null,
            "grid_template_columns": null,
            "grid_template_rows": null,
            "height": null,
            "justify_content": null,
            "justify_items": null,
            "left": null,
            "margin": null,
            "max_height": null,
            "max_width": null,
            "min_height": null,
            "min_width": null,
            "object_fit": null,
            "object_position": null,
            "order": null,
            "overflow": null,
            "overflow_x": null,
            "overflow_y": null,
            "padding": null,
            "right": null,
            "top": null,
            "visibility": null,
            "width": null
          }
        },
        "abab4310a6fe44d0b1523be75b954ed7": {
          "model_module": "@jupyter-widgets/controls",
          "model_name": "ProgressStyleModel",
          "model_module_version": "1.5.0",
          "state": {
            "_model_module": "@jupyter-widgets/controls",
            "_model_module_version": "1.5.0",
            "_model_name": "ProgressStyleModel",
            "_view_count": null,
            "_view_module": "@jupyter-widgets/base",
            "_view_module_version": "1.2.0",
            "_view_name": "StyleView",
            "bar_color": null,
            "description_width": ""
          }
        },
        "d19f0d424dfd404990cc536e2230f248": {
          "model_module": "@jupyter-widgets/base",
          "model_name": "LayoutModel",
          "model_module_version": "1.2.0",
          "state": {
            "_model_module": "@jupyter-widgets/base",
            "_model_module_version": "1.2.0",
            "_model_name": "LayoutModel",
            "_view_count": null,
            "_view_module": "@jupyter-widgets/base",
            "_view_module_version": "1.2.0",
            "_view_name": "LayoutView",
            "align_content": null,
            "align_items": null,
            "align_self": null,
            "border": null,
            "bottom": null,
            "display": null,
            "flex": null,
            "flex_flow": null,
            "grid_area": null,
            "grid_auto_columns": null,
            "grid_auto_flow": null,
            "grid_auto_rows": null,
            "grid_column": null,
            "grid_gap": null,
            "grid_row": null,
            "grid_template_areas": null,
            "grid_template_columns": null,
            "grid_template_rows": null,
            "height": null,
            "justify_content": null,
            "justify_items": null,
            "left": null,
            "margin": null,
            "max_height": null,
            "max_width": null,
            "min_height": null,
            "min_width": null,
            "object_fit": null,
            "object_position": null,
            "order": null,
            "overflow": null,
            "overflow_x": null,
            "overflow_y": null,
            "padding": null,
            "right": null,
            "top": null,
            "visibility": null,
            "width": null
          }
        },
        "1cab74bf79984747bfa3b83f8dea99ae": {
          "model_module": "@jupyter-widgets/controls",
          "model_name": "DescriptionStyleModel",
          "model_module_version": "1.5.0",
          "state": {
            "_model_module": "@jupyter-widgets/controls",
            "_model_module_version": "1.5.0",
            "_model_name": "DescriptionStyleModel",
            "_view_count": null,
            "_view_module": "@jupyter-widgets/base",
            "_view_module_version": "1.2.0",
            "_view_name": "StyleView",
            "description_width": ""
          }
        }
      }
    }
  },
  "nbformat": 4,
  "nbformat_minor": 0
}