{
  "metadata": {
    "kernelspec": {
      "name": "python3",
      "display_name": "Python 3",
      "language": "python"
    },
    "language_info": {
      "name": "python",
      "version": "3.10.12",
      "mimetype": "text/x-python",
      "codemirror_mode": {
        "name": "ipython",
        "version": 3
      },
      "pygments_lexer": "ipython3",
      "nbconvert_exporter": "python",
      "file_extension": ".py"
    },
    "colab": {
      "provenance": [],
      "gpuType": "T4"
    },
    "accelerator": "GPU",
    "widgets": {
      "application/vnd.jupyter.widget-state+json": {
        "590727e842ba4da9b6284b663a6bf08c": {
          "model_module": "@jupyter-widgets/controls",
          "model_name": "HBoxModel",
          "model_module_version": "1.5.0",
          "state": {
            "_dom_classes": [],
            "_model_module": "@jupyter-widgets/controls",
            "_model_module_version": "1.5.0",
            "_model_name": "HBoxModel",
            "_view_count": null,
            "_view_module": "@jupyter-widgets/controls",
            "_view_module_version": "1.5.0",
            "_view_name": "HBoxView",
            "box_style": "",
            "children": [
              "IPY_MODEL_292929c9b7ea441884355dd12c3d0af0",
              "IPY_MODEL_d073f4cbcb5249e49fb6972449134a3e",
              "IPY_MODEL_43aebc74a29d44fa976b022984d16553"
            ],
            "layout": "IPY_MODEL_0ccdd60812944c0fb5e3a0efd5c63a16"
          }
        },
        "292929c9b7ea441884355dd12c3d0af0": {
          "model_module": "@jupyter-widgets/controls",
          "model_name": "HTMLModel",
          "model_module_version": "1.5.0",
          "state": {
            "_dom_classes": [],
            "_model_module": "@jupyter-widgets/controls",
            "_model_module_version": "1.5.0",
            "_model_name": "HTMLModel",
            "_view_count": null,
            "_view_module": "@jupyter-widgets/controls",
            "_view_module_version": "1.5.0",
            "_view_name": "HTMLView",
            "description": "",
            "description_tooltip": null,
            "layout": "IPY_MODEL_bf856f4432e94a96b2e8b16515afab87",
            "placeholder": "​",
            "style": "IPY_MODEL_2f7bd5cf7c774248b0919c8a6f50d9c1",
            "value": "Epoch 1/12 Loss: 8.1599:   2%"
          }
        },
        "d073f4cbcb5249e49fb6972449134a3e": {
          "model_module": "@jupyter-widgets/controls",
          "model_name": "FloatProgressModel",
          "model_module_version": "1.5.0",
          "state": {
            "_dom_classes": [],
            "_model_module": "@jupyter-widgets/controls",
            "_model_module_version": "1.5.0",
            "_model_name": "FloatProgressModel",
            "_view_count": null,
            "_view_module": "@jupyter-widgets/controls",
            "_view_module_version": "1.5.0",
            "_view_name": "ProgressView",
            "bar_style": "danger",
            "description": "",
            "description_tooltip": null,
            "layout": "IPY_MODEL_bcf26cf56e3d419882b5c1e4f91bc687",
            "max": 12377,
            "min": 0,
            "orientation": "horizontal",
            "style": "IPY_MODEL_85baac08930f4b5e868dc71b948f916a",
            "value": 225
          }
        },
        "43aebc74a29d44fa976b022984d16553": {
          "model_module": "@jupyter-widgets/controls",
          "model_name": "HTMLModel",
          "model_module_version": "1.5.0",
          "state": {
            "_dom_classes": [],
            "_model_module": "@jupyter-widgets/controls",
            "_model_module_version": "1.5.0",
            "_model_name": "HTMLModel",
            "_view_count": null,
            "_view_module": "@jupyter-widgets/controls",
            "_view_module_version": "1.5.0",
            "_view_name": "HTMLView",
            "description": "",
            "description_tooltip": null,
            "layout": "IPY_MODEL_394a7bb3d2b84e33aed69a85fc8e3cbf",
            "placeholder": "​",
            "style": "IPY_MODEL_f4d0a84e98db41239d095ef95feef6d1",
            "value": " 225/12377 [00:30&lt;31:55,  6.35it/s]"
          }
        },
        "0ccdd60812944c0fb5e3a0efd5c63a16": {
          "model_module": "@jupyter-widgets/base",
          "model_name": "LayoutModel",
          "model_module_version": "1.2.0",
          "state": {
            "_model_module": "@jupyter-widgets/base",
            "_model_module_version": "1.2.0",
            "_model_name": "LayoutModel",
            "_view_count": null,
            "_view_module": "@jupyter-widgets/base",
            "_view_module_version": "1.2.0",
            "_view_name": "LayoutView",
            "align_content": null,
            "align_items": null,
            "align_self": null,
            "border": null,
            "bottom": null,
            "display": null,
            "flex": null,
            "flex_flow": null,
            "grid_area": null,
            "grid_auto_columns": null,
            "grid_auto_flow": null,
            "grid_auto_rows": null,
            "grid_column": null,
            "grid_gap": null,
            "grid_row": null,
            "grid_template_areas": null,
            "grid_template_columns": null,
            "grid_template_rows": null,
            "height": null,
            "justify_content": null,
            "justify_items": null,
            "left": null,
            "margin": null,
            "max_height": null,
            "max_width": null,
            "min_height": null,
            "min_width": null,
            "object_fit": null,
            "object_position": null,
            "order": null,
            "overflow": null,
            "overflow_x": null,
            "overflow_y": null,
            "padding": null,
            "right": null,
            "top": null,
            "visibility": null,
            "width": null
          }
        },
        "bf856f4432e94a96b2e8b16515afab87": {
          "model_module": "@jupyter-widgets/base",
          "model_name": "LayoutModel",
          "model_module_version": "1.2.0",
          "state": {
            "_model_module": "@jupyter-widgets/base",
            "_model_module_version": "1.2.0",
            "_model_name": "LayoutModel",
            "_view_count": null,
            "_view_module": "@jupyter-widgets/base",
            "_view_module_version": "1.2.0",
            "_view_name": "LayoutView",
            "align_content": null,
            "align_items": null,
            "align_self": null,
            "border": null,
            "bottom": null,
            "display": null,
            "flex": null,
            "flex_flow": null,
            "grid_area": null,
            "grid_auto_columns": null,
            "grid_auto_flow": null,
            "grid_auto_rows": null,
            "grid_column": null,
            "grid_gap": null,
            "grid_row": null,
            "grid_template_areas": null,
            "grid_template_columns": null,
            "grid_template_rows": null,
            "height": null,
            "justify_content": null,
            "justify_items": null,
            "left": null,
            "margin": null,
            "max_height": null,
            "max_width": null,
            "min_height": null,
            "min_width": null,
            "object_fit": null,
            "object_position": null,
            "order": null,
            "overflow": null,
            "overflow_x": null,
            "overflow_y": null,
            "padding": null,
            "right": null,
            "top": null,
            "visibility": null,
            "width": null
          }
        },
        "2f7bd5cf7c774248b0919c8a6f50d9c1": {
          "model_module": "@jupyter-widgets/controls",
          "model_name": "DescriptionStyleModel",
          "model_module_version": "1.5.0",
          "state": {
            "_model_module": "@jupyter-widgets/controls",
            "_model_module_version": "1.5.0",
            "_model_name": "DescriptionStyleModel",
            "_view_count": null,
            "_view_module": "@jupyter-widgets/base",
            "_view_module_version": "1.2.0",
            "_view_name": "StyleView",
            "description_width": ""
          }
        },
        "bcf26cf56e3d419882b5c1e4f91bc687": {
          "model_module": "@jupyter-widgets/base",
          "model_name": "LayoutModel",
          "model_module_version": "1.2.0",
          "state": {
            "_model_module": "@jupyter-widgets/base",
            "_model_module_version": "1.2.0",
            "_model_name": "LayoutModel",
            "_view_count": null,
            "_view_module": "@jupyter-widgets/base",
            "_view_module_version": "1.2.0",
            "_view_name": "LayoutView",
            "align_content": null,
            "align_items": null,
            "align_self": null,
            "border": null,
            "bottom": null,
            "display": null,
            "flex": null,
            "flex_flow": null,
            "grid_area": null,
            "grid_auto_columns": null,
            "grid_auto_flow": null,
            "grid_auto_rows": null,
            "grid_column": null,
            "grid_gap": null,
            "grid_row": null,
            "grid_template_areas": null,
            "grid_template_columns": null,
            "grid_template_rows": null,
            "height": null,
            "justify_content": null,
            "justify_items": null,
            "left": null,
            "margin": null,
            "max_height": null,
            "max_width": null,
            "min_height": null,
            "min_width": null,
            "object_fit": null,
            "object_position": null,
            "order": null,
            "overflow": null,
            "overflow_x": null,
            "overflow_y": null,
            "padding": null,
            "right": null,
            "top": null,
            "visibility": null,
            "width": null
          }
        },
        "85baac08930f4b5e868dc71b948f916a": {
          "model_module": "@jupyter-widgets/controls",
          "model_name": "ProgressStyleModel",
          "model_module_version": "1.5.0",
          "state": {
            "_model_module": "@jupyter-widgets/controls",
            "_model_module_version": "1.5.0",
            "_model_name": "ProgressStyleModel",
            "_view_count": null,
            "_view_module": "@jupyter-widgets/base",
            "_view_module_version": "1.2.0",
            "_view_name": "StyleView",
            "bar_color": null,
            "description_width": ""
          }
        },
        "394a7bb3d2b84e33aed69a85fc8e3cbf": {
          "model_module": "@jupyter-widgets/base",
          "model_name": "LayoutModel",
          "model_module_version": "1.2.0",
          "state": {
            "_model_module": "@jupyter-widgets/base",
            "_model_module_version": "1.2.0",
            "_model_name": "LayoutModel",
            "_view_count": null,
            "_view_module": "@jupyter-widgets/base",
            "_view_module_version": "1.2.0",
            "_view_name": "LayoutView",
            "align_content": null,
            "align_items": null,
            "align_self": null,
            "border": null,
            "bottom": null,
            "display": null,
            "flex": null,
            "flex_flow": null,
            "grid_area": null,
            "grid_auto_columns": null,
            "grid_auto_flow": null,
            "grid_auto_rows": null,
            "grid_column": null,
            "grid_gap": null,
            "grid_row": null,
            "grid_template_areas": null,
            "grid_template_columns": null,
            "grid_template_rows": null,
            "height": null,
            "justify_content": null,
            "justify_items": null,
            "left": null,
            "margin": null,
            "max_height": null,
            "max_width": null,
            "min_height": null,
            "min_width": null,
            "object_fit": null,
            "object_position": null,
            "order": null,
            "overflow": null,
            "overflow_x": null,
            "overflow_y": null,
            "padding": null,
            "right": null,
            "top": null,
            "visibility": null,
            "width": null
          }
        },
        "f4d0a84e98db41239d095ef95feef6d1": {
          "model_module": "@jupyter-widgets/controls",
          "model_name": "DescriptionStyleModel",
          "model_module_version": "1.5.0",
          "state": {
            "_model_module": "@jupyter-widgets/controls",
            "_model_module_version": "1.5.0",
            "_model_name": "DescriptionStyleModel",
            "_view_count": null,
            "_view_module": "@jupyter-widgets/base",
            "_view_module_version": "1.2.0",
            "_view_name": "StyleView",
            "description_width": ""
          }
        },
        "671797e9b9e7460c8f675df71a316e9b": {
          "model_module": "@jupyter-widgets/controls",
          "model_name": "HBoxModel",
          "model_module_version": "1.5.0",
          "state": {
            "_dom_classes": [],
            "_model_module": "@jupyter-widgets/controls",
            "_model_module_version": "1.5.0",
            "_model_name": "HBoxModel",
            "_view_count": null,
            "_view_module": "@jupyter-widgets/controls",
            "_view_module_version": "1.5.0",
            "_view_name": "HBoxView",
            "box_style": "",
            "children": [
              "IPY_MODEL_5ff5b6bd4b83408a83f093a7fbf93b63",
              "IPY_MODEL_efeaf4cfc2a44699a967a3aeb0c5af39",
              "IPY_MODEL_19c4ad9dcabc4720b2c3c2ccbf39e3d5"
            ],
            "layout": "IPY_MODEL_3aa1e91f004c43a68d3d4c8d065caeb7"
          }
        },
        "5ff5b6bd4b83408a83f093a7fbf93b63": {
          "model_module": "@jupyter-widgets/controls",
          "model_name": "HTMLModel",
          "model_module_version": "1.5.0",
          "state": {
            "_dom_classes": [],
            "_model_module": "@jupyter-widgets/controls",
            "_model_module_version": "1.5.0",
            "_model_name": "HTMLModel",
            "_view_count": null,
            "_view_module": "@jupyter-widgets/controls",
            "_view_module_version": "1.5.0",
            "_view_name": "HTMLView",
            "description": "",
            "description_tooltip": null,
            "layout": "IPY_MODEL_142847b68e6849a1a5c7299a7a054211",
            "placeholder": "​",
            "style": "IPY_MODEL_f5d0c283b9274e2e88d09abe3f3e62c8",
            "value": "Epoch 1/3 Loss: 8.9383: 100%"
          }
        },
        "efeaf4cfc2a44699a967a3aeb0c5af39": {
          "model_module": "@jupyter-widgets/controls",
          "model_name": "FloatProgressModel",
          "model_module_version": "1.5.0",
          "state": {
            "_dom_classes": [],
            "_model_module": "@jupyter-widgets/controls",
            "_model_module_version": "1.5.0",
            "_model_name": "FloatProgressModel",
            "_view_count": null,
            "_view_module": "@jupyter-widgets/controls",
            "_view_module_version": "1.5.0",
            "_view_name": "ProgressView",
            "bar_style": "success",
            "description": "",
            "description_tooltip": null,
            "layout": "IPY_MODEL_03a1ebf334ec4b63ad892571f753062b",
            "max": 9623,
            "min": 0,
            "orientation": "horizontal",
            "style": "IPY_MODEL_ae336cee61354a30bfdea6a064bd50d3",
            "value": 9623
          }
        },
        "19c4ad9dcabc4720b2c3c2ccbf39e3d5": {
          "model_module": "@jupyter-widgets/controls",
          "model_name": "HTMLModel",
          "model_module_version": "1.5.0",
          "state": {
            "_dom_classes": [],
            "_model_module": "@jupyter-widgets/controls",
            "_model_module_version": "1.5.0",
            "_model_name": "HTMLModel",
            "_view_count": null,
            "_view_module": "@jupyter-widgets/controls",
            "_view_module_version": "1.5.0",
            "_view_name": "HTMLView",
            "description": "",
            "description_tooltip": null,
            "layout": "IPY_MODEL_487f4daa0d274ae39f293dfe035850c6",
            "placeholder": "​",
            "style": "IPY_MODEL_d69099d169624c51b6b178005a054e66",
            "value": " 9623/9623 [51:00&lt;00:00,  3.09it/s]"
          }
        },
        "3aa1e91f004c43a68d3d4c8d065caeb7": {
          "model_module": "@jupyter-widgets/base",
          "model_name": "LayoutModel",
          "model_module_version": "1.2.0",
          "state": {
            "_model_module": "@jupyter-widgets/base",
            "_model_module_version": "1.2.0",
            "_model_name": "LayoutModel",
            "_view_count": null,
            "_view_module": "@jupyter-widgets/base",
            "_view_module_version": "1.2.0",
            "_view_name": "LayoutView",
            "align_content": null,
            "align_items": null,
            "align_self": null,
            "border": null,
            "bottom": null,
            "display": null,
            "flex": null,
            "flex_flow": null,
            "grid_area": null,
            "grid_auto_columns": null,
            "grid_auto_flow": null,
            "grid_auto_rows": null,
            "grid_column": null,
            "grid_gap": null,
            "grid_row": null,
            "grid_template_areas": null,
            "grid_template_columns": null,
            "grid_template_rows": null,
            "height": null,
            "justify_content": null,
            "justify_items": null,
            "left": null,
            "margin": null,
            "max_height": null,
            "max_width": null,
            "min_height": null,
            "min_width": null,
            "object_fit": null,
            "object_position": null,
            "order": null,
            "overflow": null,
            "overflow_x": null,
            "overflow_y": null,
            "padding": null,
            "right": null,
            "top": null,
            "visibility": null,
            "width": null
          }
        },
        "142847b68e6849a1a5c7299a7a054211": {
          "model_module": "@jupyter-widgets/base",
          "model_name": "LayoutModel",
          "model_module_version": "1.2.0",
          "state": {
            "_model_module": "@jupyter-widgets/base",
            "_model_module_version": "1.2.0",
            "_model_name": "LayoutModel",
            "_view_count": null,
            "_view_module": "@jupyter-widgets/base",
            "_view_module_version": "1.2.0",
            "_view_name": "LayoutView",
            "align_content": null,
            "align_items": null,
            "align_self": null,
            "border": null,
            "bottom": null,
            "display": null,
            "flex": null,
            "flex_flow": null,
            "grid_area": null,
            "grid_auto_columns": null,
            "grid_auto_flow": null,
            "grid_auto_rows": null,
            "grid_column": null,
            "grid_gap": null,
            "grid_row": null,
            "grid_template_areas": null,
            "grid_template_columns": null,
            "grid_template_rows": null,
            "height": null,
            "justify_content": null,
            "justify_items": null,
            "left": null,
            "margin": null,
            "max_height": null,
            "max_width": null,
            "min_height": null,
            "min_width": null,
            "object_fit": null,
            "object_position": null,
            "order": null,
            "overflow": null,
            "overflow_x": null,
            "overflow_y": null,
            "padding": null,
            "right": null,
            "top": null,
            "visibility": null,
            "width": null
          }
        },
        "f5d0c283b9274e2e88d09abe3f3e62c8": {
          "model_module": "@jupyter-widgets/controls",
          "model_name": "DescriptionStyleModel",
          "model_module_version": "1.5.0",
          "state": {
            "_model_module": "@jupyter-widgets/controls",
            "_model_module_version": "1.5.0",
            "_model_name": "DescriptionStyleModel",
            "_view_count": null,
            "_view_module": "@jupyter-widgets/base",
            "_view_module_version": "1.2.0",
            "_view_name": "StyleView",
            "description_width": ""
          }
        },
        "03a1ebf334ec4b63ad892571f753062b": {
          "model_module": "@jupyter-widgets/base",
          "model_name": "LayoutModel",
          "model_module_version": "1.2.0",
          "state": {
            "_model_module": "@jupyter-widgets/base",
            "_model_module_version": "1.2.0",
            "_model_name": "LayoutModel",
            "_view_count": null,
            "_view_module": "@jupyter-widgets/base",
            "_view_module_version": "1.2.0",
            "_view_name": "LayoutView",
            "align_content": null,
            "align_items": null,
            "align_self": null,
            "border": null,
            "bottom": null,
            "display": null,
            "flex": null,
            "flex_flow": null,
            "grid_area": null,
            "grid_auto_columns": null,
            "grid_auto_flow": null,
            "grid_auto_rows": null,
            "grid_column": null,
            "grid_gap": null,
            "grid_row": null,
            "grid_template_areas": null,
            "grid_template_columns": null,
            "grid_template_rows": null,
            "height": null,
            "justify_content": null,
            "justify_items": null,
            "left": null,
            "margin": null,
            "max_height": null,
            "max_width": null,
            "min_height": null,
            "min_width": null,
            "object_fit": null,
            "object_position": null,
            "order": null,
            "overflow": null,
            "overflow_x": null,
            "overflow_y": null,
            "padding": null,
            "right": null,
            "top": null,
            "visibility": null,
            "width": null
          }
        },
        "ae336cee61354a30bfdea6a064bd50d3": {
          "model_module": "@jupyter-widgets/controls",
          "model_name": "ProgressStyleModel",
          "model_module_version": "1.5.0",
          "state": {
            "_model_module": "@jupyter-widgets/controls",
            "_model_module_version": "1.5.0",
            "_model_name": "ProgressStyleModel",
            "_view_count": null,
            "_view_module": "@jupyter-widgets/base",
            "_view_module_version": "1.2.0",
            "_view_name": "StyleView",
            "bar_color": null,
            "description_width": ""
          }
        },
        "487f4daa0d274ae39f293dfe035850c6": {
          "model_module": "@jupyter-widgets/base",
          "model_name": "LayoutModel",
          "model_module_version": "1.2.0",
          "state": {
            "_model_module": "@jupyter-widgets/base",
            "_model_module_version": "1.2.0",
            "_model_name": "LayoutModel",
            "_view_count": null,
            "_view_module": "@jupyter-widgets/base",
            "_view_module_version": "1.2.0",
            "_view_name": "LayoutView",
            "align_content": null,
            "align_items": null,
            "align_self": null,
            "border": null,
            "bottom": null,
            "display": null,
            "flex": null,
            "flex_flow": null,
            "grid_area": null,
            "grid_auto_columns": null,
            "grid_auto_flow": null,
            "grid_auto_rows": null,
            "grid_column": null,
            "grid_gap": null,
            "grid_row": null,
            "grid_template_areas": null,
            "grid_template_columns": null,
            "grid_template_rows": null,
            "height": null,
            "justify_content": null,
            "justify_items": null,
            "left": null,
            "margin": null,
            "max_height": null,
            "max_width": null,
            "min_height": null,
            "min_width": null,
            "object_fit": null,
            "object_position": null,
            "order": null,
            "overflow": null,
            "overflow_x": null,
            "overflow_y": null,
            "padding": null,
            "right": null,
            "top": null,
            "visibility": null,
            "width": null
          }
        },
        "d69099d169624c51b6b178005a054e66": {
          "model_module": "@jupyter-widgets/controls",
          "model_name": "DescriptionStyleModel",
          "model_module_version": "1.5.0",
          "state": {
            "_model_module": "@jupyter-widgets/controls",
            "_model_module_version": "1.5.0",
            "_model_name": "DescriptionStyleModel",
            "_view_count": null,
            "_view_module": "@jupyter-widgets/base",
            "_view_module_version": "1.2.0",
            "_view_name": "StyleView",
            "description_width": ""
          }
        },
        "a6514b19ad964c6ca0d9014905b8dfa1": {
          "model_module": "@jupyter-widgets/controls",
          "model_name": "HBoxModel",
          "model_module_version": "1.5.0",
          "state": {
            "_dom_classes": [],
            "_model_module": "@jupyter-widgets/controls",
            "_model_module_version": "1.5.0",
            "_model_name": "HBoxModel",
            "_view_count": null,
            "_view_module": "@jupyter-widgets/controls",
            "_view_module_version": "1.5.0",
            "_view_name": "HBoxView",
            "box_style": "",
            "children": [
              "IPY_MODEL_a730ec7cef4c48c79ca04feb023f985e",
              "IPY_MODEL_d0daf98e39a24924a0ca6493932a296d",
              "IPY_MODEL_938651e9d7154e1c962e7813a27fa931"
            ],
            "layout": "IPY_MODEL_b8e7a331126d41739cb7f6e37f9313b7"
          }
        },
        "a730ec7cef4c48c79ca04feb023f985e": {
          "model_module": "@jupyter-widgets/controls",
          "model_name": "HTMLModel",
          "model_module_version": "1.5.0",
          "state": {
            "_dom_classes": [],
            "_model_module": "@jupyter-widgets/controls",
            "_model_module_version": "1.5.0",
            "_model_name": "HTMLModel",
            "_view_count": null,
            "_view_module": "@jupyter-widgets/controls",
            "_view_module_version": "1.5.0",
            "_view_name": "HTMLView",
            "description": "",
            "description_tooltip": null,
            "layout": "IPY_MODEL_8d53e96fd96c45a19bafd78003c5c038",
            "placeholder": "​",
            "style": "IPY_MODEL_2cf099de80504e7d93e8564c16774b1d",
            "value": "Validating Epoch 1/3 Val Loss: 8.1056: 100%"
          }
        },
        "d0daf98e39a24924a0ca6493932a296d": {
          "model_module": "@jupyter-widgets/controls",
          "model_name": "FloatProgressModel",
          "model_module_version": "1.5.0",
          "state": {
            "_dom_classes": [],
            "_model_module": "@jupyter-widgets/controls",
            "_model_module_version": "1.5.0",
            "_model_name": "FloatProgressModel",
            "_view_count": null,
            "_view_module": "@jupyter-widgets/controls",
            "_view_module_version": "1.5.0",
            "_view_name": "ProgressView",
            "bar_style": "success",
            "description": "",
            "description_tooltip": null,
            "layout": "IPY_MODEL_a9b10723e45c4371b8b4e27cc498ea9b",
            "max": 1203,
            "min": 0,
            "orientation": "horizontal",
            "style": "IPY_MODEL_8932cbdecd8a431791b5b4e14651be08",
            "value": 1203
          }
        },
        "938651e9d7154e1c962e7813a27fa931": {
          "model_module": "@jupyter-widgets/controls",
          "model_name": "HTMLModel",
          "model_module_version": "1.5.0",
          "state": {
            "_dom_classes": [],
            "_model_module": "@jupyter-widgets/controls",
            "_model_module_version": "1.5.0",
            "_model_name": "HTMLModel",
            "_view_count": null,
            "_view_module": "@jupyter-widgets/controls",
            "_view_module_version": "1.5.0",
            "_view_name": "HTMLView",
            "description": "",
            "description_tooltip": null,
            "layout": "IPY_MODEL_4900734ad3104222bf0722f0dc8279d6",
            "placeholder": "​",
            "style": "IPY_MODEL_7c126c6a88534ddea97db9baf6ed26bc",
            "value": " 1203/1203 [00:41&lt;00:00, 32.36it/s]"
          }
        },
        "b8e7a331126d41739cb7f6e37f9313b7": {
          "model_module": "@jupyter-widgets/base",
          "model_name": "LayoutModel",
          "model_module_version": "1.2.0",
          "state": {
            "_model_module": "@jupyter-widgets/base",
            "_model_module_version": "1.2.0",
            "_model_name": "LayoutModel",
            "_view_count": null,
            "_view_module": "@jupyter-widgets/base",
            "_view_module_version": "1.2.0",
            "_view_name": "LayoutView",
            "align_content": null,
            "align_items": null,
            "align_self": null,
            "border": null,
            "bottom": null,
            "display": null,
            "flex": null,
            "flex_flow": null,
            "grid_area": null,
            "grid_auto_columns": null,
            "grid_auto_flow": null,
            "grid_auto_rows": null,
            "grid_column": null,
            "grid_gap": null,
            "grid_row": null,
            "grid_template_areas": null,
            "grid_template_columns": null,
            "grid_template_rows": null,
            "height": null,
            "justify_content": null,
            "justify_items": null,
            "left": null,
            "margin": null,
            "max_height": null,
            "max_width": null,
            "min_height": null,
            "min_width": null,
            "object_fit": null,
            "object_position": null,
            "order": null,
            "overflow": null,
            "overflow_x": null,
            "overflow_y": null,
            "padding": null,
            "right": null,
            "top": null,
            "visibility": null,
            "width": null
          }
        },
        "8d53e96fd96c45a19bafd78003c5c038": {
          "model_module": "@jupyter-widgets/base",
          "model_name": "LayoutModel",
          "model_module_version": "1.2.0",
          "state": {
            "_model_module": "@jupyter-widgets/base",
            "_model_module_version": "1.2.0",
            "_model_name": "LayoutModel",
            "_view_count": null,
            "_view_module": "@jupyter-widgets/base",
            "_view_module_version": "1.2.0",
            "_view_name": "LayoutView",
            "align_content": null,
            "align_items": null,
            "align_self": null,
            "border": null,
            "bottom": null,
            "display": null,
            "flex": null,
            "flex_flow": null,
            "grid_area": null,
            "grid_auto_columns": null,
            "grid_auto_flow": null,
            "grid_auto_rows": null,
            "grid_column": null,
            "grid_gap": null,
            "grid_row": null,
            "grid_template_areas": null,
            "grid_template_columns": null,
            "grid_template_rows": null,
            "height": null,
            "justify_content": null,
            "justify_items": null,
            "left": null,
            "margin": null,
            "max_height": null,
            "max_width": null,
            "min_height": null,
            "min_width": null,
            "object_fit": null,
            "object_position": null,
            "order": null,
            "overflow": null,
            "overflow_x": null,
            "overflow_y": null,
            "padding": null,
            "right": null,
            "top": null,
            "visibility": null,
            "width": null
          }
        },
        "2cf099de80504e7d93e8564c16774b1d": {
          "model_module": "@jupyter-widgets/controls",
          "model_name": "DescriptionStyleModel",
          "model_module_version": "1.5.0",
          "state": {
            "_model_module": "@jupyter-widgets/controls",
            "_model_module_version": "1.5.0",
            "_model_name": "DescriptionStyleModel",
            "_view_count": null,
            "_view_module": "@jupyter-widgets/base",
            "_view_module_version": "1.2.0",
            "_view_name": "StyleView",
            "description_width": ""
          }
        },
        "a9b10723e45c4371b8b4e27cc498ea9b": {
          "model_module": "@jupyter-widgets/base",
          "model_name": "LayoutModel",
          "model_module_version": "1.2.0",
          "state": {
            "_model_module": "@jupyter-widgets/base",
            "_model_module_version": "1.2.0",
            "_model_name": "LayoutModel",
            "_view_count": null,
            "_view_module": "@jupyter-widgets/base",
            "_view_module_version": "1.2.0",
            "_view_name": "LayoutView",
            "align_content": null,
            "align_items": null,
            "align_self": null,
            "border": null,
            "bottom": null,
            "display": null,
            "flex": null,
            "flex_flow": null,
            "grid_area": null,
            "grid_auto_columns": null,
            "grid_auto_flow": null,
            "grid_auto_rows": null,
            "grid_column": null,
            "grid_gap": null,
            "grid_row": null,
            "grid_template_areas": null,
            "grid_template_columns": null,
            "grid_template_rows": null,
            "height": null,
            "justify_content": null,
            "justify_items": null,
            "left": null,
            "margin": null,
            "max_height": null,
            "max_width": null,
            "min_height": null,
            "min_width": null,
            "object_fit": null,
            "object_position": null,
            "order": null,
            "overflow": null,
            "overflow_x": null,
            "overflow_y": null,
            "padding": null,
            "right": null,
            "top": null,
            "visibility": null,
            "width": null
          }
        },
        "8932cbdecd8a431791b5b4e14651be08": {
          "model_module": "@jupyter-widgets/controls",
          "model_name": "ProgressStyleModel",
          "model_module_version": "1.5.0",
          "state": {
            "_model_module": "@jupyter-widgets/controls",
            "_model_module_version": "1.5.0",
            "_model_name": "ProgressStyleModel",
            "_view_count": null,
            "_view_module": "@jupyter-widgets/base",
            "_view_module_version": "1.2.0",
            "_view_name": "StyleView",
            "bar_color": null,
            "description_width": ""
          }
        },
        "4900734ad3104222bf0722f0dc8279d6": {
          "model_module": "@jupyter-widgets/base",
          "model_name": "LayoutModel",
          "model_module_version": "1.2.0",
          "state": {
            "_model_module": "@jupyter-widgets/base",
            "_model_module_version": "1.2.0",
            "_model_name": "LayoutModel",
            "_view_count": null,
            "_view_module": "@jupyter-widgets/base",
            "_view_module_version": "1.2.0",
            "_view_name": "LayoutView",
            "align_content": null,
            "align_items": null,
            "align_self": null,
            "border": null,
            "bottom": null,
            "display": null,
            "flex": null,
            "flex_flow": null,
            "grid_area": null,
            "grid_auto_columns": null,
            "grid_auto_flow": null,
            "grid_auto_rows": null,
            "grid_column": null,
            "grid_gap": null,
            "grid_row": null,
            "grid_template_areas": null,
            "grid_template_columns": null,
            "grid_template_rows": null,
            "height": null,
            "justify_content": null,
            "justify_items": null,
            "left": null,
            "margin": null,
            "max_height": null,
            "max_width": null,
            "min_height": null,
            "min_width": null,
            "object_fit": null,
            "object_position": null,
            "order": null,
            "overflow": null,
            "overflow_x": null,
            "overflow_y": null,
            "padding": null,
            "right": null,
            "top": null,
            "visibility": null,
            "width": null
          }
        },
        "7c126c6a88534ddea97db9baf6ed26bc": {
          "model_module": "@jupyter-widgets/controls",
          "model_name": "DescriptionStyleModel",
          "model_module_version": "1.5.0",
          "state": {
            "_model_module": "@jupyter-widgets/controls",
            "_model_module_version": "1.5.0",
            "_model_name": "DescriptionStyleModel",
            "_view_count": null,
            "_view_module": "@jupyter-widgets/base",
            "_view_module_version": "1.2.0",
            "_view_name": "StyleView",
            "description_width": ""
          }
        },
        "c5b2814871fe418684a7e2704886bf6c": {
          "model_module": "@jupyter-widgets/controls",
          "model_name": "HBoxModel",
          "model_module_version": "1.5.0",
          "state": {
            "_dom_classes": [],
            "_model_module": "@jupyter-widgets/controls",
            "_model_module_version": "1.5.0",
            "_model_name": "HBoxModel",
            "_view_count": null,
            "_view_module": "@jupyter-widgets/controls",
            "_view_module_version": "1.5.0",
            "_view_name": "HBoxView",
            "box_style": "",
            "children": [
              "IPY_MODEL_957bcd5ed6f84f638226e953509a4957",
              "IPY_MODEL_b457dba547ab4e80a908ffd5306a23a6",
              "IPY_MODEL_6eddd418c6c54fe0823102af203a15d0"
            ],
            "layout": "IPY_MODEL_b5d062f4808c44bb9499aef429a9c1ba"
          }
        },
        "957bcd5ed6f84f638226e953509a4957": {
          "model_module": "@jupyter-widgets/controls",
          "model_name": "HTMLModel",
          "model_module_version": "1.5.0",
          "state": {
            "_dom_classes": [],
            "_model_module": "@jupyter-widgets/controls",
            "_model_module_version": "1.5.0",
            "_model_name": "HTMLModel",
            "_view_count": null,
            "_view_module": "@jupyter-widgets/controls",
            "_view_module_version": "1.5.0",
            "_view_name": "HTMLView",
            "description": "",
            "description_tooltip": null,
            "layout": "IPY_MODEL_22674e6ed7424f37ae27198ca9564553",
            "placeholder": "​",
            "style": "IPY_MODEL_8f1cfa48af9844fa83060c58e81e70a0",
            "value": "Epoch 2/3 Loss: 7.6501: 100%"
          }
        },
        "b457dba547ab4e80a908ffd5306a23a6": {
          "model_module": "@jupyter-widgets/controls",
          "model_name": "FloatProgressModel",
          "model_module_version": "1.5.0",
          "state": {
            "_dom_classes": [],
            "_model_module": "@jupyter-widgets/controls",
            "_model_module_version": "1.5.0",
            "_model_name": "FloatProgressModel",
            "_view_count": null,
            "_view_module": "@jupyter-widgets/controls",
            "_view_module_version": "1.5.0",
            "_view_name": "ProgressView",
            "bar_style": "success",
            "description": "",
            "description_tooltip": null,
            "layout": "IPY_MODEL_de3320c17df64c8a83c7cfe2e2366546",
            "max": 9623,
            "min": 0,
            "orientation": "horizontal",
            "style": "IPY_MODEL_d549d806518b493d8f78a14481c095b9",
            "value": 9623
          }
        },
        "6eddd418c6c54fe0823102af203a15d0": {
          "model_module": "@jupyter-widgets/controls",
          "model_name": "HTMLModel",
          "model_module_version": "1.5.0",
          "state": {
            "_dom_classes": [],
            "_model_module": "@jupyter-widgets/controls",
            "_model_module_version": "1.5.0",
            "_model_name": "HTMLModel",
            "_view_count": null,
            "_view_module": "@jupyter-widgets/controls",
            "_view_module_version": "1.5.0",
            "_view_name": "HTMLView",
            "description": "",
            "description_tooltip": null,
            "layout": "IPY_MODEL_67c99f8848b346359988ad4a1f1d584a",
            "placeholder": "​",
            "style": "IPY_MODEL_69e45b4c77824400b383572d0fe3a9be",
            "value": " 9623/9623 [54:19&lt;00:00,  3.06it/s]"
          }
        },
        "b5d062f4808c44bb9499aef429a9c1ba": {
          "model_module": "@jupyter-widgets/base",
          "model_name": "LayoutModel",
          "model_module_version": "1.2.0",
          "state": {
            "_model_module": "@jupyter-widgets/base",
            "_model_module_version": "1.2.0",
            "_model_name": "LayoutModel",
            "_view_count": null,
            "_view_module": "@jupyter-widgets/base",
            "_view_module_version": "1.2.0",
            "_view_name": "LayoutView",
            "align_content": null,
            "align_items": null,
            "align_self": null,
            "border": null,
            "bottom": null,
            "display": null,
            "flex": null,
            "flex_flow": null,
            "grid_area": null,
            "grid_auto_columns": null,
            "grid_auto_flow": null,
            "grid_auto_rows": null,
            "grid_column": null,
            "grid_gap": null,
            "grid_row": null,
            "grid_template_areas": null,
            "grid_template_columns": null,
            "grid_template_rows": null,
            "height": null,
            "justify_content": null,
            "justify_items": null,
            "left": null,
            "margin": null,
            "max_height": null,
            "max_width": null,
            "min_height": null,
            "min_width": null,
            "object_fit": null,
            "object_position": null,
            "order": null,
            "overflow": null,
            "overflow_x": null,
            "overflow_y": null,
            "padding": null,
            "right": null,
            "top": null,
            "visibility": null,
            "width": null
          }
        },
        "22674e6ed7424f37ae27198ca9564553": {
          "model_module": "@jupyter-widgets/base",
          "model_name": "LayoutModel",
          "model_module_version": "1.2.0",
          "state": {
            "_model_module": "@jupyter-widgets/base",
            "_model_module_version": "1.2.0",
            "_model_name": "LayoutModel",
            "_view_count": null,
            "_view_module": "@jupyter-widgets/base",
            "_view_module_version": "1.2.0",
            "_view_name": "LayoutView",
            "align_content": null,
            "align_items": null,
            "align_self": null,
            "border": null,
            "bottom": null,
            "display": null,
            "flex": null,
            "flex_flow": null,
            "grid_area": null,
            "grid_auto_columns": null,
            "grid_auto_flow": null,
            "grid_auto_rows": null,
            "grid_column": null,
            "grid_gap": null,
            "grid_row": null,
            "grid_template_areas": null,
            "grid_template_columns": null,
            "grid_template_rows": null,
            "height": null,
            "justify_content": null,
            "justify_items": null,
            "left": null,
            "margin": null,
            "max_height": null,
            "max_width": null,
            "min_height": null,
            "min_width": null,
            "object_fit": null,
            "object_position": null,
            "order": null,
            "overflow": null,
            "overflow_x": null,
            "overflow_y": null,
            "padding": null,
            "right": null,
            "top": null,
            "visibility": null,
            "width": null
          }
        },
        "8f1cfa48af9844fa83060c58e81e70a0": {
          "model_module": "@jupyter-widgets/controls",
          "model_name": "DescriptionStyleModel",
          "model_module_version": "1.5.0",
          "state": {
            "_model_module": "@jupyter-widgets/controls",
            "_model_module_version": "1.5.0",
            "_model_name": "DescriptionStyleModel",
            "_view_count": null,
            "_view_module": "@jupyter-widgets/base",
            "_view_module_version": "1.2.0",
            "_view_name": "StyleView",
            "description_width": ""
          }
        },
        "de3320c17df64c8a83c7cfe2e2366546": {
          "model_module": "@jupyter-widgets/base",
          "model_name": "LayoutModel",
          "model_module_version": "1.2.0",
          "state": {
            "_model_module": "@jupyter-widgets/base",
            "_model_module_version": "1.2.0",
            "_model_name": "LayoutModel",
            "_view_count": null,
            "_view_module": "@jupyter-widgets/base",
            "_view_module_version": "1.2.0",
            "_view_name": "LayoutView",
            "align_content": null,
            "align_items": null,
            "align_self": null,
            "border": null,
            "bottom": null,
            "display": null,
            "flex": null,
            "flex_flow": null,
            "grid_area": null,
            "grid_auto_columns": null,
            "grid_auto_flow": null,
            "grid_auto_rows": null,
            "grid_column": null,
            "grid_gap": null,
            "grid_row": null,
            "grid_template_areas": null,
            "grid_template_columns": null,
            "grid_template_rows": null,
            "height": null,
            "justify_content": null,
            "justify_items": null,
            "left": null,
            "margin": null,
            "max_height": null,
            "max_width": null,
            "min_height": null,
            "min_width": null,
            "object_fit": null,
            "object_position": null,
            "order": null,
            "overflow": null,
            "overflow_x": null,
            "overflow_y": null,
            "padding": null,
            "right": null,
            "top": null,
            "visibility": null,
            "width": null
          }
        },
        "d549d806518b493d8f78a14481c095b9": {
          "model_module": "@jupyter-widgets/controls",
          "model_name": "ProgressStyleModel",
          "model_module_version": "1.5.0",
          "state": {
            "_model_module": "@jupyter-widgets/controls",
            "_model_module_version": "1.5.0",
            "_model_name": "ProgressStyleModel",
            "_view_count": null,
            "_view_module": "@jupyter-widgets/base",
            "_view_module_version": "1.2.0",
            "_view_name": "StyleView",
            "bar_color": null,
            "description_width": ""
          }
        },
        "67c99f8848b346359988ad4a1f1d584a": {
          "model_module": "@jupyter-widgets/base",
          "model_name": "LayoutModel",
          "model_module_version": "1.2.0",
          "state": {
            "_model_module": "@jupyter-widgets/base",
            "_model_module_version": "1.2.0",
            "_model_name": "LayoutModel",
            "_view_count": null,
            "_view_module": "@jupyter-widgets/base",
            "_view_module_version": "1.2.0",
            "_view_name": "LayoutView",
            "align_content": null,
            "align_items": null,
            "align_self": null,
            "border": null,
            "bottom": null,
            "display": null,
            "flex": null,
            "flex_flow": null,
            "grid_area": null,
            "grid_auto_columns": null,
            "grid_auto_flow": null,
            "grid_auto_rows": null,
            "grid_column": null,
            "grid_gap": null,
            "grid_row": null,
            "grid_template_areas": null,
            "grid_template_columns": null,
            "grid_template_rows": null,
            "height": null,
            "justify_content": null,
            "justify_items": null,
            "left": null,
            "margin": null,
            "max_height": null,
            "max_width": null,
            "min_height": null,
            "min_width": null,
            "object_fit": null,
            "object_position": null,
            "order": null,
            "overflow": null,
            "overflow_x": null,
            "overflow_y": null,
            "padding": null,
            "right": null,
            "top": null,
            "visibility": null,
            "width": null
          }
        },
        "69e45b4c77824400b383572d0fe3a9be": {
          "model_module": "@jupyter-widgets/controls",
          "model_name": "DescriptionStyleModel",
          "model_module_version": "1.5.0",
          "state": {
            "_model_module": "@jupyter-widgets/controls",
            "_model_module_version": "1.5.0",
            "_model_name": "DescriptionStyleModel",
            "_view_count": null,
            "_view_module": "@jupyter-widgets/base",
            "_view_module_version": "1.2.0",
            "_view_name": "StyleView",
            "description_width": ""
          }
        },
        "ae3b1a741a4f4df38c78626ff060bb2e": {
          "model_module": "@jupyter-widgets/controls",
          "model_name": "HBoxModel",
          "model_module_version": "1.5.0",
          "state": {
            "_dom_classes": [],
            "_model_module": "@jupyter-widgets/controls",
            "_model_module_version": "1.5.0",
            "_model_name": "HBoxModel",
            "_view_count": null,
            "_view_module": "@jupyter-widgets/controls",
            "_view_module_version": "1.5.0",
            "_view_name": "HBoxView",
            "box_style": "",
            "children": [
              "IPY_MODEL_2cc7ef2281714e5cbe293bfa953e3613",
              "IPY_MODEL_63129ac88b814a7594a6f03e1cee862b",
              "IPY_MODEL_4107be1c2ecb49119679edab21f2b53b"
            ],
            "layout": "IPY_MODEL_d2eb4946710c4bcfa48efb86c3a8fb67"
          }
        },
        "2cc7ef2281714e5cbe293bfa953e3613": {
          "model_module": "@jupyter-widgets/controls",
          "model_name": "HTMLModel",
          "model_module_version": "1.5.0",
          "state": {
            "_dom_classes": [],
            "_model_module": "@jupyter-widgets/controls",
            "_model_module_version": "1.5.0",
            "_model_name": "HTMLModel",
            "_view_count": null,
            "_view_module": "@jupyter-widgets/controls",
            "_view_module_version": "1.5.0",
            "_view_name": "HTMLView",
            "description": "",
            "description_tooltip": null,
            "layout": "IPY_MODEL_c177b9ee2cfc47efa0d759700d776cd9",
            "placeholder": "​",
            "style": "IPY_MODEL_7d8f242790c4496c86d8c85e57378c95",
            "value": "Validating Epoch 2/3 Val Loss: 8.1225: 100%"
          }
        },
        "63129ac88b814a7594a6f03e1cee862b": {
          "model_module": "@jupyter-widgets/controls",
          "model_name": "FloatProgressModel",
          "model_module_version": "1.5.0",
          "state": {
            "_dom_classes": [],
            "_model_module": "@jupyter-widgets/controls",
            "_model_module_version": "1.5.0",
            "_model_name": "FloatProgressModel",
            "_view_count": null,
            "_view_module": "@jupyter-widgets/controls",
            "_view_module_version": "1.5.0",
            "_view_name": "ProgressView",
            "bar_style": "success",
            "description": "",
            "description_tooltip": null,
            "layout": "IPY_MODEL_7a13d845664e4bc69f289ac08f400c23",
            "max": 1203,
            "min": 0,
            "orientation": "horizontal",
            "style": "IPY_MODEL_19a452466c3f42058bc0c3fa6b8d37fe",
            "value": 1203
          }
        },
        "4107be1c2ecb49119679edab21f2b53b": {
          "model_module": "@jupyter-widgets/controls",
          "model_name": "HTMLModel",
          "model_module_version": "1.5.0",
          "state": {
            "_dom_classes": [],
            "_model_module": "@jupyter-widgets/controls",
            "_model_module_version": "1.5.0",
            "_model_name": "HTMLModel",
            "_view_count": null,
            "_view_module": "@jupyter-widgets/controls",
            "_view_module_version": "1.5.0",
            "_view_name": "HTMLView",
            "description": "",
            "description_tooltip": null,
            "layout": "IPY_MODEL_c75eb3c0a581492b8a5211035a8a0840",
            "placeholder": "​",
            "style": "IPY_MODEL_43990977b22842af99a12b3ee644863a",
            "value": " 1203/1203 [00:46&lt;00:00, 31.72it/s]"
          }
        },
        "d2eb4946710c4bcfa48efb86c3a8fb67": {
          "model_module": "@jupyter-widgets/base",
          "model_name": "LayoutModel",
          "model_module_version": "1.2.0",
          "state": {
            "_model_module": "@jupyter-widgets/base",
            "_model_module_version": "1.2.0",
            "_model_name": "LayoutModel",
            "_view_count": null,
            "_view_module": "@jupyter-widgets/base",
            "_view_module_version": "1.2.0",
            "_view_name": "LayoutView",
            "align_content": null,
            "align_items": null,
            "align_self": null,
            "border": null,
            "bottom": null,
            "display": null,
            "flex": null,
            "flex_flow": null,
            "grid_area": null,
            "grid_auto_columns": null,
            "grid_auto_flow": null,
            "grid_auto_rows": null,
            "grid_column": null,
            "grid_gap": null,
            "grid_row": null,
            "grid_template_areas": null,
            "grid_template_columns": null,
            "grid_template_rows": null,
            "height": null,
            "justify_content": null,
            "justify_items": null,
            "left": null,
            "margin": null,
            "max_height": null,
            "max_width": null,
            "min_height": null,
            "min_width": null,
            "object_fit": null,
            "object_position": null,
            "order": null,
            "overflow": null,
            "overflow_x": null,
            "overflow_y": null,
            "padding": null,
            "right": null,
            "top": null,
            "visibility": null,
            "width": null
          }
        },
        "c177b9ee2cfc47efa0d759700d776cd9": {
          "model_module": "@jupyter-widgets/base",
          "model_name": "LayoutModel",
          "model_module_version": "1.2.0",
          "state": {
            "_model_module": "@jupyter-widgets/base",
            "_model_module_version": "1.2.0",
            "_model_name": "LayoutModel",
            "_view_count": null,
            "_view_module": "@jupyter-widgets/base",
            "_view_module_version": "1.2.0",
            "_view_name": "LayoutView",
            "align_content": null,
            "align_items": null,
            "align_self": null,
            "border": null,
            "bottom": null,
            "display": null,
            "flex": null,
            "flex_flow": null,
            "grid_area": null,
            "grid_auto_columns": null,
            "grid_auto_flow": null,
            "grid_auto_rows": null,
            "grid_column": null,
            "grid_gap": null,
            "grid_row": null,
            "grid_template_areas": null,
            "grid_template_columns": null,
            "grid_template_rows": null,
            "height": null,
            "justify_content": null,
            "justify_items": null,
            "left": null,
            "margin": null,
            "max_height": null,
            "max_width": null,
            "min_height": null,
            "min_width": null,
            "object_fit": null,
            "object_position": null,
            "order": null,
            "overflow": null,
            "overflow_x": null,
            "overflow_y": null,
            "padding": null,
            "right": null,
            "top": null,
            "visibility": null,
            "width": null
          }
        },
        "7d8f242790c4496c86d8c85e57378c95": {
          "model_module": "@jupyter-widgets/controls",
          "model_name": "DescriptionStyleModel",
          "model_module_version": "1.5.0",
          "state": {
            "_model_module": "@jupyter-widgets/controls",
            "_model_module_version": "1.5.0",
            "_model_name": "DescriptionStyleModel",
            "_view_count": null,
            "_view_module": "@jupyter-widgets/base",
            "_view_module_version": "1.2.0",
            "_view_name": "StyleView",
            "description_width": ""
          }
        },
        "7a13d845664e4bc69f289ac08f400c23": {
          "model_module": "@jupyter-widgets/base",
          "model_name": "LayoutModel",
          "model_module_version": "1.2.0",
          "state": {
            "_model_module": "@jupyter-widgets/base",
            "_model_module_version": "1.2.0",
            "_model_name": "LayoutModel",
            "_view_count": null,
            "_view_module": "@jupyter-widgets/base",
            "_view_module_version": "1.2.0",
            "_view_name": "LayoutView",
            "align_content": null,
            "align_items": null,
            "align_self": null,
            "border": null,
            "bottom": null,
            "display": null,
            "flex": null,
            "flex_flow": null,
            "grid_area": null,
            "grid_auto_columns": null,
            "grid_auto_flow": null,
            "grid_auto_rows": null,
            "grid_column": null,
            "grid_gap": null,
            "grid_row": null,
            "grid_template_areas": null,
            "grid_template_columns": null,
            "grid_template_rows": null,
            "height": null,
            "justify_content": null,
            "justify_items": null,
            "left": null,
            "margin": null,
            "max_height": null,
            "max_width": null,
            "min_height": null,
            "min_width": null,
            "object_fit": null,
            "object_position": null,
            "order": null,
            "overflow": null,
            "overflow_x": null,
            "overflow_y": null,
            "padding": null,
            "right": null,
            "top": null,
            "visibility": null,
            "width": null
          }
        },
        "19a452466c3f42058bc0c3fa6b8d37fe": {
          "model_module": "@jupyter-widgets/controls",
          "model_name": "ProgressStyleModel",
          "model_module_version": "1.5.0",
          "state": {
            "_model_module": "@jupyter-widgets/controls",
            "_model_module_version": "1.5.0",
            "_model_name": "ProgressStyleModel",
            "_view_count": null,
            "_view_module": "@jupyter-widgets/base",
            "_view_module_version": "1.2.0",
            "_view_name": "StyleView",
            "bar_color": null,
            "description_width": ""
          }
        },
        "c75eb3c0a581492b8a5211035a8a0840": {
          "model_module": "@jupyter-widgets/base",
          "model_name": "LayoutModel",
          "model_module_version": "1.2.0",
          "state": {
            "_model_module": "@jupyter-widgets/base",
            "_model_module_version": "1.2.0",
            "_model_name": "LayoutModel",
            "_view_count": null,
            "_view_module": "@jupyter-widgets/base",
            "_view_module_version": "1.2.0",
            "_view_name": "LayoutView",
            "align_content": null,
            "align_items": null,
            "align_self": null,
            "border": null,
            "bottom": null,
            "display": null,
            "flex": null,
            "flex_flow": null,
            "grid_area": null,
            "grid_auto_columns": null,
            "grid_auto_flow": null,
            "grid_auto_rows": null,
            "grid_column": null,
            "grid_gap": null,
            "grid_row": null,
            "grid_template_areas": null,
            "grid_template_columns": null,
            "grid_template_rows": null,
            "height": null,
            "justify_content": null,
            "justify_items": null,
            "left": null,
            "margin": null,
            "max_height": null,
            "max_width": null,
            "min_height": null,
            "min_width": null,
            "object_fit": null,
            "object_position": null,
            "order": null,
            "overflow": null,
            "overflow_x": null,
            "overflow_y": null,
            "padding": null,
            "right": null,
            "top": null,
            "visibility": null,
            "width": null
          }
        },
        "43990977b22842af99a12b3ee644863a": {
          "model_module": "@jupyter-widgets/controls",
          "model_name": "DescriptionStyleModel",
          "model_module_version": "1.5.0",
          "state": {
            "_model_module": "@jupyter-widgets/controls",
            "_model_module_version": "1.5.0",
            "_model_name": "DescriptionStyleModel",
            "_view_count": null,
            "_view_module": "@jupyter-widgets/base",
            "_view_module_version": "1.2.0",
            "_view_name": "StyleView",
            "description_width": ""
          }
        },
        "b5de26ce848240298e448fc06e464dab": {
          "model_module": "@jupyter-widgets/controls",
          "model_name": "HBoxModel",
          "model_module_version": "1.5.0",
          "state": {
            "_dom_classes": [],
            "_model_module": "@jupyter-widgets/controls",
            "_model_module_version": "1.5.0",
            "_model_name": "HBoxModel",
            "_view_count": null,
            "_view_module": "@jupyter-widgets/controls",
            "_view_module_version": "1.5.0",
            "_view_name": "HBoxView",
            "box_style": "",
            "children": [
              "IPY_MODEL_1d761e44da024ae4933b4e475d4cf9ce",
              "IPY_MODEL_a70372527a804acea9639f807038b23f",
              "IPY_MODEL_5f401be0290f4cb697c4d9d928f698ff"
            ],
            "layout": "IPY_MODEL_086673436ef748b782da67eb564ef526"
          }
        },
        "1d761e44da024ae4933b4e475d4cf9ce": {
          "model_module": "@jupyter-widgets/controls",
          "model_name": "HTMLModel",
          "model_module_version": "1.5.0",
          "state": {
            "_dom_classes": [],
            "_model_module": "@jupyter-widgets/controls",
            "_model_module_version": "1.5.0",
            "_model_name": "HTMLModel",
            "_view_count": null,
            "_view_module": "@jupyter-widgets/controls",
            "_view_module_version": "1.5.0",
            "_view_name": "HTMLView",
            "description": "",
            "description_tooltip": null,
            "layout": "IPY_MODEL_db2673940bd04593a64c33ccbfa15439",
            "placeholder": "​",
            "style": "IPY_MODEL_736a6a33e7774348a7efc31a6c06a193",
            "value": "Epoch 3/3 Loss: 7.9493: 100%"
          }
        },
        "a70372527a804acea9639f807038b23f": {
          "model_module": "@jupyter-widgets/controls",
          "model_name": "FloatProgressModel",
          "model_module_version": "1.5.0",
          "state": {
            "_dom_classes": [],
            "_model_module": "@jupyter-widgets/controls",
            "_model_module_version": "1.5.0",
            "_model_name": "FloatProgressModel",
            "_view_count": null,
            "_view_module": "@jupyter-widgets/controls",
            "_view_module_version": "1.5.0",
            "_view_name": "ProgressView",
            "bar_style": "success",
            "description": "",
            "description_tooltip": null,
            "layout": "IPY_MODEL_3e34f6f708be430fbd16c7053692c7e8",
            "max": 9623,
            "min": 0,
            "orientation": "horizontal",
            "style": "IPY_MODEL_255977f4199f4231aea4efc408da7712",
            "value": 9623
          }
        },
        "5f401be0290f4cb697c4d9d928f698ff": {
          "model_module": "@jupyter-widgets/controls",
          "model_name": "HTMLModel",
          "model_module_version": "1.5.0",
          "state": {
            "_dom_classes": [],
            "_model_module": "@jupyter-widgets/controls",
            "_model_module_version": "1.5.0",
            "_model_name": "HTMLModel",
            "_view_count": null,
            "_view_module": "@jupyter-widgets/controls",
            "_view_module_version": "1.5.0",
            "_view_name": "HTMLView",
            "description": "",
            "description_tooltip": null,
            "layout": "IPY_MODEL_41501cfaadec42c19e80f488645789e3",
            "placeholder": "​",
            "style": "IPY_MODEL_da7fc8d7a83b456e9ef70e6c3271579b",
            "value": " 9623/9623 [56:34&lt;00:00,  2.62it/s]"
          }
        },
        "086673436ef748b782da67eb564ef526": {
          "model_module": "@jupyter-widgets/base",
          "model_name": "LayoutModel",
          "model_module_version": "1.2.0",
          "state": {
            "_model_module": "@jupyter-widgets/base",
            "_model_module_version": "1.2.0",
            "_model_name": "LayoutModel",
            "_view_count": null,
            "_view_module": "@jupyter-widgets/base",
            "_view_module_version": "1.2.0",
            "_view_name": "LayoutView",
            "align_content": null,
            "align_items": null,
            "align_self": null,
            "border": null,
            "bottom": null,
            "display": null,
            "flex": null,
            "flex_flow": null,
            "grid_area": null,
            "grid_auto_columns": null,
            "grid_auto_flow": null,
            "grid_auto_rows": null,
            "grid_column": null,
            "grid_gap": null,
            "grid_row": null,
            "grid_template_areas": null,
            "grid_template_columns": null,
            "grid_template_rows": null,
            "height": null,
            "justify_content": null,
            "justify_items": null,
            "left": null,
            "margin": null,
            "max_height": null,
            "max_width": null,
            "min_height": null,
            "min_width": null,
            "object_fit": null,
            "object_position": null,
            "order": null,
            "overflow": null,
            "overflow_x": null,
            "overflow_y": null,
            "padding": null,
            "right": null,
            "top": null,
            "visibility": null,
            "width": null
          }
        },
        "db2673940bd04593a64c33ccbfa15439": {
          "model_module": "@jupyter-widgets/base",
          "model_name": "LayoutModel",
          "model_module_version": "1.2.0",
          "state": {
            "_model_module": "@jupyter-widgets/base",
            "_model_module_version": "1.2.0",
            "_model_name": "LayoutModel",
            "_view_count": null,
            "_view_module": "@jupyter-widgets/base",
            "_view_module_version": "1.2.0",
            "_view_name": "LayoutView",
            "align_content": null,
            "align_items": null,
            "align_self": null,
            "border": null,
            "bottom": null,
            "display": null,
            "flex": null,
            "flex_flow": null,
            "grid_area": null,
            "grid_auto_columns": null,
            "grid_auto_flow": null,
            "grid_auto_rows": null,
            "grid_column": null,
            "grid_gap": null,
            "grid_row": null,
            "grid_template_areas": null,
            "grid_template_columns": null,
            "grid_template_rows": null,
            "height": null,
            "justify_content": null,
            "justify_items": null,
            "left": null,
            "margin": null,
            "max_height": null,
            "max_width": null,
            "min_height": null,
            "min_width": null,
            "object_fit": null,
            "object_position": null,
            "order": null,
            "overflow": null,
            "overflow_x": null,
            "overflow_y": null,
            "padding": null,
            "right": null,
            "top": null,
            "visibility": null,
            "width": null
          }
        },
        "736a6a33e7774348a7efc31a6c06a193": {
          "model_module": "@jupyter-widgets/controls",
          "model_name": "DescriptionStyleModel",
          "model_module_version": "1.5.0",
          "state": {
            "_model_module": "@jupyter-widgets/controls",
            "_model_module_version": "1.5.0",
            "_model_name": "DescriptionStyleModel",
            "_view_count": null,
            "_view_module": "@jupyter-widgets/base",
            "_view_module_version": "1.2.0",
            "_view_name": "StyleView",
            "description_width": ""
          }
        },
        "3e34f6f708be430fbd16c7053692c7e8": {
          "model_module": "@jupyter-widgets/base",
          "model_name": "LayoutModel",
          "model_module_version": "1.2.0",
          "state": {
            "_model_module": "@jupyter-widgets/base",
            "_model_module_version": "1.2.0",
            "_model_name": "LayoutModel",
            "_view_count": null,
            "_view_module": "@jupyter-widgets/base",
            "_view_module_version": "1.2.0",
            "_view_name": "LayoutView",
            "align_content": null,
            "align_items": null,
            "align_self": null,
            "border": null,
            "bottom": null,
            "display": null,
            "flex": null,
            "flex_flow": null,
            "grid_area": null,
            "grid_auto_columns": null,
            "grid_auto_flow": null,
            "grid_auto_rows": null,
            "grid_column": null,
            "grid_gap": null,
            "grid_row": null,
            "grid_template_areas": null,
            "grid_template_columns": null,
            "grid_template_rows": null,
            "height": null,
            "justify_content": null,
            "justify_items": null,
            "left": null,
            "margin": null,
            "max_height": null,
            "max_width": null,
            "min_height": null,
            "min_width": null,
            "object_fit": null,
            "object_position": null,
            "order": null,
            "overflow": null,
            "overflow_x": null,
            "overflow_y": null,
            "padding": null,
            "right": null,
            "top": null,
            "visibility": null,
            "width": null
          }
        },
        "255977f4199f4231aea4efc408da7712": {
          "model_module": "@jupyter-widgets/controls",
          "model_name": "ProgressStyleModel",
          "model_module_version": "1.5.0",
          "state": {
            "_model_module": "@jupyter-widgets/controls",
            "_model_module_version": "1.5.0",
            "_model_name": "ProgressStyleModel",
            "_view_count": null,
            "_view_module": "@jupyter-widgets/base",
            "_view_module_version": "1.2.0",
            "_view_name": "StyleView",
            "bar_color": null,
            "description_width": ""
          }
        },
        "41501cfaadec42c19e80f488645789e3": {
          "model_module": "@jupyter-widgets/base",
          "model_name": "LayoutModel",
          "model_module_version": "1.2.0",
          "state": {
            "_model_module": "@jupyter-widgets/base",
            "_model_module_version": "1.2.0",
            "_model_name": "LayoutModel",
            "_view_count": null,
            "_view_module": "@jupyter-widgets/base",
            "_view_module_version": "1.2.0",
            "_view_name": "LayoutView",
            "align_content": null,
            "align_items": null,
            "align_self": null,
            "border": null,
            "bottom": null,
            "display": null,
            "flex": null,
            "flex_flow": null,
            "grid_area": null,
            "grid_auto_columns": null,
            "grid_auto_flow": null,
            "grid_auto_rows": null,
            "grid_column": null,
            "grid_gap": null,
            "grid_row": null,
            "grid_template_areas": null,
            "grid_template_columns": null,
            "grid_template_rows": null,
            "height": null,
            "justify_content": null,
            "justify_items": null,
            "left": null,
            "margin": null,
            "max_height": null,
            "max_width": null,
            "min_height": null,
            "min_width": null,
            "object_fit": null,
            "object_position": null,
            "order": null,
            "overflow": null,
            "overflow_x": null,
            "overflow_y": null,
            "padding": null,
            "right": null,
            "top": null,
            "visibility": null,
            "width": null
          }
        },
        "da7fc8d7a83b456e9ef70e6c3271579b": {
          "model_module": "@jupyter-widgets/controls",
          "model_name": "DescriptionStyleModel",
          "model_module_version": "1.5.0",
          "state": {
            "_model_module": "@jupyter-widgets/controls",
            "_model_module_version": "1.5.0",
            "_model_name": "DescriptionStyleModel",
            "_view_count": null,
            "_view_module": "@jupyter-widgets/base",
            "_view_module_version": "1.2.0",
            "_view_name": "StyleView",
            "description_width": ""
          }
        },
        "2cc7bc5417e74dd28e46fea3a53ab047": {
          "model_module": "@jupyter-widgets/controls",
          "model_name": "HBoxModel",
          "model_module_version": "1.5.0",
          "state": {
            "_dom_classes": [],
            "_model_module": "@jupyter-widgets/controls",
            "_model_module_version": "1.5.0",
            "_model_name": "HBoxModel",
            "_view_count": null,
            "_view_module": "@jupyter-widgets/controls",
            "_view_module_version": "1.5.0",
            "_view_name": "HBoxView",
            "box_style": "",
            "children": [
              "IPY_MODEL_90972b6105ed4716a4476f1392469c6b",
              "IPY_MODEL_4515fc2043b842b3af4300d2b79470f5",
              "IPY_MODEL_f497bb0791e0425fb1b688060f4c8e39"
            ],
            "layout": "IPY_MODEL_339572c09ed84ae0800641cf2ff22e82"
          }
        },
        "90972b6105ed4716a4476f1392469c6b": {
          "model_module": "@jupyter-widgets/controls",
          "model_name": "HTMLModel",
          "model_module_version": "1.5.0",
          "state": {
            "_dom_classes": [],
            "_model_module": "@jupyter-widgets/controls",
            "_model_module_version": "1.5.0",
            "_model_name": "HTMLModel",
            "_view_count": null,
            "_view_module": "@jupyter-widgets/controls",
            "_view_module_version": "1.5.0",
            "_view_name": "HTMLView",
            "description": "",
            "description_tooltip": null,
            "layout": "IPY_MODEL_72d0758014f34874b430b400ef1812b6",
            "placeholder": "​",
            "style": "IPY_MODEL_eb4874da88804da7849a6bad11df1c12",
            "value": "Validating Epoch 3/3 Val Loss: 8.1513: 100%"
          }
        },
        "4515fc2043b842b3af4300d2b79470f5": {
          "model_module": "@jupyter-widgets/controls",
          "model_name": "FloatProgressModel",
          "model_module_version": "1.5.0",
          "state": {
            "_dom_classes": [],
            "_model_module": "@jupyter-widgets/controls",
            "_model_module_version": "1.5.0",
            "_model_name": "FloatProgressModel",
            "_view_count": null,
            "_view_module": "@jupyter-widgets/controls",
            "_view_module_version": "1.5.0",
            "_view_name": "ProgressView",
            "bar_style": "success",
            "description": "",
            "description_tooltip": null,
            "layout": "IPY_MODEL_8d184680aaa34c4fa0562c8d92f3620e",
            "max": 1203,
            "min": 0,
            "orientation": "horizontal",
            "style": "IPY_MODEL_2d137abf0a5b4328af289338a0f4f555",
            "value": 1203
          }
        },
        "f497bb0791e0425fb1b688060f4c8e39": {
          "model_module": "@jupyter-widgets/controls",
          "model_name": "HTMLModel",
          "model_module_version": "1.5.0",
          "state": {
            "_dom_classes": [],
            "_model_module": "@jupyter-widgets/controls",
            "_model_module_version": "1.5.0",
            "_model_name": "HTMLModel",
            "_view_count": null,
            "_view_module": "@jupyter-widgets/controls",
            "_view_module_version": "1.5.0",
            "_view_name": "HTMLView",
            "description": "",
            "description_tooltip": null,
            "layout": "IPY_MODEL_489fa80b32514a448ef50e4a0221c89b",
            "placeholder": "​",
            "style": "IPY_MODEL_e1c1cc215f1e412f9a27284421c7fa7e",
            "value": " 1203/1203 [00:42&lt;00:00, 31.07it/s]"
          }
        },
        "339572c09ed84ae0800641cf2ff22e82": {
          "model_module": "@jupyter-widgets/base",
          "model_name": "LayoutModel",
          "model_module_version": "1.2.0",
          "state": {
            "_model_module": "@jupyter-widgets/base",
            "_model_module_version": "1.2.0",
            "_model_name": "LayoutModel",
            "_view_count": null,
            "_view_module": "@jupyter-widgets/base",
            "_view_module_version": "1.2.0",
            "_view_name": "LayoutView",
            "align_content": null,
            "align_items": null,
            "align_self": null,
            "border": null,
            "bottom": null,
            "display": null,
            "flex": null,
            "flex_flow": null,
            "grid_area": null,
            "grid_auto_columns": null,
            "grid_auto_flow": null,
            "grid_auto_rows": null,
            "grid_column": null,
            "grid_gap": null,
            "grid_row": null,
            "grid_template_areas": null,
            "grid_template_columns": null,
            "grid_template_rows": null,
            "height": null,
            "justify_content": null,
            "justify_items": null,
            "left": null,
            "margin": null,
            "max_height": null,
            "max_width": null,
            "min_height": null,
            "min_width": null,
            "object_fit": null,
            "object_position": null,
            "order": null,
            "overflow": null,
            "overflow_x": null,
            "overflow_y": null,
            "padding": null,
            "right": null,
            "top": null,
            "visibility": null,
            "width": null
          }
        },
        "72d0758014f34874b430b400ef1812b6": {
          "model_module": "@jupyter-widgets/base",
          "model_name": "LayoutModel",
          "model_module_version": "1.2.0",
          "state": {
            "_model_module": "@jupyter-widgets/base",
            "_model_module_version": "1.2.0",
            "_model_name": "LayoutModel",
            "_view_count": null,
            "_view_module": "@jupyter-widgets/base",
            "_view_module_version": "1.2.0",
            "_view_name": "LayoutView",
            "align_content": null,
            "align_items": null,
            "align_self": null,
            "border": null,
            "bottom": null,
            "display": null,
            "flex": null,
            "flex_flow": null,
            "grid_area": null,
            "grid_auto_columns": null,
            "grid_auto_flow": null,
            "grid_auto_rows": null,
            "grid_column": null,
            "grid_gap": null,
            "grid_row": null,
            "grid_template_areas": null,
            "grid_template_columns": null,
            "grid_template_rows": null,
            "height": null,
            "justify_content": null,
            "justify_items": null,
            "left": null,
            "margin": null,
            "max_height": null,
            "max_width": null,
            "min_height": null,
            "min_width": null,
            "object_fit": null,
            "object_position": null,
            "order": null,
            "overflow": null,
            "overflow_x": null,
            "overflow_y": null,
            "padding": null,
            "right": null,
            "top": null,
            "visibility": null,
            "width": null
          }
        },
        "eb4874da88804da7849a6bad11df1c12": {
          "model_module": "@jupyter-widgets/controls",
          "model_name": "DescriptionStyleModel",
          "model_module_version": "1.5.0",
          "state": {
            "_model_module": "@jupyter-widgets/controls",
            "_model_module_version": "1.5.0",
            "_model_name": "DescriptionStyleModel",
            "_view_count": null,
            "_view_module": "@jupyter-widgets/base",
            "_view_module_version": "1.2.0",
            "_view_name": "StyleView",
            "description_width": ""
          }
        },
        "8d184680aaa34c4fa0562c8d92f3620e": {
          "model_module": "@jupyter-widgets/base",
          "model_name": "LayoutModel",
          "model_module_version": "1.2.0",
          "state": {
            "_model_module": "@jupyter-widgets/base",
            "_model_module_version": "1.2.0",
            "_model_name": "LayoutModel",
            "_view_count": null,
            "_view_module": "@jupyter-widgets/base",
            "_view_module_version": "1.2.0",
            "_view_name": "LayoutView",
            "align_content": null,
            "align_items": null,
            "align_self": null,
            "border": null,
            "bottom": null,
            "display": null,
            "flex": null,
            "flex_flow": null,
            "grid_area": null,
            "grid_auto_columns": null,
            "grid_auto_flow": null,
            "grid_auto_rows": null,
            "grid_column": null,
            "grid_gap": null,
            "grid_row": null,
            "grid_template_areas": null,
            "grid_template_columns": null,
            "grid_template_rows": null,
            "height": null,
            "justify_content": null,
            "justify_items": null,
            "left": null,
            "margin": null,
            "max_height": null,
            "max_width": null,
            "min_height": null,
            "min_width": null,
            "object_fit": null,
            "object_position": null,
            "order": null,
            "overflow": null,
            "overflow_x": null,
            "overflow_y": null,
            "padding": null,
            "right": null,
            "top": null,
            "visibility": null,
            "width": null
          }
        },
        "2d137abf0a5b4328af289338a0f4f555": {
          "model_module": "@jupyter-widgets/controls",
          "model_name": "ProgressStyleModel",
          "model_module_version": "1.5.0",
          "state": {
            "_model_module": "@jupyter-widgets/controls",
            "_model_module_version": "1.5.0",
            "_model_name": "ProgressStyleModel",
            "_view_count": null,
            "_view_module": "@jupyter-widgets/base",
            "_view_module_version": "1.2.0",
            "_view_name": "StyleView",
            "bar_color": null,
            "description_width": ""
          }
        },
        "489fa80b32514a448ef50e4a0221c89b": {
          "model_module": "@jupyter-widgets/base",
          "model_name": "LayoutModel",
          "model_module_version": "1.2.0",
          "state": {
            "_model_module": "@jupyter-widgets/base",
            "_model_module_version": "1.2.0",
            "_model_name": "LayoutModel",
            "_view_count": null,
            "_view_module": "@jupyter-widgets/base",
            "_view_module_version": "1.2.0",
            "_view_name": "LayoutView",
            "align_content": null,
            "align_items": null,
            "align_self": null,
            "border": null,
            "bottom": null,
            "display": null,
            "flex": null,
            "flex_flow": null,
            "grid_area": null,
            "grid_auto_columns": null,
            "grid_auto_flow": null,
            "grid_auto_rows": null,
            "grid_column": null,
            "grid_gap": null,
            "grid_row": null,
            "grid_template_areas": null,
            "grid_template_columns": null,
            "grid_template_rows": null,
            "height": null,
            "justify_content": null,
            "justify_items": null,
            "left": null,
            "margin": null,
            "max_height": null,
            "max_width": null,
            "min_height": null,
            "min_width": null,
            "object_fit": null,
            "object_position": null,
            "order": null,
            "overflow": null,
            "overflow_x": null,
            "overflow_y": null,
            "padding": null,
            "right": null,
            "top": null,
            "visibility": null,
            "width": null
          }
        },
        "e1c1cc215f1e412f9a27284421c7fa7e": {
          "model_module": "@jupyter-widgets/controls",
          "model_name": "DescriptionStyleModel",
          "model_module_version": "1.5.0",
          "state": {
            "_model_module": "@jupyter-widgets/controls",
            "_model_module_version": "1.5.0",
            "_model_name": "DescriptionStyleModel",
            "_view_count": null,
            "_view_module": "@jupyter-widgets/base",
            "_view_module_version": "1.2.0",
            "_view_name": "StyleView",
            "description_width": ""
          }
        }
      }
    }
  },
  "nbformat_minor": 0,
  "nbformat": 4,
  "cells": [
    {
      "cell_type": "markdown",
      "source": [
        "***IMPORTS***"
      ],
      "metadata": {
        "id": "iAbU1yiufsmP"
      }
    },
    {
      "cell_type": "code",
      "source": [
        "!pip install emoji"
      ],
      "metadata": {
        "colab": {
          "base_uri": "https://localhost:8080/"
        },
        "id": "0u0jXFD8raSL",
        "outputId": "0b1736e1-c43e-4542-c6d9-df3358c6889f",
        "execution": {
          "iopub.status.busy": "2023-10-24T12:21:49.576694Z",
          "iopub.execute_input": "2023-10-24T12:21:49.577149Z",
          "iopub.status.idle": "2023-10-24T12:22:01.504670Z",
          "shell.execute_reply.started": "2023-10-24T12:21:49.577102Z",
          "shell.execute_reply": "2023-10-24T12:22:01.503357Z"
        },
        "trusted": true
      },
      "execution_count": null,
      "outputs": [
        {
          "output_type": "stream",
          "name": "stdout",
          "text": [
            "Collecting emoji\n",
            "  Downloading emoji-2.8.0-py2.py3-none-any.whl (358 kB)\n",
            "\u001b[?25l     \u001b[90m━━━━━━━━━━━━━━━━━━━━━━━━━━━━━━━━━━━━━━━━\u001b[0m \u001b[32m0.0/358.9 kB\u001b[0m \u001b[31m?\u001b[0m eta \u001b[36m-:--:--\u001b[0m\r\u001b[2K     \u001b[91m━━━━━━━━━━━━\u001b[0m\u001b[91m╸\u001b[0m\u001b[90m━━━━━━━━━━━━━━━━━━━━━━━━━━━\u001b[0m \u001b[32m112.6/358.9 kB\u001b[0m \u001b[31m3.4 MB/s\u001b[0m eta \u001b[36m0:00:01\u001b[0m\r\u001b[2K     \u001b[91m━━━━━━━━━━━━━━━━━━━━━━━━━━━━━━━━━━━━━━━\u001b[0m\u001b[91m╸\u001b[0m \u001b[32m358.4/358.9 kB\u001b[0m \u001b[31m5.7 MB/s\u001b[0m eta \u001b[36m0:00:01\u001b[0m\r\u001b[2K     \u001b[90m━━━━━━━━━━━━━━━━━━━━━━━━━━━━━━━━━━━━━━━━\u001b[0m \u001b[32m358.9/358.9 kB\u001b[0m \u001b[31m5.1 MB/s\u001b[0m eta \u001b[36m0:00:00\u001b[0m\n",
            "\u001b[?25hInstalling collected packages: emoji\n",
            "Successfully installed emoji-2.8.0\n"
          ]
        }
      ]
    },
    {
      "cell_type": "code",
      "source": [
        "import pandas as pd\n",
        "import numpy as np\n",
        "\n",
        "import matplotlib.pyplot as plt\n",
        "import seaborn as sns"
      ],
      "metadata": {
        "id": "Qo1q6CYKfvKo",
        "execution": {
          "iopub.status.busy": "2023-10-24T12:22:01.507656Z",
          "iopub.execute_input": "2023-10-24T12:22:01.508663Z",
          "iopub.status.idle": "2023-10-24T12:22:01.513714Z",
          "shell.execute_reply.started": "2023-10-24T12:22:01.508619Z",
          "shell.execute_reply": "2023-10-24T12:22:01.512680Z"
        },
        "trusted": true
      },
      "execution_count": null,
      "outputs": []
    },
    {
      "cell_type": "code",
      "source": [
        "import torch\n",
        "import torch.nn as nn\n",
        "import torch.nn.functional as F\n",
        "import torch.optim as optim\n",
        "import torch.cuda\n",
        "from torch.utils.data import Dataset, DataLoader\n",
        "\n",
        "from sklearn.model_selection import train_test_split\n",
        "\n",
        "from tqdm.notebook import tqdm\n",
        "\n",
        "torch.manual_seed(1)\n",
        "\n",
        "device = torch.device(\"cuda:0\" if torch.cuda.is_available() else \"cpu\")\n",
        "device"
      ],
      "metadata": {
        "id": "ELBc1ntbt5e8",
        "colab": {
          "base_uri": "https://localhost:8080/"
        },
        "outputId": "19262512-1d27-4caf-8748-9426c4acf7a3",
        "execution": {
          "iopub.status.busy": "2023-10-24T12:22:01.514931Z",
          "iopub.execute_input": "2023-10-24T12:22:01.515200Z",
          "iopub.status.idle": "2023-10-24T12:22:01.548367Z",
          "shell.execute_reply.started": "2023-10-24T12:22:01.515176Z",
          "shell.execute_reply": "2023-10-24T12:22:01.547465Z"
        },
        "trusted": true
      },
      "execution_count": null,
      "outputs": [
        {
          "output_type": "execute_result",
          "data": {
            "text/plain": [
              "device(type='cpu')"
            ]
          },
          "metadata": {},
          "execution_count": 3
        }
      ]
    },
    {
      "cell_type": "code",
      "source": [
        "import re\n",
        "import string\n",
        "import emoji\n",
        "\n",
        "import nltk\n",
        "from nltk.corpus import stopwords\n",
        "from nltk.stem import PorterStemmer\n",
        "stemmer = PorterStemmer()"
      ],
      "metadata": {
        "id": "piYWFsNcri-C",
        "execution": {
          "iopub.status.busy": "2023-10-24T12:22:01.549524Z",
          "iopub.execute_input": "2023-10-24T12:22:01.549810Z",
          "iopub.status.idle": "2023-10-24T12:22:01.559651Z",
          "shell.execute_reply.started": "2023-10-24T12:22:01.549784Z",
          "shell.execute_reply": "2023-10-24T12:22:01.558578Z"
        },
        "trusted": true
      },
      "execution_count": null,
      "outputs": []
    },
    {
      "cell_type": "code",
      "source": [
        "nltk.download(\"punkt\")\n",
        "nltk.download('stopwords')\n",
        "stop_words = set(stopwords.words('english'))"
      ],
      "metadata": {
        "colab": {
          "base_uri": "https://localhost:8080/"
        },
        "id": "i2eV8RpMrrAQ",
        "outputId": "1130d484-2b37-4c74-c4b0-5e70216bb9c8",
        "execution": {
          "iopub.status.busy": "2023-10-24T12:22:01.564090Z",
          "iopub.execute_input": "2023-10-24T12:22:01.564599Z",
          "iopub.status.idle": "2023-10-24T12:22:01.573888Z",
          "shell.execute_reply.started": "2023-10-24T12:22:01.564571Z",
          "shell.execute_reply": "2023-10-24T12:22:01.572919Z"
        },
        "trusted": true
      },
      "execution_count": null,
      "outputs": [
        {
          "output_type": "stream",
          "name": "stderr",
          "text": [
            "[nltk_data] Downloading package punkt to /root/nltk_data...\n",
            "[nltk_data]   Unzipping tokenizers/punkt.zip.\n",
            "[nltk_data] Downloading package stopwords to /root/nltk_data...\n",
            "[nltk_data]   Unzipping corpora/stopwords.zip.\n"
          ]
        }
      ]
    },
    {
      "cell_type": "markdown",
      "source": [
        "***LOADING THE DATASETS***"
      ],
      "metadata": {
        "id": "CUIcxx00jSCs"
      }
    },
    {
      "cell_type": "code",
      "source": [
        "# !kaggle datasets https://drive.google.com/file/d/1foE1JuZJeu5E_4qVge9kExzhvF32teuF/view\n",
        "# !kaggle datasets download https://drive.google.com/file/d/13IWXrTjGTrfCd9l7dScZVO8ZvMicPU75/view\n",
        "\n",
        "# !gdown --id 1foE1JuZJeu5E_4qVge9kExzhvF32teuF\n",
        "# !gdown --id 13IWXrTjGTrfCd9l7dScZVO8ZvMicPU75"
      ],
      "metadata": {
        "id": "4sEty1rvjRbW",
        "execution": {
          "iopub.status.busy": "2023-10-24T12:22:01.575080Z",
          "iopub.execute_input": "2023-10-24T12:22:01.575487Z",
          "iopub.status.idle": "2023-10-24T12:22:01.587403Z",
          "shell.execute_reply.started": "2023-10-24T12:22:01.575459Z",
          "shell.execute_reply": "2023-10-24T12:22:01.586668Z"
        },
        "trusted": true
      },
      "execution_count": null,
      "outputs": []
    },
    {
      "cell_type": "code",
      "source": [
        "# Loading the trip advisor hotel reviews dataset into a dataframe\n",
        "\n",
        "df_trip = pd.read_csv(\"/kaggle/input/ml4nlp-1-ex-02/tripadvisor_hotel_reviews.csv\")"
      ],
      "metadata": {
        "id": "SbK29CO7kxYZ",
        "execution": {
          "iopub.status.busy": "2023-10-24T12:22:01.588785Z",
          "iopub.execute_input": "2023-10-24T12:22:01.589425Z",
          "iopub.status.idle": "2023-10-24T12:22:01.765629Z",
          "shell.execute_reply.started": "2023-10-24T12:22:01.589390Z",
          "shell.execute_reply": "2023-10-24T12:22:01.764558Z"
        },
        "trusted": true
      },
      "execution_count": null,
      "outputs": []
    },
    {
      "cell_type": "code",
      "source": [
        "# Loading the sci-fi dataset into a dataframe\n",
        "\n",
        "with open(f'scifi.txt') as f:\n",
        "    scifi_txt = f.read()\n",
        "\n",
        "# Splitting the content into sentences using regex\n",
        "sentences = re.split(r'(?<!\\w\\.\\w.)(?<![A-Z][a-z]\\.)(?<=\\.|\\?)\\s', scifi_txt)\n",
        "\n",
        "# Loading the sentences into a dataframe\n",
        "df_scifi = pd.DataFrame(sentences, columns=['text'])"
      ],
      "metadata": {
        "id": "88GpEOCBj56v",
        "execution": {
          "iopub.status.busy": "2023-10-24T14:09:18.308749Z",
          "iopub.execute_input": "2023-10-24T14:09:18.309146Z",
          "iopub.status.idle": "2023-10-24T14:09:38.033821Z",
          "shell.execute_reply.started": "2023-10-24T14:09:18.309117Z",
          "shell.execute_reply": "2023-10-24T14:09:38.032951Z"
        },
        "trusted": true
      },
      "execution_count": null,
      "outputs": []
    },
    {
      "cell_type": "markdown",
      "source": [
        "***EXPLORATORY DATA ANALYSIS (EDA)***"
      ],
      "metadata": {
        "id": "QWbcRPbQlqT2"
      }
    },
    {
      "cell_type": "markdown",
      "source": [
        "*Trip Advisor Hotel Reviews Data*"
      ],
      "metadata": {
        "id": "fR8FelC9lzoi"
      }
    },
    {
      "cell_type": "code",
      "source": [
        "# Info about the dataframe\n",
        "\n",
        "df_trip.info()"
      ],
      "metadata": {
        "colab": {
          "base_uri": "https://localhost:8080/"
        },
        "id": "6-y1QBhRlDfu",
        "outputId": "b2bab266-98d0-4980-e003-44d7e1d9ed18",
        "execution": {
          "iopub.status.busy": "2023-10-24T12:22:02.419175Z",
          "iopub.execute_input": "2023-10-24T12:22:02.419507Z",
          "iopub.status.idle": "2023-10-24T12:22:02.488640Z",
          "shell.execute_reply.started": "2023-10-24T12:22:02.419478Z",
          "shell.execute_reply": "2023-10-24T12:22:02.487669Z"
        },
        "trusted": true
      },
      "execution_count": null,
      "outputs": [
        {
          "name": "stdout",
          "text": "<class 'pandas.core.frame.DataFrame'>\nRangeIndex: 20491 entries, 0 to 20490\nData columns (total 2 columns):\n #   Column  Non-Null Count  Dtype \n---  ------  --------------  ----- \n 0   Review  20491 non-null  object\n 1   Rating  20491 non-null  int64 \ndtypes: int64(1), object(1)\nmemory usage: 320.3+ KB\n",
          "output_type": "stream"
        }
      ]
    },
    {
      "cell_type": "code",
      "source": [
        "# First few rows of the dataframe\n",
        "\n",
        "df_trip.head()"
      ],
      "metadata": {
        "colab": {
          "base_uri": "https://localhost:8080/",
          "height": 206
        },
        "id": "dVVs58VelxhJ",
        "outputId": "8c60dd42-5e4a-4160-d420-cb4c455631d3",
        "execution": {
          "iopub.status.busy": "2023-10-24T12:22:02.489887Z",
          "iopub.execute_input": "2023-10-24T12:22:02.490174Z",
          "iopub.status.idle": "2023-10-24T12:22:02.506391Z",
          "shell.execute_reply.started": "2023-10-24T12:22:02.490148Z",
          "shell.execute_reply": "2023-10-24T12:22:02.505230Z"
        },
        "trusted": true
      },
      "execution_count": null,
      "outputs": [
        {
          "execution_count": 21,
          "output_type": "execute_result",
          "data": {
            "text/plain": "                                              Review  Rating\n0  nice hotel expensive parking got good deal sta...       4\n1  ok nothing special charge diamond member hilto...       2\n2  nice rooms not 4* experience hotel monaco seat...       3\n3  unique, great stay, wonderful time hotel monac...       5\n4  great stay great stay, went seahawk game aweso...       5",
            "text/html": "<div>\n<style scoped>\n    .dataframe tbody tr th:only-of-type {\n        vertical-align: middle;\n    }\n\n    .dataframe tbody tr th {\n        vertical-align: top;\n    }\n\n    .dataframe thead th {\n        text-align: right;\n    }\n</style>\n<table border=\"1\" class=\"dataframe\">\n  <thead>\n    <tr style=\"text-align: right;\">\n      <th></th>\n      <th>Review</th>\n      <th>Rating</th>\n    </tr>\n  </thead>\n  <tbody>\n    <tr>\n      <th>0</th>\n      <td>nice hotel expensive parking got good deal sta...</td>\n      <td>4</td>\n    </tr>\n    <tr>\n      <th>1</th>\n      <td>ok nothing special charge diamond member hilto...</td>\n      <td>2</td>\n    </tr>\n    <tr>\n      <th>2</th>\n      <td>nice rooms not 4* experience hotel monaco seat...</td>\n      <td>3</td>\n    </tr>\n    <tr>\n      <th>3</th>\n      <td>unique, great stay, wonderful time hotel monac...</td>\n      <td>5</td>\n    </tr>\n    <tr>\n      <th>4</th>\n      <td>great stay great stay, went seahawk game aweso...</td>\n      <td>5</td>\n    </tr>\n  </tbody>\n</table>\n</div>"
          },
          "metadata": {}
        }
      ]
    },
    {
      "cell_type": "code",
      "source": [
        "# Visualizing the distribution of length of the reviews\n",
        "\n",
        "df_trip['review_length'] = df_trip['Review'].apply(len)\n",
        "\n",
        "plt.figure(figsize=(12, 6))\n",
        "sns.histplot(df_trip['review_length'], bins=50)\n",
        "plt.title('Distribution of Review Length')\n",
        "plt.show()"
      ],
      "metadata": {
        "colab": {
          "base_uri": "https://localhost:8080/",
          "height": 564
        },
        "id": "V43568KZmZXp",
        "outputId": "83147634-233a-4a58-ad2e-d4ee29f7a2b5",
        "execution": {
          "iopub.status.busy": "2023-10-24T12:22:02.507721Z",
          "iopub.execute_input": "2023-10-24T12:22:02.508050Z",
          "iopub.status.idle": "2023-10-24T12:22:03.226485Z",
          "shell.execute_reply.started": "2023-10-24T12:22:02.508019Z",
          "shell.execute_reply": "2023-10-24T12:22:03.225485Z"
        },
        "trusted": true
      },
      "execution_count": null,
      "outputs": [
        {
          "output_type": "display_data",
          "data": {
            "text/plain": "<Figure size 1200x600 with 1 Axes>",
            "image/png": "[encoded data removed]"
          },
          "metadata": {}
        }
      ]
    },
    {
      "cell_type": "code",
      "source": [
        "df_trip[\"review_length\"].describe()"
      ],
      "metadata": {
        "colab": {
          "base_uri": "https://localhost:8080/"
        },
        "id": "KThAhifJqv66",
        "outputId": "9faa6276-aa0b-43e0-b3de-a262b802ca1c",
        "execution": {
          "iopub.status.busy": "2023-10-24T12:22:03.228309Z",
          "iopub.execute_input": "2023-10-24T12:22:03.228608Z",
          "iopub.status.idle": "2023-10-24T12:22:03.242550Z",
          "shell.execute_reply.started": "2023-10-24T12:22:03.228582Z",
          "shell.execute_reply": "2023-10-24T12:22:03.241421Z"
        },
        "trusted": true
      },
      "execution_count": null,
      "outputs": [
        {
          "execution_count": 23,
          "output_type": "execute_result",
          "data": {
            "text/plain": "count    20491.000000\nmean       724.896833\nstd        689.101024\nmin         44.000000\n25%        339.000000\n50%        537.000000\n75%        859.000000\nmax      13501.000000\nName: review_length, dtype: float64"
          },
          "metadata": {}
        }
      ]
    },
    {
      "cell_type": "code",
      "source": [
        "# Distribution of Labels\n",
        "\n",
        "sns.countplot(x='Rating', data=df_trip)\n",
        "plt.title('Distribution of Labels')\n",
        "plt.show()"
      ],
      "metadata": {
        "colab": {
          "base_uri": "https://localhost:8080/",
          "height": 472
        },
        "id": "iNy8tMYDlqDM",
        "outputId": "893bdbda-d784-49ab-d442-e73e389e7b9a",
        "execution": {
          "iopub.status.busy": "2023-10-24T12:22:03.243805Z",
          "iopub.execute_input": "2023-10-24T12:22:03.244098Z",
          "iopub.status.idle": "2023-10-24T12:22:03.502326Z",
          "shell.execute_reply.started": "2023-10-24T12:22:03.244064Z",
          "shell.execute_reply": "2023-10-24T12:22:03.501238Z"
        },
        "trusted": true
      },
      "execution_count": null,
      "outputs": [
        {
          "output_type": "display_data",
          "data": {
            "text/plain": "<Figure size 640x480 with 1 Axes>",
            "image/png": "[encoded data removed]"
          },
          "metadata": {}
        }
      ]
    },
    {
      "cell_type": "code",
      "source": [
        "# Group by labels and describe review length statistics\n",
        "\n",
        "print(df_trip.groupby('Rating')['review_length'].describe())"
      ],
      "metadata": {
        "colab": {
          "base_uri": "https://localhost:8080/"
        },
        "id": "17zQisxGlp28",
        "outputId": "aefe6af3-8df6-45b4-e251-c80640ef2727",
        "execution": {
          "iopub.status.busy": "2023-10-24T12:22:03.509535Z",
          "iopub.execute_input": "2023-10-24T12:22:03.509864Z",
          "iopub.status.idle": "2023-10-24T12:22:03.540567Z",
          "shell.execute_reply.started": "2023-10-24T12:22:03.509836Z",
          "shell.execute_reply": "2023-10-24T12:22:03.539577Z"
        },
        "trusted": true
      },
      "execution_count": null,
      "outputs": [
        {
          "name": "stdout",
          "text": "         count        mean         std   min     25%    50%      75%      max\nRating                                                                       \n1       1421.0  769.534835  686.927121  77.0  351.00  564.0   943.00   6511.0\n2       1793.0  867.002789  744.420751  74.0  433.00  653.0  1028.00   7802.0\n3       2184.0  784.664835  743.864505  47.0  370.75  588.0   931.25  13501.0\n4       6039.0  745.339957  729.579982  61.0  340.50  539.0   885.00  10062.0\n5       9054.0  661.696488  627.032566  44.0  318.00  496.0   784.00  12738.0\n",
          "output_type": "stream"
        }
      ]
    },
    {
      "cell_type": "markdown",
      "source": [
        "*Sci-Fi Data*"
      ],
      "metadata": {
        "id": "fvtz__OUn0MM"
      }
    },
    {
      "cell_type": "code",
      "source": [
        "# Info about the dataset\n",
        "\n",
        "df_scifi.info()"
      ],
      "metadata": {
        "colab": {
          "base_uri": "https://localhost:8080/"
        },
        "id": "CyM0v22ZqCjf",
        "outputId": "11d7df81-98ef-4a9f-f63c-d6da0f919dd6",
        "execution": {
          "iopub.status.busy": "2023-10-24T14:09:57.049345Z",
          "iopub.execute_input": "2023-10-24T14:09:57.049695Z",
          "iopub.status.idle": "2023-10-24T14:09:57.161864Z",
          "shell.execute_reply.started": "2023-10-24T14:09:57.049668Z",
          "shell.execute_reply": "2023-10-24T14:09:57.160750Z"
        },
        "trusted": true
      },
      "execution_count": null,
      "outputs": [
        {
          "output_type": "stream",
          "name": "stdout",
          "text": [
            "<class 'pandas.core.frame.DataFrame'>\n",
            "RangeIndex: 105427 entries, 0 to 105426\n",
            "Data columns (total 1 columns):\n",
            " #   Column  Non-Null Count   Dtype \n",
            "---  ------  --------------   ----- \n",
            " 0   text    105427 non-null  object\n",
            "dtypes: object(1)\n",
            "memory usage: 823.8+ KB\n"
          ]
        }
      ]
    },
    {
      "cell_type": "code",
      "source": [
        "# First few rows of the dataframe\n",
        "\n",
        "df_scifi.head()"
      ],
      "metadata": {
        "colab": {
          "base_uri": "https://localhost:8080/",
          "height": 206
        },
        "id": "86ziMyFDnvim",
        "outputId": "42a03181-eecd-4a9c-8dc2-8819bfe9be1f",
        "execution": {
          "iopub.status.busy": "2023-10-24T14:09:59.552954Z",
          "iopub.execute_input": "2023-10-24T14:09:59.553344Z",
          "iopub.status.idle": "2023-10-24T14:09:59.562724Z",
          "shell.execute_reply.started": "2023-10-24T14:09:59.553307Z",
          "shell.execute_reply": "2023-10-24T14:09:59.561761Z"
        },
        "trusted": true
      },
      "execution_count": null,
      "outputs": [
        {
          "output_type": "execute_result",
          "data": {
            "text/plain": [
              "                                                text\n",
              "0  MARCH # All Stories New and Complete Publisher...\n",
              "1                                   Volume #, No. #.\n",
              "2      Copyright # by Quinn Publishing Company, Inc.\n",
              "3  Application for Entry' as Second Class matter ...\n",
              "4  Subscription # for # issues in U.S. and Posses..."
            ],
            "text/html": [
              "\n",
              "  <div id=\"df-d7602fd5-b0f5-4430-a6df-2044fd16b170\" class=\"colab-df-container\">\n",
              "    <div>\n",
              "<style scoped>\n",
              "    .dataframe tbody tr th:only-of-type {\n",
              "        vertical-align: middle;\n",
              "    }\n",
              "\n",
              "    .dataframe tbody tr th {\n",
              "        vertical-align: top;\n",
              "    }\n",
              "\n",
              "    .dataframe thead th {\n",
              "        text-align: right;\n",
              "    }\n",
              "</style>\n",
              "<table border=\"1\" class=\"dataframe\">\n",
              "  <thead>\n",
              "    <tr style=\"text-align: right;\">\n",
              "      <th></th>\n",
              "      <th>text</th>\n",
              "    </tr>\n",
              "  </thead>\n",
              "  <tbody>\n",
              "    <tr>\n",
              "      <th>0</th>\n",
              "      <td>MARCH # All Stories New and Complete Publisher...</td>\n",
              "    </tr>\n",
              "    <tr>\n",
              "      <th>1</th>\n",
              "      <td>Volume #, No. #.</td>\n",
              "    </tr>\n",
              "    <tr>\n",
              "      <th>2</th>\n",
              "      <td>Copyright # by Quinn Publishing Company, Inc.</td>\n",
              "    </tr>\n",
              "    <tr>\n",
              "      <th>3</th>\n",
              "      <td>Application for Entry' as Second Class matter ...</td>\n",
              "    </tr>\n",
              "    <tr>\n",
              "      <th>4</th>\n",
              "      <td>Subscription # for # issues in U.S. and Posses...</td>\n",
              "    </tr>\n",
              "  </tbody>\n",
              "</table>\n",
              "</div>\n",
              "    <div class=\"colab-df-buttons\">\n",
              "\n",
              "  <div class=\"colab-df-container\">\n",
              "    <button class=\"colab-df-convert\" onclick=\"convertToInteractive('df-d7602fd5-b0f5-4430-a6df-2044fd16b170')\"\n",
              "            title=\"Convert this dataframe to an interactive table.\"\n",
              "            style=\"display:none;\">\n",
              "\n",
              "  <svg xmlns=\"http://www.w3.org/2000/svg\" height=\"24px\" viewBox=\"0 -960 960 960\">\n",
              "    <path d=\"M120-120v-720h720v720H120Zm60-500h600v-160H180v160Zm220 220h160v-160H400v160Zm0 220h160v-160H400v160ZM180-400h160v-160H180v160Zm440 0h160v-160H620v160ZM180-180h160v-160H180v160Zm440 0h160v-160H620v160Z\"/>\n",
              "  </svg>\n",
              "    </button>\n",
              "\n",
              "  <style>\n",
              "    .colab-df-container {\n",
              "      display:flex;\n",
              "      gap: 12px;\n",
              "    }\n",
              "\n",
              "    .colab-df-convert {\n",
              "      background-color: #E8F0FE;\n",
              "      border: none;\n",
              "      border-radius: 50%;\n",
              "      cursor: pointer;\n",
              "      display: none;\n",
              "      fill: #1967D2;\n",
              "      height: 32px;\n",
              "      padding: 0 0 0 0;\n",
              "      width: 32px;\n",
              "    }\n",
              "\n",
              "    .colab-df-convert:hover {\n",
              "      background-color: #E2EBFA;\n",
              "      box-shadow: 0px 1px 2px rgba(60, 64, 67, 0.3), 0px 1px 3px 1px rgba(60, 64, 67, 0.15);\n",
              "      fill: #174EA6;\n",
              "    }\n",
              "\n",
              "    .colab-df-buttons div {\n",
              "      margin-bottom: 4px;\n",
              "    }\n",
              "\n",
              "    [theme=dark] .colab-df-convert {\n",
              "      background-color: #3B4455;\n",
              "      fill: #D2E3FC;\n",
              "    }\n",
              "\n",
              "    [theme=dark] .colab-df-convert:hover {\n",
              "      background-color: #434B5C;\n",
              "      box-shadow: 0px 1px 3px 1px rgba(0, 0, 0, 0.15);\n",
              "      filter: drop-shadow(0px 1px 2px rgba(0, 0, 0, 0.3));\n",
              "      fill: #FFFFFF;\n",
              "    }\n",
              "  </style>\n",
              "\n",
              "    <script>\n",
              "      const buttonEl =\n",
              "        document.querySelector('#df-d7602fd5-b0f5-4430-a6df-2044fd16b170 button.colab-df-convert');\n",
              "      buttonEl.style.display =\n",
              "        google.colab.kernel.accessAllowed ? 'block' : 'none';\n",
              "\n",
              "      async function convertToInteractive(key) {\n",
              "        const element = document.querySelector('#df-d7602fd5-b0f5-4430-a6df-2044fd16b170');\n",
              "        const dataTable =\n",
              "          await google.colab.kernel.invokeFunction('convertToInteractive',\n",
              "                                                    [key], {});\n",
              "        if (!dataTable) return;\n",
              "\n",
              "        const docLinkHtml = 'Like what you see? Visit the ' +\n",
              "          '<a target=\"_blank\" href=https://colab.research.google.com/notebooks/data_table.ipynb>data table notebook</a>'\n",
              "          + ' to learn more about interactive tables.';\n",
              "        element.innerHTML = '';\n",
              "        dataTable['output_type'] = 'display_data';\n",
              "        await google.colab.output.renderOutput(dataTable, element);\n",
              "        const docLink = document.createElement('div');\n",
              "        docLink.innerHTML = docLinkHtml;\n",
              "        element.appendChild(docLink);\n",
              "      }\n",
              "    </script>\n",
              "  </div>\n",
              "\n",
              "\n",
              "<div id=\"df-25a45e5a-fe5e-4fbf-915a-080307f76de8\">\n",
              "  <button class=\"colab-df-quickchart\" onclick=\"quickchart('df-25a45e5a-fe5e-4fbf-915a-080307f76de8')\"\n",
              "            title=\"Suggest charts.\"\n",
              "            style=\"display:none;\">\n",
              "\n",
              "<svg xmlns=\"http://www.w3.org/2000/svg\" height=\"24px\"viewBox=\"0 0 24 24\"\n",
              "     width=\"24px\">\n",
              "    <g>\n",
              "        <path d=\"M19 3H5c-1.1 0-2 .9-2 2v14c0 1.1.9 2 2 2h14c1.1 0 2-.9 2-2V5c0-1.1-.9-2-2-2zM9 17H7v-7h2v7zm4 0h-2V7h2v10zm4 0h-2v-4h2v4z\"/>\n",
              "    </g>\n",
              "</svg>\n",
              "  </button>\n",
              "\n",
              "<style>\n",
              "  .colab-df-quickchart {\n",
              "      --bg-color: #E8F0FE;\n",
              "      --fill-color: #1967D2;\n",
              "      --hover-bg-color: #E2EBFA;\n",
              "      --hover-fill-color: #174EA6;\n",
              "      --disabled-fill-color: #AAA;\n",
              "      --disabled-bg-color: #DDD;\n",
              "  }\n",
              "\n",
              "  [theme=dark] .colab-df-quickchart {\n",
              "      --bg-color: #3B4455;\n",
              "      --fill-color: #D2E3FC;\n",
              "      --hover-bg-color: #434B5C;\n",
              "      --hover-fill-color: #FFFFFF;\n",
              "      --disabled-bg-color: #3B4455;\n",
              "      --disabled-fill-color: #666;\n",
              "  }\n",
              "\n",
              "  .colab-df-quickchart {\n",
              "    background-color: var(--bg-color);\n",
              "    border: none;\n",
              "    border-radius: 50%;\n",
              "    cursor: pointer;\n",
              "    display: none;\n",
              "    fill: var(--fill-color);\n",
              "    height: 32px;\n",
              "    padding: 0;\n",
              "    width: 32px;\n",
              "  }\n",
              "\n",
              "  .colab-df-quickchart:hover {\n",
              "    background-color: var(--hover-bg-color);\n",
              "    box-shadow: 0 1px 2px rgba(60, 64, 67, 0.3), 0 1px 3px 1px rgba(60, 64, 67, 0.15);\n",
              "    fill: var(--button-hover-fill-color);\n",
              "  }\n",
              "\n",
              "  .colab-df-quickchart-complete:disabled,\n",
              "  .colab-df-quickchart-complete:disabled:hover {\n",
              "    background-color: var(--disabled-bg-color);\n",
              "    fill: var(--disabled-fill-color);\n",
              "    box-shadow: none;\n",
              "  }\n",
              "\n",
              "  .colab-df-spinner {\n",
              "    border: 2px solid var(--fill-color);\n",
              "    border-color: transparent;\n",
              "    border-bottom-color: var(--fill-color);\n",
              "    animation:\n",
              "      spin 1s steps(1) infinite;\n",
              "  }\n",
              "\n",
              "  @keyframes spin {\n",
              "    0% {\n",
              "      border-color: transparent;\n",
              "      border-bottom-color: var(--fill-color);\n",
              "      border-left-color: var(--fill-color);\n",
              "    }\n",
              "    20% {\n",
              "      border-color: transparent;\n",
              "      border-left-color: var(--fill-color);\n",
              "      border-top-color: var(--fill-color);\n",
              "    }\n",
              "    30% {\n",
              "      border-color: transparent;\n",
              "      border-left-color: var(--fill-color);\n",
              "      border-top-color: var(--fill-color);\n",
              "      border-right-color: var(--fill-color);\n",
              "    }\n",
              "    40% {\n",
              "      border-color: transparent;\n",
              "      border-right-color: var(--fill-color);\n",
              "      border-top-color: var(--fill-color);\n",
              "    }\n",
              "    60% {\n",
              "      border-color: transparent;\n",
              "      border-right-color: var(--fill-color);\n",
              "    }\n",
              "    80% {\n",
              "      border-color: transparent;\n",
              "      border-right-color: var(--fill-color);\n",
              "      border-bottom-color: var(--fill-color);\n",
              "    }\n",
              "    90% {\n",
              "      border-color: transparent;\n",
              "      border-bottom-color: var(--fill-color);\n",
              "    }\n",
              "  }\n",
              "</style>\n",
              "\n",
              "  <script>\n",
              "    async function quickchart(key) {\n",
              "      const quickchartButtonEl =\n",
              "        document.querySelector('#' + key + ' button');\n",
              "      quickchartButtonEl.disabled = true;  // To prevent multiple clicks.\n",
              "      quickchartButtonEl.classList.add('colab-df-spinner');\n",
              "      try {\n",
              "        const charts = await google.colab.kernel.invokeFunction(\n",
              "            'suggestCharts', [key], {});\n",
              "      } catch (error) {\n",
              "        console.error('Error during call to suggestCharts:', error);\n",
              "      }\n",
              "      quickchartButtonEl.classList.remove('colab-df-spinner');\n",
              "      quickchartButtonEl.classList.add('colab-df-quickchart-complete');\n",
              "    }\n",
              "    (() => {\n",
              "      let quickchartButtonEl =\n",
              "        document.querySelector('#df-25a45e5a-fe5e-4fbf-915a-080307f76de8 button');\n",
              "      quickchartButtonEl.style.display =\n",
              "        google.colab.kernel.accessAllowed ? 'block' : 'none';\n",
              "    })();\n",
              "  </script>\n",
              "</div>\n",
              "    </div>\n",
              "  </div>\n"
            ]
          },
          "metadata": {},
          "execution_count": 8
        }
      ]
    },
    {
      "cell_type": "code",
      "source": [
        "# Visualizing the distribution of length of the reviews\n",
        "\n",
        "df_scifi['text_length'] = df_scifi['text'].apply(len)\n",
        "\n",
        "plt.figure(figsize=(12, 6))\n",
        "sns.histplot(df_scifi['text_length'], bins=50, color='red')\n",
        "plt.title('Distribution of Review Length')\n",
        "plt.show()"
      ],
      "metadata": {
        "colab": {
          "base_uri": "https://localhost:8080/",
          "height": 489
        },
        "id": "B2BXCcJZnvdR",
        "outputId": "d82c7c4a-e0d4-463b-c786-cfb0c7f55bda",
        "execution": {
          "iopub.status.busy": "2023-10-24T14:10:04.363373Z",
          "iopub.execute_input": "2023-10-24T14:10:04.363764Z",
          "iopub.status.idle": "2023-10-24T14:10:06.383038Z",
          "shell.execute_reply.started": "2023-10-24T14:10:04.363733Z",
          "shell.execute_reply": "2023-10-24T14:10:06.381993Z"
        },
        "trusted": true
      },
      "execution_count": null,
      "outputs": [
        {
          "output_type": "display_data",
          "data": {
            "text/plain": [
              "<Figure size 1200x600 with 1 Axes>"
            ],
            "image/png": "[encoded data removed]"
          },
          "metadata": {}
        }
      ]
    },
    {
      "cell_type": "code",
      "source": [
        "df_scifi[\"text_length\"].describe()"
      ],
      "metadata": {
        "colab": {
          "base_uri": "https://localhost:8080/"
        },
        "id": "GQR5bBP8qqaT",
        "outputId": "0e239669-1daf-4ede-bce8-225c19b64bd5",
        "execution": {
          "iopub.status.busy": "2023-10-24T14:10:09.740778Z",
          "iopub.execute_input": "2023-10-24T14:10:09.741894Z",
          "iopub.status.idle": "2023-10-24T14:10:09.782411Z",
          "shell.execute_reply.started": "2023-10-24T14:10:09.741849Z",
          "shell.execute_reply": "2023-10-24T14:10:09.781334Z"
        },
        "trusted": true
      },
      "execution_count": null,
      "outputs": [
        {
          "output_type": "execute_result",
          "data": {
            "text/plain": [
              "count    105427.000000\n",
              "mean         78.567938\n",
              "std          58.596386\n",
              "min           1.000000\n",
              "25%          37.000000\n",
              "50%          65.000000\n",
              "75%         105.000000\n",
              "max        1357.000000\n",
              "Name: text_length, dtype: float64"
            ]
          },
          "metadata": {},
          "execution_count": 10
        }
      ]
    },
    {
      "cell_type": "markdown",
      "source": [
        "***DATA PREPROCESSING***"
      ],
      "metadata": {
        "id": "Y6inuPDTrGq7"
      }
    },
    {
      "cell_type": "code",
      "source": [
        "def preprocess_review(review):\n",
        "  # Convert all words to lower case\n",
        "  review = review.lower()\n",
        "\n",
        "  # Remove all punctuations\n",
        "  review = review.translate(str.maketrans('', '', string.punctuation))\n",
        "\n",
        "  # Remove all stop words\n",
        "  # Tokenize the sentence\n",
        "  tokens = nltk.word_tokenize(review)\n",
        "  # Remove stop words\n",
        "  clean_tokens = [token for token in tokens if not token.lower() in stop_words]\n",
        "  # Join the tokens back into a sentence\n",
        "  review = ' '.join(clean_tokens)\n",
        "\n",
        "  # Removing HTML Tags, URLs and Website Links\n",
        "  # Removing Website Links\n",
        "  temp_text = review.split()\n",
        "\n",
        "  for i in temp_text:\n",
        "    if i[-4:] == \".com\" or i[:4] == \"www.\":\n",
        "      temp_text.remove(i)\n",
        "\n",
        "  review = ' '.join(temp_text)\n",
        "\n",
        "  # Remove HTML tags\n",
        "  clean_text = re.sub('<[^<]+?>', '', review)\n",
        "\n",
        "  # Remove URLs\n",
        "  clean_text = re.sub(r'http\\S+', '', clean_text)\n",
        "\n",
        "  review = clean_text\n",
        "\n",
        "  # Remove numbers\n",
        "  review = re.sub(r'\\d+', '', review)\n",
        "\n",
        "  # Deemojize Emojis\n",
        "  review = emoji.demojize(review)\n",
        "\n",
        "  # Remove mentions\n",
        "  review = re.sub(r'@\\w+', '', review)\n",
        "\n",
        "  # Stemming\n",
        "  # Tokenize the sentence\n",
        "  tokens = nltk.word_tokenize(review)\n",
        "\n",
        "  # Stem the tokens\n",
        "  stemmed_tokens = [stemmer.stem(token) for token in tokens]\n",
        "\n",
        "  # Join the stemmed tokens back into a sentence\n",
        "  review = ' '.join(stemmed_tokens)\n",
        "\n",
        "  return review"
      ],
      "metadata": {
        "id": "pJBHLAJ_sKVm",
        "execution": {
          "iopub.status.busy": "2023-10-24T12:22:05.724568Z",
          "iopub.execute_input": "2023-10-24T12:22:05.724974Z",
          "iopub.status.idle": "2023-10-24T12:22:05.736173Z",
          "shell.execute_reply.started": "2023-10-24T12:22:05.724937Z",
          "shell.execute_reply": "2023-10-24T12:22:05.734891Z"
        },
        "trusted": true
      },
      "execution_count": null,
      "outputs": []
    },
    {
      "cell_type": "markdown",
      "source": [
        "***PREPROCESSING THE DATASETS***"
      ],
      "metadata": {
        "id": "QDn89Y_dvb9S"
      }
    },
    {
      "cell_type": "markdown",
      "source": [
        "*Trip Advisor Hotel Reviews Data*"
      ],
      "metadata": {
        "id": "8KPZWL22ynwG"
      }
    },
    {
      "cell_type": "code",
      "source": [
        "df_trip[\"Preprocessed Reviews\"] = df_trip[\"Review\"].apply(preprocess_review)"
      ],
      "metadata": {
        "id": "twZhX1YusKPT",
        "execution": {
          "iopub.status.busy": "2023-10-24T12:22:05.737548Z",
          "iopub.execute_input": "2023-10-24T12:22:05.737842Z",
          "iopub.status.idle": "2023-10-24T12:24:26.014015Z",
          "shell.execute_reply.started": "2023-10-24T12:22:05.737814Z",
          "shell.execute_reply": "2023-10-24T12:24:26.013169Z"
        },
        "trusted": true
      },
      "execution_count": null,
      "outputs": []
    },
    {
      "cell_type": "code",
      "source": [
        "cols = list(df_trip.columns.values)\n",
        "cols"
      ],
      "metadata": {
        "colab": {
          "base_uri": "https://localhost:8080/"
        },
        "id": "hKw5ci2syL6F",
        "outputId": "3b5f53d4-1de9-4550-b9cd-dbd77bd1e42e",
        "execution": {
          "iopub.status.busy": "2023-10-24T12:24:26.015182Z",
          "iopub.execute_input": "2023-10-24T12:24:26.015521Z",
          "iopub.status.idle": "2023-10-24T12:24:26.022305Z",
          "shell.execute_reply.started": "2023-10-24T12:24:26.015495Z",
          "shell.execute_reply": "2023-10-24T12:24:26.021315Z"
        },
        "trusted": true
      },
      "execution_count": null,
      "outputs": [
        {
          "execution_count": 32,
          "output_type": "execute_result",
          "data": {
            "text/plain": "['Review', 'Rating', 'review_length', 'Preprocessed Reviews']"
          },
          "metadata": {}
        }
      ]
    },
    {
      "cell_type": "code",
      "source": [
        "df_trip = df_trip[['Review', 'Preprocessed Reviews', 'Rating', 'review_length']]"
      ],
      "metadata": {
        "id": "SMAfVx0eyLuw",
        "execution": {
          "iopub.status.busy": "2023-10-24T12:24:26.023758Z",
          "iopub.execute_input": "2023-10-24T12:24:26.024444Z",
          "iopub.status.idle": "2023-10-24T12:24:26.039815Z",
          "shell.execute_reply.started": "2023-10-24T12:24:26.024407Z",
          "shell.execute_reply": "2023-10-24T12:24:26.038691Z"
        },
        "trusted": true
      },
      "execution_count": null,
      "outputs": []
    },
    {
      "cell_type": "code",
      "source": [
        "df_trip.head()"
      ],
      "metadata": {
        "colab": {
          "base_uri": "https://localhost:8080/",
          "height": 206
        },
        "id": "zPlaLpipyLrN",
        "outputId": "6f1c0f42-3c56-4234-94b6-2beaeafe7f0e",
        "execution": {
          "iopub.status.busy": "2023-10-24T12:24:26.041106Z",
          "iopub.execute_input": "2023-10-24T12:24:26.041479Z",
          "iopub.status.idle": "2023-10-24T12:24:26.060530Z",
          "shell.execute_reply.started": "2023-10-24T12:24:26.041446Z",
          "shell.execute_reply": "2023-10-24T12:24:26.059645Z"
        },
        "trusted": true
      },
      "execution_count": null,
      "outputs": [
        {
          "execution_count": 34,
          "output_type": "execute_result",
          "data": {
            "text/plain": "                                              Review  \\\n0  nice hotel expensive parking got good deal sta...   \n1  ok nothing special charge diamond member hilto...   \n2  nice rooms not 4* experience hotel monaco seat...   \n3  unique, great stay, wonderful time hotel monac...   \n4  great stay great stay, went seahawk game aweso...   \n\n                                Preprocessed Reviews  Rating  review_length  \n0  nice hotel expens park got good deal stay hote...       4            593  \n1  ok noth special charg diamond member hilton de...       2           1689  \n2  nice room experi hotel monaco seattl good hote...       3           1427  \n3  uniqu great stay wonder time hotel monaco loca...       5            600  \n4  great stay great stay went seahawk game awesom...       5           1281  ",
            "text/html": "<div>\n<style scoped>\n    .dataframe tbody tr th:only-of-type {\n        vertical-align: middle;\n    }\n\n    .dataframe tbody tr th {\n        vertical-align: top;\n    }\n\n    .dataframe thead th {\n        text-align: right;\n    }\n</style>\n<table border=\"1\" class=\"dataframe\">\n  <thead>\n    <tr style=\"text-align: right;\">\n      <th></th>\n      <th>Review</th>\n      <th>Preprocessed Reviews</th>\n      <th>Rating</th>\n      <th>review_length</th>\n    </tr>\n  </thead>\n  <tbody>\n    <tr>\n      <th>0</th>\n      <td>nice hotel expensive parking got good deal sta...</td>\n      <td>nice hotel expens park got good deal stay hote...</td>\n      <td>4</td>\n      <td>593</td>\n    </tr>\n    <tr>\n      <th>1</th>\n      <td>ok nothing special charge diamond member hilto...</td>\n      <td>ok noth special charg diamond member hilton de...</td>\n      <td>2</td>\n      <td>1689</td>\n    </tr>\n    <tr>\n      <th>2</th>\n      <td>nice rooms not 4* experience hotel monaco seat...</td>\n      <td>nice room experi hotel monaco seattl good hote...</td>\n      <td>3</td>\n      <td>1427</td>\n    </tr>\n    <tr>\n      <th>3</th>\n      <td>unique, great stay, wonderful time hotel monac...</td>\n      <td>uniqu great stay wonder time hotel monaco loca...</td>\n      <td>5</td>\n      <td>600</td>\n    </tr>\n    <tr>\n      <th>4</th>\n      <td>great stay great stay, went seahawk game aweso...</td>\n      <td>great stay great stay went seahawk game awesom...</td>\n      <td>5</td>\n      <td>1281</td>\n    </tr>\n  </tbody>\n</table>\n</div>"
          },
          "metadata": {}
        }
      ]
    },
    {
      "cell_type": "code",
      "source": [
        "# By deriving a set from `raw_text`, we deduplicate the array\n",
        "\n",
        "raw_text = (' '.join(df_trip[\"Preprocessed Reviews\"])).split()"
      ],
      "metadata": {
        "id": "2vIIzibEHhyx",
        "execution": {
          "iopub.status.busy": "2023-10-24T12:24:26.061695Z",
          "iopub.execute_input": "2023-10-24T12:24:26.062023Z",
          "iopub.status.idle": "2023-10-24T12:24:26.292340Z",
          "shell.execute_reply.started": "2023-10-24T12:24:26.061994Z",
          "shell.execute_reply": "2023-10-24T12:24:26.291289Z"
        },
        "trusted": true
      },
      "execution_count": null,
      "outputs": []
    },
    {
      "cell_type": "code",
      "source": [
        "# We create our vocab, context words and target words\n",
        "\n",
        "vocab = set(raw_text)\n",
        "vocab_size = len(vocab)"
      ],
      "metadata": {
        "id": "jtaqaIEp-sFN",
        "execution": {
          "iopub.status.busy": "2023-10-24T12:24:26.293659Z",
          "iopub.execute_input": "2023-10-24T12:24:26.294019Z",
          "iopub.status.idle": "2023-10-24T12:24:26.426698Z",
          "shell.execute_reply.started": "2023-10-24T12:24:26.293983Z",
          "shell.execute_reply": "2023-10-24T12:24:26.425720Z"
        },
        "trusted": true
      },
      "execution_count": null,
      "outputs": []
    },
    {
      "cell_type": "markdown",
      "source": [
        "*Scifi Data*"
      ],
      "metadata": {
        "id": "uVmFrIWg195a"
      }
    },
    {
      "cell_type": "code",
      "source": [
        "df_scifi[\"preprocessed text\"] = df_scifi[\"text\"].apply(preprocess_review)"
      ],
      "metadata": {
        "execution": {
          "iopub.status.busy": "2023-10-24T14:23:34.400874Z",
          "iopub.execute_input": "2023-10-24T14:23:34.401716Z",
          "iopub.status.idle": "2023-10-24T14:36:04.928150Z",
          "shell.execute_reply.started": "2023-10-24T14:23:34.401675Z",
          "shell.execute_reply": "2023-10-24T14:36:04.927311Z"
        },
        "trusted": true,
        "id": "EhW6MnuO195a"
      },
      "execution_count": null,
      "outputs": []
    },
    {
      "cell_type": "code",
      "source": [
        "df_scifi.head()"
      ],
      "metadata": {
        "execution": {
          "iopub.status.busy": "2023-10-24T14:36:04.929311Z",
          "iopub.execute_input": "2023-10-24T14:36:04.929570Z",
          "iopub.status.idle": "2023-10-24T14:36:04.939510Z",
          "shell.execute_reply.started": "2023-10-24T14:36:04.929547Z",
          "shell.execute_reply": "2023-10-24T14:36:04.938617Z"
        },
        "trusted": true,
        "colab": {
          "base_uri": "https://localhost:8080/",
          "height": 206
        },
        "id": "T6-yY1mI195b",
        "outputId": "96fbe90a-6483-47f1-8bb6-72cb4c6f2750"
      },
      "execution_count": null,
      "outputs": [
        {
          "output_type": "execute_result",
          "data": {
            "text/plain": [
              "                                                text  text_length  \\\n",
              "0  MARCH # All Stories New and Complete Publisher...          135   \n",
              "1                                   Volume #, No. #.           16   \n",
              "2      Copyright # by Quinn Publishing Company, Inc.           45   \n",
              "3  Application for Entry' as Second Class matter ...           89   \n",
              "4  Subscription # for # issues in U.S. and Posses...           88   \n",
              "\n",
              "                                   preprocessed text  \n",
              "0  march stori new complet publish editor publish...  \n",
              "1                                              volum  \n",
              "2                copyright quinn publish compani inc  \n",
              "3  applic entri second class matter post offic bu...  \n",
              "4     subscript issu us possess canada issu elsewher  "
            ],
            "text/html": [
              "\n",
              "  <div id=\"df-cdabf295-1755-4489-8664-8b6e71850a73\" class=\"colab-df-container\">\n",
              "    <div>\n",
              "<style scoped>\n",
              "    .dataframe tbody tr th:only-of-type {\n",
              "        vertical-align: middle;\n",
              "    }\n",
              "\n",
              "    .dataframe tbody tr th {\n",
              "        vertical-align: top;\n",
              "    }\n",
              "\n",
              "    .dataframe thead th {\n",
              "        text-align: right;\n",
              "    }\n",
              "</style>\n",
              "<table border=\"1\" class=\"dataframe\">\n",
              "  <thead>\n",
              "    <tr style=\"text-align: right;\">\n",
              "      <th></th>\n",
              "      <th>text</th>\n",
              "      <th>text_length</th>\n",
              "      <th>preprocessed text</th>\n",
              "    </tr>\n",
              "  </thead>\n",
              "  <tbody>\n",
              "    <tr>\n",
              "      <th>0</th>\n",
              "      <td>MARCH # All Stories New and Complete Publisher...</td>\n",
              "      <td>135</td>\n",
              "      <td>march stori new complet publish editor publish...</td>\n",
              "    </tr>\n",
              "    <tr>\n",
              "      <th>1</th>\n",
              "      <td>Volume #, No. #.</td>\n",
              "      <td>16</td>\n",
              "      <td>volum</td>\n",
              "    </tr>\n",
              "    <tr>\n",
              "      <th>2</th>\n",
              "      <td>Copyright # by Quinn Publishing Company, Inc.</td>\n",
              "      <td>45</td>\n",
              "      <td>copyright quinn publish compani inc</td>\n",
              "    </tr>\n",
              "    <tr>\n",
              "      <th>3</th>\n",
              "      <td>Application for Entry' as Second Class matter ...</td>\n",
              "      <td>89</td>\n",
              "      <td>applic entri second class matter post offic bu...</td>\n",
              "    </tr>\n",
              "    <tr>\n",
              "      <th>4</th>\n",
              "      <td>Subscription # for # issues in U.S. and Posses...</td>\n",
              "      <td>88</td>\n",
              "      <td>subscript issu us possess canada issu elsewher</td>\n",
              "    </tr>\n",
              "  </tbody>\n",
              "</table>\n",
              "</div>\n",
              "    <div class=\"colab-df-buttons\">\n",
              "\n",
              "  <div class=\"colab-df-container\">\n",
              "    <button class=\"colab-df-convert\" onclick=\"convertToInteractive('df-cdabf295-1755-4489-8664-8b6e71850a73')\"\n",
              "            title=\"Convert this dataframe to an interactive table.\"\n",
              "            style=\"display:none;\">\n",
              "\n",
              "  <svg xmlns=\"http://www.w3.org/2000/svg\" height=\"24px\" viewBox=\"0 -960 960 960\">\n",
              "    <path d=\"M120-120v-720h720v720H120Zm60-500h600v-160H180v160Zm220 220h160v-160H400v160Zm0 220h160v-160H400v160ZM180-400h160v-160H180v160Zm440 0h160v-160H620v160ZM180-180h160v-160H180v160Zm440 0h160v-160H620v160Z\"/>\n",
              "  </svg>\n",
              "    </button>\n",
              "\n",
              "  <style>\n",
              "    .colab-df-container {\n",
              "      display:flex;\n",
              "      gap: 12px;\n",
              "    }\n",
              "\n",
              "    .colab-df-convert {\n",
              "      background-color: #E8F0FE;\n",
              "      border: none;\n",
              "      border-radius: 50%;\n",
              "      cursor: pointer;\n",
              "      display: none;\n",
              "      fill: #1967D2;\n",
              "      height: 32px;\n",
              "      padding: 0 0 0 0;\n",
              "      width: 32px;\n",
              "    }\n",
              "\n",
              "    .colab-df-convert:hover {\n",
              "      background-color: #E2EBFA;\n",
              "      box-shadow: 0px 1px 2px rgba(60, 64, 67, 0.3), 0px 1px 3px 1px rgba(60, 64, 67, 0.15);\n",
              "      fill: #174EA6;\n",
              "    }\n",
              "\n",
              "    .colab-df-buttons div {\n",
              "      margin-bottom: 4px;\n",
              "    }\n",
              "\n",
              "    [theme=dark] .colab-df-convert {\n",
              "      background-color: #3B4455;\n",
              "      fill: #D2E3FC;\n",
              "    }\n",
              "\n",
              "    [theme=dark] .colab-df-convert:hover {\n",
              "      background-color: #434B5C;\n",
              "      box-shadow: 0px 1px 3px 1px rgba(0, 0, 0, 0.15);\n",
              "      filter: drop-shadow(0px 1px 2px rgba(0, 0, 0, 0.3));\n",
              "      fill: #FFFFFF;\n",
              "    }\n",
              "  </style>\n",
              "\n",
              "    <script>\n",
              "      const buttonEl =\n",
              "        document.querySelector('#df-cdabf295-1755-4489-8664-8b6e71850a73 button.colab-df-convert');\n",
              "      buttonEl.style.display =\n",
              "        google.colab.kernel.accessAllowed ? 'block' : 'none';\n",
              "\n",
              "      async function convertToInteractive(key) {\n",
              "        const element = document.querySelector('#df-cdabf295-1755-4489-8664-8b6e71850a73');\n",
              "        const dataTable =\n",
              "          await google.colab.kernel.invokeFunction('convertToInteractive',\n",
              "                                                    [key], {});\n",
              "        if (!dataTable) return;\n",
              "\n",
              "        const docLinkHtml = 'Like what you see? Visit the ' +\n",
              "          '<a target=\"_blank\" href=https://colab.research.google.com/notebooks/data_table.ipynb>data table notebook</a>'\n",
              "          + ' to learn more about interactive tables.';\n",
              "        element.innerHTML = '';\n",
              "        dataTable['output_type'] = 'display_data';\n",
              "        await google.colab.output.renderOutput(dataTable, element);\n",
              "        const docLink = document.createElement('div');\n",
              "        docLink.innerHTML = docLinkHtml;\n",
              "        element.appendChild(docLink);\n",
              "      }\n",
              "    </script>\n",
              "  </div>\n",
              "\n",
              "\n",
              "<div id=\"df-f4fb93d1-871d-4675-9479-87acfc7a41bf\">\n",
              "  <button class=\"colab-df-quickchart\" onclick=\"quickchart('df-f4fb93d1-871d-4675-9479-87acfc7a41bf')\"\n",
              "            title=\"Suggest charts.\"\n",
              "            style=\"display:none;\">\n",
              "\n",
              "<svg xmlns=\"http://www.w3.org/2000/svg\" height=\"24px\"viewBox=\"0 0 24 24\"\n",
              "     width=\"24px\">\n",
              "    <g>\n",
              "        <path d=\"M19 3H5c-1.1 0-2 .9-2 2v14c0 1.1.9 2 2 2h14c1.1 0 2-.9 2-2V5c0-1.1-.9-2-2-2zM9 17H7v-7h2v7zm4 0h-2V7h2v10zm4 0h-2v-4h2v4z\"/>\n",
              "    </g>\n",
              "</svg>\n",
              "  </button>\n",
              "\n",
              "<style>\n",
              "  .colab-df-quickchart {\n",
              "      --bg-color: #E8F0FE;\n",
              "      --fill-color: #1967D2;\n",
              "      --hover-bg-color: #E2EBFA;\n",
              "      --hover-fill-color: #174EA6;\n",
              "      --disabled-fill-color: #AAA;\n",
              "      --disabled-bg-color: #DDD;\n",
              "  }\n",
              "\n",
              "  [theme=dark] .colab-df-quickchart {\n",
              "      --bg-color: #3B4455;\n",
              "      --fill-color: #D2E3FC;\n",
              "      --hover-bg-color: #434B5C;\n",
              "      --hover-fill-color: #FFFFFF;\n",
              "      --disabled-bg-color: #3B4455;\n",
              "      --disabled-fill-color: #666;\n",
              "  }\n",
              "\n",
              "  .colab-df-quickchart {\n",
              "    background-color: var(--bg-color);\n",
              "    border: none;\n",
              "    border-radius: 50%;\n",
              "    cursor: pointer;\n",
              "    display: none;\n",
              "    fill: var(--fill-color);\n",
              "    height: 32px;\n",
              "    padding: 0;\n",
              "    width: 32px;\n",
              "  }\n",
              "\n",
              "  .colab-df-quickchart:hover {\n",
              "    background-color: var(--hover-bg-color);\n",
              "    box-shadow: 0 1px 2px rgba(60, 64, 67, 0.3), 0 1px 3px 1px rgba(60, 64, 67, 0.15);\n",
              "    fill: var(--button-hover-fill-color);\n",
              "  }\n",
              "\n",
              "  .colab-df-quickchart-complete:disabled,\n",
              "  .colab-df-quickchart-complete:disabled:hover {\n",
              "    background-color: var(--disabled-bg-color);\n",
              "    fill: var(--disabled-fill-color);\n",
              "    box-shadow: none;\n",
              "  }\n",
              "\n",
              "  .colab-df-spinner {\n",
              "    border: 2px solid var(--fill-color);\n",
              "    border-color: transparent;\n",
              "    border-bottom-color: var(--fill-color);\n",
              "    animation:\n",
              "      spin 1s steps(1) infinite;\n",
              "  }\n",
              "\n",
              "  @keyframes spin {\n",
              "    0% {\n",
              "      border-color: transparent;\n",
              "      border-bottom-color: var(--fill-color);\n",
              "      border-left-color: var(--fill-color);\n",
              "    }\n",
              "    20% {\n",
              "      border-color: transparent;\n",
              "      border-left-color: var(--fill-color);\n",
              "      border-top-color: var(--fill-color);\n",
              "    }\n",
              "    30% {\n",
              "      border-color: transparent;\n",
              "      border-left-color: var(--fill-color);\n",
              "      border-top-color: var(--fill-color);\n",
              "      border-right-color: var(--fill-color);\n",
              "    }\n",
              "    40% {\n",
              "      border-color: transparent;\n",
              "      border-right-color: var(--fill-color);\n",
              "      border-top-color: var(--fill-color);\n",
              "    }\n",
              "    60% {\n",
              "      border-color: transparent;\n",
              "      border-right-color: var(--fill-color);\n",
              "    }\n",
              "    80% {\n",
              "      border-color: transparent;\n",
              "      border-right-color: var(--fill-color);\n",
              "      border-bottom-color: var(--fill-color);\n",
              "    }\n",
              "    90% {\n",
              "      border-color: transparent;\n",
              "      border-bottom-color: var(--fill-color);\n",
              "    }\n",
              "  }\n",
              "</style>\n",
              "\n",
              "  <script>\n",
              "    async function quickchart(key) {\n",
              "      const quickchartButtonEl =\n",
              "        document.querySelector('#' + key + ' button');\n",
              "      quickchartButtonEl.disabled = true;  // To prevent multiple clicks.\n",
              "      quickchartButtonEl.classList.add('colab-df-spinner');\n",
              "      try {\n",
              "        const charts = await google.colab.kernel.invokeFunction(\n",
              "            'suggestCharts', [key], {});\n",
              "      } catch (error) {\n",
              "        console.error('Error during call to suggestCharts:', error);\n",
              "      }\n",
              "      quickchartButtonEl.classList.remove('colab-df-spinner');\n",
              "      quickchartButtonEl.classList.add('colab-df-quickchart-complete');\n",
              "    }\n",
              "    (() => {\n",
              "      let quickchartButtonEl =\n",
              "        document.querySelector('#df-f4fb93d1-871d-4675-9479-87acfc7a41bf button');\n",
              "      quickchartButtonEl.style.display =\n",
              "        google.colab.kernel.accessAllowed ? 'block' : 'none';\n",
              "    })();\n",
              "  </script>\n",
              "</div>\n",
              "    </div>\n",
              "  </div>\n"
            ]
          },
          "metadata": {},
          "execution_count": 13
        }
      ]
    },
    {
      "cell_type": "code",
      "source": [
        "cols = list(df_scifi.columns.values)\n",
        "cols"
      ],
      "metadata": {
        "execution": {
          "iopub.status.busy": "2023-10-24T14:36:08.729385Z",
          "iopub.execute_input": "2023-10-24T14:36:08.729743Z",
          "iopub.status.idle": "2023-10-24T14:36:08.735913Z",
          "shell.execute_reply.started": "2023-10-24T14:36:08.729713Z",
          "shell.execute_reply": "2023-10-24T14:36:08.734977Z"
        },
        "trusted": true,
        "colab": {
          "base_uri": "https://localhost:8080/"
        },
        "id": "isv96Omm195c",
        "outputId": "5ef2c993-44da-4eea-cf76-ea15f4015fe7"
      },
      "execution_count": null,
      "outputs": [
        {
          "output_type": "execute_result",
          "data": {
            "text/plain": [
              "['text', 'text_length', 'preprocessed text']"
            ]
          },
          "metadata": {},
          "execution_count": 14
        }
      ]
    },
    {
      "cell_type": "code",
      "source": [
        "df_scifi = df_scifi[['text', 'preprocessed text', 'text_length']]"
      ],
      "metadata": {
        "execution": {
          "iopub.status.busy": "2023-10-24T14:36:39.401358Z",
          "iopub.execute_input": "2023-10-24T14:36:39.401718Z",
          "iopub.status.idle": "2023-10-24T14:36:39.465502Z",
          "shell.execute_reply.started": "2023-10-24T14:36:39.401689Z",
          "shell.execute_reply": "2023-10-24T14:36:39.464704Z"
        },
        "trusted": true,
        "id": "tCgzGsmb195c"
      },
      "execution_count": null,
      "outputs": []
    },
    {
      "cell_type": "code",
      "source": [
        "df_scifi.head()"
      ],
      "metadata": {
        "execution": {
          "iopub.status.busy": "2023-10-24T14:36:44.671513Z",
          "iopub.execute_input": "2023-10-24T14:36:44.671876Z",
          "iopub.status.idle": "2023-10-24T14:36:44.681990Z",
          "shell.execute_reply.started": "2023-10-24T14:36:44.671843Z",
          "shell.execute_reply": "2023-10-24T14:36:44.680983Z"
        },
        "trusted": true,
        "colab": {
          "base_uri": "https://localhost:8080/",
          "height": 206
        },
        "id": "s6mXRE6T195d",
        "outputId": "ffca2fa9-9071-442d-ef87-8a814fbb2217"
      },
      "execution_count": null,
      "outputs": [
        {
          "output_type": "execute_result",
          "data": {
            "text/plain": [
              "                                                text  \\\n",
              "0  MARCH # All Stories New and Complete Publisher...   \n",
              "1                                   Volume #, No. #.   \n",
              "2      Copyright # by Quinn Publishing Company, Inc.   \n",
              "3  Application for Entry' as Second Class matter ...   \n",
              "4  Subscription # for # issues in U.S. and Posses...   \n",
              "\n",
              "                                   preprocessed text  text_length  \n",
              "0  march stori new complet publish editor publish...          135  \n",
              "1                                              volum           16  \n",
              "2                copyright quinn publish compani inc           45  \n",
              "3  applic entri second class matter post offic bu...           89  \n",
              "4     subscript issu us possess canada issu elsewher           88  "
            ],
            "text/html": [
              "\n",
              "  <div id=\"df-e851fa12-d0c3-400f-acb7-7dd91a6dcee8\" class=\"colab-df-container\">\n",
              "    <div>\n",
              "<style scoped>\n",
              "    .dataframe tbody tr th:only-of-type {\n",
              "        vertical-align: middle;\n",
              "    }\n",
              "\n",
              "    .dataframe tbody tr th {\n",
              "        vertical-align: top;\n",
              "    }\n",
              "\n",
              "    .dataframe thead th {\n",
              "        text-align: right;\n",
              "    }\n",
              "</style>\n",
              "<table border=\"1\" class=\"dataframe\">\n",
              "  <thead>\n",
              "    <tr style=\"text-align: right;\">\n",
              "      <th></th>\n",
              "      <th>text</th>\n",
              "      <th>preprocessed text</th>\n",
              "      <th>text_length</th>\n",
              "    </tr>\n",
              "  </thead>\n",
              "  <tbody>\n",
              "    <tr>\n",
              "      <th>0</th>\n",
              "      <td>MARCH # All Stories New and Complete Publisher...</td>\n",
              "      <td>march stori new complet publish editor publish...</td>\n",
              "      <td>135</td>\n",
              "    </tr>\n",
              "    <tr>\n",
              "      <th>1</th>\n",
              "      <td>Volume #, No. #.</td>\n",
              "      <td>volum</td>\n",
              "      <td>16</td>\n",
              "    </tr>\n",
              "    <tr>\n",
              "      <th>2</th>\n",
              "      <td>Copyright # by Quinn Publishing Company, Inc.</td>\n",
              "      <td>copyright quinn publish compani inc</td>\n",
              "      <td>45</td>\n",
              "    </tr>\n",
              "    <tr>\n",
              "      <th>3</th>\n",
              "      <td>Application for Entry' as Second Class matter ...</td>\n",
              "      <td>applic entri second class matter post offic bu...</td>\n",
              "      <td>89</td>\n",
              "    </tr>\n",
              "    <tr>\n",
              "      <th>4</th>\n",
              "      <td>Subscription # for # issues in U.S. and Posses...</td>\n",
              "      <td>subscript issu us possess canada issu elsewher</td>\n",
              "      <td>88</td>\n",
              "    </tr>\n",
              "  </tbody>\n",
              "</table>\n",
              "</div>\n",
              "    <div class=\"colab-df-buttons\">\n",
              "\n",
              "  <div class=\"colab-df-container\">\n",
              "    <button class=\"colab-df-convert\" onclick=\"convertToInteractive('df-e851fa12-d0c3-400f-acb7-7dd91a6dcee8')\"\n",
              "            title=\"Convert this dataframe to an interactive table.\"\n",
              "            style=\"display:none;\">\n",
              "\n",
              "  <svg xmlns=\"http://www.w3.org/2000/svg\" height=\"24px\" viewBox=\"0 -960 960 960\">\n",
              "    <path d=\"M120-120v-720h720v720H120Zm60-500h600v-160H180v160Zm220 220h160v-160H400v160Zm0 220h160v-160H400v160ZM180-400h160v-160H180v160Zm440 0h160v-160H620v160ZM180-180h160v-160H180v160Zm440 0h160v-160H620v160Z\"/>\n",
              "  </svg>\n",
              "    </button>\n",
              "\n",
              "  <style>\n",
              "    .colab-df-container {\n",
              "      display:flex;\n",
              "      gap: 12px;\n",
              "    }\n",
              "\n",
              "    .colab-df-convert {\n",
              "      background-color: #E8F0FE;\n",
              "      border: none;\n",
              "      border-radius: 50%;\n",
              "      cursor: pointer;\n",
              "      display: none;\n",
              "      fill: #1967D2;\n",
              "      height: 32px;\n",
              "      padding: 0 0 0 0;\n",
              "      width: 32px;\n",
              "    }\n",
              "\n",
              "    .colab-df-convert:hover {\n",
              "      background-color: #E2EBFA;\n",
              "      box-shadow: 0px 1px 2px rgba(60, 64, 67, 0.3), 0px 1px 3px 1px rgba(60, 64, 67, 0.15);\n",
              "      fill: #174EA6;\n",
              "    }\n",
              "\n",
              "    .colab-df-buttons div {\n",
              "      margin-bottom: 4px;\n",
              "    }\n",
              "\n",
              "    [theme=dark] .colab-df-convert {\n",
              "      background-color: #3B4455;\n",
              "      fill: #D2E3FC;\n",
              "    }\n",
              "\n",
              "    [theme=dark] .colab-df-convert:hover {\n",
              "      background-color: #434B5C;\n",
              "      box-shadow: 0px 1px 3px 1px rgba(0, 0, 0, 0.15);\n",
              "      filter: drop-shadow(0px 1px 2px rgba(0, 0, 0, 0.3));\n",
              "      fill: #FFFFFF;\n",
              "    }\n",
              "  </style>\n",
              "\n",
              "    <script>\n",
              "      const buttonEl =\n",
              "        document.querySelector('#df-e851fa12-d0c3-400f-acb7-7dd91a6dcee8 button.colab-df-convert');\n",
              "      buttonEl.style.display =\n",
              "        google.colab.kernel.accessAllowed ? 'block' : 'none';\n",
              "\n",
              "      async function convertToInteractive(key) {\n",
              "        const element = document.querySelector('#df-e851fa12-d0c3-400f-acb7-7dd91a6dcee8');\n",
              "        const dataTable =\n",
              "          await google.colab.kernel.invokeFunction('convertToInteractive',\n",
              "                                                    [key], {});\n",
              "        if (!dataTable) return;\n",
              "\n",
              "        const docLinkHtml = 'Like what you see? Visit the ' +\n",
              "          '<a target=\"_blank\" href=https://colab.research.google.com/notebooks/data_table.ipynb>data table notebook</a>'\n",
              "          + ' to learn more about interactive tables.';\n",
              "        element.innerHTML = '';\n",
              "        dataTable['output_type'] = 'display_data';\n",
              "        await google.colab.output.renderOutput(dataTable, element);\n",
              "        const docLink = document.createElement('div');\n",
              "        docLink.innerHTML = docLinkHtml;\n",
              "        element.appendChild(docLink);\n",
              "      }\n",
              "    </script>\n",
              "  </div>\n",
              "\n",
              "\n",
              "<div id=\"df-4eabb289-66dd-4067-ad45-c97433be03e6\">\n",
              "  <button class=\"colab-df-quickchart\" onclick=\"quickchart('df-4eabb289-66dd-4067-ad45-c97433be03e6')\"\n",
              "            title=\"Suggest charts.\"\n",
              "            style=\"display:none;\">\n",
              "\n",
              "<svg xmlns=\"http://www.w3.org/2000/svg\" height=\"24px\"viewBox=\"0 0 24 24\"\n",
              "     width=\"24px\">\n",
              "    <g>\n",
              "        <path d=\"M19 3H5c-1.1 0-2 .9-2 2v14c0 1.1.9 2 2 2h14c1.1 0 2-.9 2-2V5c0-1.1-.9-2-2-2zM9 17H7v-7h2v7zm4 0h-2V7h2v10zm4 0h-2v-4h2v4z\"/>\n",
              "    </g>\n",
              "</svg>\n",
              "  </button>\n",
              "\n",
              "<style>\n",
              "  .colab-df-quickchart {\n",
              "      --bg-color: #E8F0FE;\n",
              "      --fill-color: #1967D2;\n",
              "      --hover-bg-color: #E2EBFA;\n",
              "      --hover-fill-color: #174EA6;\n",
              "      --disabled-fill-color: #AAA;\n",
              "      --disabled-bg-color: #DDD;\n",
              "  }\n",
              "\n",
              "  [theme=dark] .colab-df-quickchart {\n",
              "      --bg-color: #3B4455;\n",
              "      --fill-color: #D2E3FC;\n",
              "      --hover-bg-color: #434B5C;\n",
              "      --hover-fill-color: #FFFFFF;\n",
              "      --disabled-bg-color: #3B4455;\n",
              "      --disabled-fill-color: #666;\n",
              "  }\n",
              "\n",
              "  .colab-df-quickchart {\n",
              "    background-color: var(--bg-color);\n",
              "    border: none;\n",
              "    border-radius: 50%;\n",
              "    cursor: pointer;\n",
              "    display: none;\n",
              "    fill: var(--fill-color);\n",
              "    height: 32px;\n",
              "    padding: 0;\n",
              "    width: 32px;\n",
              "  }\n",
              "\n",
              "  .colab-df-quickchart:hover {\n",
              "    background-color: var(--hover-bg-color);\n",
              "    box-shadow: 0 1px 2px rgba(60, 64, 67, 0.3), 0 1px 3px 1px rgba(60, 64, 67, 0.15);\n",
              "    fill: var(--button-hover-fill-color);\n",
              "  }\n",
              "\n",
              "  .colab-df-quickchart-complete:disabled,\n",
              "  .colab-df-quickchart-complete:disabled:hover {\n",
              "    background-color: var(--disabled-bg-color);\n",
              "    fill: var(--disabled-fill-color);\n",
              "    box-shadow: none;\n",
              "  }\n",
              "\n",
              "  .colab-df-spinner {\n",
              "    border: 2px solid var(--fill-color);\n",
              "    border-color: transparent;\n",
              "    border-bottom-color: var(--fill-color);\n",
              "    animation:\n",
              "      spin 1s steps(1) infinite;\n",
              "  }\n",
              "\n",
              "  @keyframes spin {\n",
              "    0% {\n",
              "      border-color: transparent;\n",
              "      border-bottom-color: var(--fill-color);\n",
              "      border-left-color: var(--fill-color);\n",
              "    }\n",
              "    20% {\n",
              "      border-color: transparent;\n",
              "      border-left-color: var(--fill-color);\n",
              "      border-top-color: var(--fill-color);\n",
              "    }\n",
              "    30% {\n",
              "      border-color: transparent;\n",
              "      border-left-color: var(--fill-color);\n",
              "      border-top-color: var(--fill-color);\n",
              "      border-right-color: var(--fill-color);\n",
              "    }\n",
              "    40% {\n",
              "      border-color: transparent;\n",
              "      border-right-color: var(--fill-color);\n",
              "      border-top-color: var(--fill-color);\n",
              "    }\n",
              "    60% {\n",
              "      border-color: transparent;\n",
              "      border-right-color: var(--fill-color);\n",
              "    }\n",
              "    80% {\n",
              "      border-color: transparent;\n",
              "      border-right-color: var(--fill-color);\n",
              "      border-bottom-color: var(--fill-color);\n",
              "    }\n",
              "    90% {\n",
              "      border-color: transparent;\n",
              "      border-bottom-color: var(--fill-color);\n",
              "    }\n",
              "  }\n",
              "</style>\n",
              "\n",
              "  <script>\n",
              "    async function quickchart(key) {\n",
              "      const quickchartButtonEl =\n",
              "        document.querySelector('#' + key + ' button');\n",
              "      quickchartButtonEl.disabled = true;  // To prevent multiple clicks.\n",
              "      quickchartButtonEl.classList.add('colab-df-spinner');\n",
              "      try {\n",
              "        const charts = await google.colab.kernel.invokeFunction(\n",
              "            'suggestCharts', [key], {});\n",
              "      } catch (error) {\n",
              "        console.error('Error during call to suggestCharts:', error);\n",
              "      }\n",
              "      quickchartButtonEl.classList.remove('colab-df-spinner');\n",
              "      quickchartButtonEl.classList.add('colab-df-quickchart-complete');\n",
              "    }\n",
              "    (() => {\n",
              "      let quickchartButtonEl =\n",
              "        document.querySelector('#df-4eabb289-66dd-4067-ad45-c97433be03e6 button');\n",
              "      quickchartButtonEl.style.display =\n",
              "        google.colab.kernel.accessAllowed ? 'block' : 'none';\n",
              "    })();\n",
              "  </script>\n",
              "</div>\n",
              "    </div>\n",
              "  </div>\n"
            ]
          },
          "metadata": {},
          "execution_count": 16
        }
      ]
    },
    {
      "cell_type": "code",
      "source": [
        "# By deriving a set from `raw_text_scifi`, we deduplicate the array\n",
        "\n",
        "raw_text_scifi = (' '.join(df_scifi[\"preprocessed text\"])).split()"
      ],
      "metadata": {
        "execution": {
          "iopub.status.busy": "2023-10-24T14:39:39.727128Z",
          "iopub.execute_input": "2023-10-24T14:39:39.727495Z",
          "iopub.status.idle": "2023-10-24T14:39:40.687052Z",
          "shell.execute_reply.started": "2023-10-24T14:39:39.727466Z",
          "shell.execute_reply": "2023-10-24T14:39:40.685801Z"
        },
        "trusted": true,
        "id": "eRgARlmg195r"
      },
      "execution_count": null,
      "outputs": []
    },
    {
      "cell_type": "code",
      "source": [
        "# We create our vocab for, context words and target words for scifi\n",
        "\n",
        "vocab = set(raw_text_scifi)\n",
        "vocab_size_scifi = len(vocab)"
      ],
      "metadata": {
        "execution": {
          "iopub.status.busy": "2023-10-24T14:40:45.254063Z",
          "iopub.execute_input": "2023-10-24T14:40:45.254846Z",
          "iopub.status.idle": "2023-10-24T14:40:45.543605Z",
          "shell.execute_reply.started": "2023-10-24T14:40:45.254810Z",
          "shell.execute_reply": "2023-10-24T14:40:45.542523Z"
        },
        "trusted": true,
        "id": "C2IdhOtu195r"
      },
      "execution_count": null,
      "outputs": []
    },
    {
      "cell_type": "markdown",
      "source": [
        "***INDEXING & VECTORIZING THE WORDS***"
      ],
      "metadata": {
        "id": "xQlZEAzb195s"
      }
    },
    {
      "cell_type": "code",
      "source": [
        "# Index the words for trip advisor data\n",
        "\n",
        "word_to_ix = {word: i for i, word in enumerate(vocab)}"
      ],
      "metadata": {
        "id": "9FBbLAyCMHw6",
        "execution": {
          "iopub.status.busy": "2023-10-24T12:24:26.427954Z",
          "iopub.execute_input": "2023-10-24T12:24:26.428228Z",
          "iopub.status.idle": "2023-10-24T12:24:26.458621Z",
          "shell.execute_reply.started": "2023-10-24T12:24:26.428203Z",
          "shell.execute_reply": "2023-10-24T12:24:26.457751Z"
        },
        "trusted": true
      },
      "execution_count": null,
      "outputs": []
    },
    {
      "cell_type": "code",
      "source": [
        "# Index the words for scifi data\n",
        "\n",
        "word_to_ix_scifi = {word: i for i, word in enumerate(vocab)}"
      ],
      "metadata": {
        "execution": {
          "iopub.status.busy": "2023-10-24T14:41:30.403366Z",
          "iopub.execute_input": "2023-10-24T14:41:30.404314Z",
          "iopub.status.idle": "2023-10-24T14:41:30.474870Z",
          "shell.execute_reply.started": "2023-10-24T14:41:30.404272Z",
          "shell.execute_reply": "2023-10-24T14:41:30.473784Z"
        },
        "trusted": true,
        "id": "JrZpTpFY195t"
      },
      "execution_count": null,
      "outputs": []
    },
    {
      "cell_type": "code",
      "source": [
        "# Define a function to make vectors of the context words\n",
        "\n",
        "def make_context_vector(context, word_to_ix):\n",
        "    idxs = [word_to_ix[w] for w in context]\n",
        "    return torch.tensor(idxs, dtype=torch.long)"
      ],
      "metadata": {
        "id": "H_TVr7uVOX_W",
        "execution": {
          "iopub.status.busy": "2023-10-24T12:24:26.468233Z",
          "iopub.execute_input": "2023-10-24T12:24:26.468527Z",
          "iopub.status.idle": "2023-10-24T12:24:26.480301Z",
          "shell.execute_reply.started": "2023-10-24T12:24:26.468499Z",
          "shell.execute_reply": "2023-10-24T12:24:26.479449Z"
        },
        "trusted": true
      },
      "execution_count": null,
      "outputs": []
    },
    {
      "cell_type": "markdown",
      "source": [
        "***DATALOADERS***"
      ],
      "metadata": {
        "id": "hs3uHroW195u"
      }
    },
    {
      "cell_type": "code",
      "source": [
        "class CBOWDataset(Dataset):\n",
        "\n",
        "    def __init__(self, context_size, word_to_ix, raw_text=None, preprocessed_data=None):\n",
        "        if preprocessed_data:\n",
        "            self.data = preprocessed_data\n",
        "        else:\n",
        "            self.data = self._make_context_targets(context_size, raw_text)\n",
        "        self.word_to_ix = word_to_ix\n",
        "\n",
        "    def _make_context_targets(self, context_width, raw_text):\n",
        "        data = []\n",
        "        for i in range(context_width, len(raw_text) - context_width):\n",
        "            # Using slicing to get the context words\n",
        "            context = raw_text[i - context_width:i] + raw_text[i+1:i+1+context_width]\n",
        "            target = raw_text[i]\n",
        "            data.append((context, target))\n",
        "        return data\n",
        "\n",
        "    def __len__(self):\n",
        "        return len(self.data)\n",
        "\n",
        "    def __getitem__(self, idx):\n",
        "        context_words, target_word = self.data[idx]\n",
        "\n",
        "        # Check if words are in word_to_ix and Convert list of context words to their indices\n",
        "        context_idxs = torch.tensor([self.word_to_ix.get(w, 0) for w in context_words], dtype=torch.long)\n",
        "        target_idx = torch.tensor(self.word_to_ix.get(target_word, 0), dtype=torch.long)\n",
        "\n",
        "        return context_idxs, target_idx"
      ],
      "metadata": {
        "id": "j-ZiSaJChZFG",
        "execution": {
          "iopub.status.busy": "2023-10-24T12:24:26.481436Z",
          "iopub.execute_input": "2023-10-24T12:24:26.482975Z",
          "iopub.status.idle": "2023-10-24T12:24:26.494116Z",
          "shell.execute_reply.started": "2023-10-24T12:24:26.482949Z",
          "shell.execute_reply": "2023-10-24T12:24:26.493148Z"
        },
        "trusted": true
      },
      "execution_count": null,
      "outputs": []
    },
    {
      "cell_type": "markdown",
      "source": [
        "***CBOW CLASS & MODEL***"
      ],
      "metadata": {
        "id": "LtQYCErJ195v"
      }
    },
    {
      "cell_type": "code",
      "source": [
        "class CBOW(nn.Module):\n",
        "\n",
        "    def __init__(self, vocab_size, EMBEDDING_DIM, CONTEXT_WIDTH, HIDDEN_DIM, word_to_ix):\n",
        "        super(CBOW, self).__init__()\n",
        "\n",
        "        self.word_to_ix = word_to_ix\n",
        "\n",
        "        # Embedding layer to represent words in a dense form\n",
        "        self.embeddings = nn.Embedding(vocab_size, EMBEDDING_DIM)\n",
        "\n",
        "        # The input to this layer is CONTEXT_WIDTH words from the left, and CONTEXT_WIDTH from the right.\n",
        "        # Each word is represented as an EMBEDDING_DIM sized vector.\n",
        "        self.linear1 = nn.Linear(CONTEXT_WIDTH * 2 * EMBEDDING_DIM, HIDDEN_DIM)\n",
        "\n",
        "        # An additional hidden layer for better representation\n",
        "        self.linear2 = nn.Linear(HIDDEN_DIM, HIDDEN_DIM)\n",
        "        self.linear3 = nn.Linear(HIDDEN_DIM, HIDDEN_DIM)\n",
        "        self.linear4 = nn.Linear(HIDDEN_DIM, HIDDEN_DIM)\n",
        "\n",
        "        # The output layer predicts the central word, so it has vocab_size units\n",
        "        self.linear5 = nn.Linear(HIDDEN_DIM, vocab_size)\n",
        "\n",
        "    def forward(self, context_idxs):\n",
        "        # Embed the words\n",
        "        embeds = self.embeddings(context_idxs)\n",
        "\n",
        "        # Flatten the embeddings\n",
        "        embeds = embeds.view(-1, embeds.size(1) * embeds.size(2))\n",
        "\n",
        "        # Pass through the layers\n",
        "        out = F.relu(self.linear1(embeds))\n",
        "        out = F.relu(self.linear2(out))\n",
        "        out = F.relu(self.linear3(out))\n",
        "        out = F.relu(self.linear4(out))\n",
        "        out = self.linear5(out)\n",
        "\n",
        "        # Predict the log probabilities of the center word\n",
        "        log_probs = F.log_softmax(out, dim=1)\n",
        "        return log_probs\n",
        "\n",
        "    def train_model(self, epochs, optimizer, train_dataloader, val_dataloader, device):\n",
        "        loss_function = nn.NLLLoss()\n",
        "        train_losses = []\n",
        "        val_losses = []\n",
        "\n",
        "        for epoch in range(epochs):\n",
        "            self.train()\n",
        "            total_loss = 0\n",
        "\n",
        "            # Training loop with progress bar\n",
        "            pbar = tqdm(train_dataloader, desc=f\"Epoch {epoch+1}/{epochs}\")\n",
        "            for context_idxs, target_idx in pbar:\n",
        "                context_idxs, target_idx = context_idxs.to(device), target_idx.to(device)\n",
        "                self.zero_grad()\n",
        "                log_probs = self(context_idxs)\n",
        "                loss = loss_function(log_probs, target_idx)\n",
        "                loss.backward()\n",
        "                optimizer.step()\n",
        "                total_loss += loss.item()\n",
        "\n",
        "                # Update the progress bar description\n",
        "                pbar.set_description(f\"Epoch {epoch+1}/{epochs} Loss: {loss.item():.4f}\")\n",
        "\n",
        "\n",
        "            train_losses.append(total_loss/len(train_dataloader))\n",
        "            print(f\"\\nEpoch {epoch+1}, Training Loss: {total_loss/len(train_dataloader)}\")\n",
        "\n",
        "            self.eval()\n",
        "            total_val_loss = 0\n",
        "\n",
        "            # Validation loop with progress bar\n",
        "            val_pbar = tqdm(val_dataloader, desc=f\"Validating Epoch {epoch+1}/{epochs}\")\n",
        "            with torch.no_grad():\n",
        "                for context_idxs, target_idx in val_pbar:\n",
        "                    context_idxs, target_idx = context_idxs.to(device), target_idx.to(device)\n",
        "                    log_probs = self(context_idxs)\n",
        "                    loss = loss_function(log_probs, target_idx)\n",
        "                    total_val_loss += loss.item()\n",
        "\n",
        "                    # Update the validation progress bar description\n",
        "                    val_pbar.set_description(f\"Validating Epoch {epoch+1}/{epochs} Val Loss: {loss.item():.4f}\")\n",
        "\n",
        "            val_losses.append(total_val_loss/len(val_dataloader))\n",
        "            print(f\"Epoch {epoch+1}, Validation Loss: {total_val_loss/len(val_dataloader)}\")\n",
        "        return train_losses, val_losses"
      ],
      "metadata": {
        "id": "4CamnSh-LPbF",
        "execution": {
          "iopub.status.busy": "2023-10-24T14:56:59.244375Z",
          "iopub.execute_input": "2023-10-24T14:56:59.244745Z",
          "iopub.status.idle": "2023-10-24T14:56:59.793927Z",
          "shell.execute_reply.started": "2023-10-24T14:56:59.244715Z",
          "shell.execute_reply": "2023-10-24T14:56:59.792886Z"
        },
        "trusted": true
      },
      "execution_count": null,
      "outputs": []
    },
    {
      "cell_type": "code",
      "source": [
        "# Setting hyperparameters for trip advisor data model CBOW2\n",
        "\n",
        "EMBEDDING_DIM = 50\n",
        "CONTEXT_WIDTH = 2\n",
        "HIDDEN_DIM = 256\n",
        "N_EPOCHS = 12"
      ],
      "metadata": {
        "id": "dNEQ4-cJUZfT",
        "execution": {
          "iopub.status.busy": "2023-10-24T12:24:26.545323Z",
          "iopub.execute_input": "2023-10-24T12:24:26.545683Z",
          "iopub.status.idle": "2023-10-24T12:24:26.564243Z",
          "shell.execute_reply.started": "2023-10-24T12:24:26.545643Z",
          "shell.execute_reply": "2023-10-24T12:24:26.563298Z"
        },
        "trusted": true
      },
      "execution_count": null,
      "outputs": []
    },
    {
      "cell_type": "markdown",
      "source": [
        "*Initializing the dataloader for the trip advisor dataset CBOW2*"
      ],
      "metadata": {
        "id": "a40DxuMW195w"
      }
    },
    {
      "cell_type": "code",
      "source": [
        "# Create the full dataset using the raw text\n",
        "full_dataset = CBOWDataset(CONTEXT_WIDTH, word_to_ix, raw_text=raw_text)\n",
        "\n",
        "# Split the dataset into training, validation, and test sets\n",
        "train_data, temp_data = train_test_split(full_dataset.data, test_size=0.2, random_state=42)\n",
        "val_data, test_data = train_test_split(temp_data, test_size=0.5, random_state=42)\n",
        "\n",
        "# Using the split data to instantiate datasets\n",
        "# raw_text is defaulted to None when using preprocessed_data\n",
        "train_dataset = CBOWDataset(context_size=CONTEXT_WIDTH, word_to_ix=word_to_ix, preprocessed_data=train_data)\n",
        "val_dataset = CBOWDataset(context_size=CONTEXT_WIDTH, word_to_ix=word_to_ix, preprocessed_data=val_data)\n",
        "test_dataset = CBOWDataset(context_size=CONTEXT_WIDTH, word_to_ix=word_to_ix, preprocessed_data=test_data)\n",
        "\n",
        "# Creating dataloaders for each dataset\n",
        "train_dataloader = DataLoader(train_dataset, batch_size=64, shuffle=True, num_workers=4)\n",
        "val_dataloader = DataLoader(val_dataset, batch_size=64, shuffle=False, num_workers=4)\n",
        "test_dataloader = DataLoader(test_dataset, batch_size=64, shuffle=False, num_workers=4)"
      ],
      "metadata": {
        "id": "C3VTnM03TDlX",
        "execution": {
          "iopub.status.busy": "2023-10-24T12:24:26.565407Z",
          "iopub.execute_input": "2023-10-24T12:24:26.565695Z",
          "iopub.status.idle": "2023-10-24T12:24:32.351618Z",
          "shell.execute_reply.started": "2023-10-24T12:24:26.565668Z",
          "shell.execute_reply": "2023-10-24T12:24:32.350686Z"
        },
        "trusted": true
      },
      "execution_count": null,
      "outputs": []
    },
    {
      "cell_type": "markdown",
      "source": [
        "*Training the model for trip advisor dataset CBOW2*"
      ],
      "metadata": {
        "id": "aKAe7j2L195x"
      }
    },
    {
      "cell_type": "code",
      "source": [
        "# Initialize training\n",
        "\n",
        "model_cbow2_trip = CBOW(vocab_size, EMBEDDING_DIM, CONTEXT_WIDTH, HIDDEN_DIM, word_to_ix)\n",
        "\n",
        "device = torch.device(\"cuda\" if torch.cuda.is_available() else \"cpu\")\n",
        "model_cbow2_trip.to(device)\n",
        "\n",
        "optimizer = torch.optim.Adam(model_cbow2_trip.parameters(), lr=0.001)\n",
        "loss_function = nn.NLLLoss()\n",
        "\n",
        "train_losses, val_losses = model_cbow2_trip.train_model(N_EPOCHS, optimizer, train_dataloader, val_dataloader, device)"
      ],
      "metadata": {
        "id": "A-s0oJT0Prjt",
        "colab": {
          "base_uri": "https://localhost:8080/",
          "height": 388,
          "referenced_widgets": [
            "590727e842ba4da9b6284b663a6bf08c",
            "292929c9b7ea441884355dd12c3d0af0",
            "d073f4cbcb5249e49fb6972449134a3e",
            "43aebc74a29d44fa976b022984d16553",
            "0ccdd60812944c0fb5e3a0efd5c63a16",
            "bf856f4432e94a96b2e8b16515afab87",
            "2f7bd5cf7c774248b0919c8a6f50d9c1",
            "bcf26cf56e3d419882b5c1e4f91bc687",
            "85baac08930f4b5e868dc71b948f916a",
            "394a7bb3d2b84e33aed69a85fc8e3cbf",
            "f4d0a84e98db41239d095ef95feef6d1",
            "c8b0d9aadc304825a488919f3490e79e",
            "2bf966c67386417bb1b00efd7115872f",
            "75bc729a52ca48be97ce72f7e6423250",
            "ab018173e6694130a01bb10ef75649ae",
            "7e62c6dd9fd6442eba838b52fcd49ba9",
            "32d6cba86bef4020a3d182f45edc10aa",
            "980bd2f3f9bc4638a402ea3c737aac54",
            "90542dbd398f4c9c9cc776a9e2d7515c",
            "88f706425b474abfbabb606b012a8554",
            "ce26bfd61d084ef493a4d8a45e892777",
            "3a581e6e451d4979a602b7b3264876f8",
            "fb866b7e0f2141ea88d07ff118f72856",
            "07a294e7967e46afb6b4eeaa2404f440",
            "0189e34d7d8f477b978301ffe29f535e",
            "9ba05440bc8f40c3b7765cbf75ae0c6c",
            "2ee558d0bf574d3c80941d90e0cb288d",
            "2ef5e65404174ede8f6bd3be75839496",
            "f9d01423476742d88beef3a37f7f5449",
            "2a2b3a57801a476ab5f3efa56f4374c7",
            "914d14fd9d464e17bf92d145cb776eb6",
            "e45bfa59f5d64f1395e8cc64cfa39f61",
            "1b2e7bd3209e4546aa7193337006b480",
            "52e277b75e1b4e0d8f94a4cfdef65da1",
            "521e297cc2fc4cc69c1811b61c31e0f2"
          ]
        },
        "outputId": "232fbd33-336d-4194-829d-e82505aadf96",
        "execution": {
          "iopub.status.busy": "2023-10-24T12:24:32.352856Z",
          "iopub.execute_input": "2023-10-24T12:24:32.353159Z",
          "iopub.status.idle": "2023-10-24T13:27:57.849335Z",
          "shell.execute_reply.started": "2023-10-24T12:24:32.353131Z",
          "shell.execute_reply": "2023-10-24T13:27:57.848119Z"
        },
        "trusted": true
      },
      "execution_count": null,
      "outputs": [
        {
          "output_type": "display_data",
          "data": {
            "text/plain": "Epoch 1/12:   0%|          | 0/25182 [00:00<?, ?it/s]",
            "application/vnd.jupyter.widget-view+json": {
              "version_major": 2,
              "version_minor": 0,
              "model_id": "c8b0d9aadc304825a488919f3490e79e"
            }
          },
          "metadata": {}
        },
        {
          "name": "stdout",
          "text": "\nEpoch 1, Training Loss: 7.327167549993736\n",
          "output_type": "stream"
        },
        {
          "output_type": "display_data",
          "data": {
            "text/plain": "Validating Epoch 1/12:   0%|          | 0/3148 [00:00<?, ?it/s]",
            "application/vnd.jupyter.widget-view+json": {
              "version_major": 2,
              "version_minor": 0,
              "model_id": "2bf966c67386417bb1b00efd7115872f"
            }
          },
          "metadata": {}
        },
        {
          "name": "stdout",
          "text": "Epoch 1, Validation Loss: 7.199775375889701\n",
          "output_type": "stream"
        },
        {
          "output_type": "display_data",
          "data": {
            "text/plain": "Epoch 2/12:   0%|          | 0/25182 [00:00<?, ?it/s]",
            "application/vnd.jupyter.widget-view+json": {
              "version_major": 2,
              "version_minor": 0,
              "model_id": "75bc729a52ca48be97ce72f7e6423250"
            }
          },
          "metadata": {}
        },
        {
          "name": "stdout",
          "text": "\nEpoch 2, Training Loss: 7.076125635845895\n",
          "output_type": "stream"
        },
        {
          "output_type": "display_data",
          "data": {
            "text/plain": "Validating Epoch 2/12:   0%|          | 0/3148 [00:00<?, ?it/s]",
            "application/vnd.jupyter.widget-view+json": {
              "version_major": 2,
              "version_minor": 0,
              "model_id": "ab018173e6694130a01bb10ef75649ae"
            }
          },
          "metadata": {}
        },
        {
          "name": "stdout",
          "text": "Epoch 2, Validation Loss: 7.131687975747764\n",
          "output_type": "stream"
        },
        {
          "output_type": "display_data",
          "data": {
            "text/plain": "Epoch 3/12:   0%|          | 0/25182 [00:00<?, ?it/s]",
            "application/vnd.jupyter.widget-view+json": {
              "version_major": 2,
              "version_minor": 0,
              "model_id": "7e62c6dd9fd6442eba838b52fcd49ba9"
            }
          },
          "metadata": {}
        },
        {
          "name": "stdout",
          "text": "\nEpoch 3, Training Loss: 6.9808587543012495\n",
          "output_type": "stream"
        },
        {
          "output_type": "display_data",
          "data": {
            "text/plain": "Validating Epoch 3/12:   0%|          | 0/3148 [00:00<?, ?it/s]",
            "application/vnd.jupyter.widget-view+json": {
              "version_major": 2,
              "version_minor": 0,
              "model_id": "32d6cba86bef4020a3d182f45edc10aa"
            }
          },
          "metadata": {}
        },
        {
          "name": "stdout",
          "text": "Epoch 3, Validation Loss: 7.085834703421199\n",
          "output_type": "stream"
        },
        {
          "output_type": "display_data",
          "data": {
            "text/plain": "Epoch 4/12:   0%|          | 0/25182 [00:00<?, ?it/s]",
            "application/vnd.jupyter.widget-view+json": {
              "version_major": 2,
              "version_minor": 0,
              "model_id": "980bd2f3f9bc4638a402ea3c737aac54"
            }
          },
          "metadata": {}
        },
        {
          "name": "stdout",
          "text": "\nEpoch 4, Training Loss: 6.922074271142175\n",
          "output_type": "stream"
        },
        {
          "output_type": "display_data",
          "data": {
            "text/plain": "Validating Epoch 4/12:   0%|          | 0/3148 [00:00<?, ?it/s]",
            "application/vnd.jupyter.widget-view+json": {
              "version_major": 2,
              "version_minor": 0,
              "model_id": "90542dbd398f4c9c9cc776a9e2d7515c"
            }
          },
          "metadata": {}
        },
        {
          "name": "stdout",
          "text": "Epoch 4, Validation Loss: 7.0556755730884655\n",
          "output_type": "stream"
        },
        {
          "output_type": "display_data",
          "data": {
            "text/plain": "Epoch 5/12:   0%|          | 0/25182 [00:00<?, ?it/s]",
            "application/vnd.jupyter.widget-view+json": {
              "version_major": 2,
              "version_minor": 0,
              "model_id": "88f706425b474abfbabb606b012a8554"
            }
          },
          "metadata": {}
        },
        {
          "name": "stdout",
          "text": "\nEpoch 5, Training Loss: 6.877052584535957\n",
          "output_type": "stream"
        },
        {
          "output_type": "display_data",
          "data": {
            "text/plain": "Validating Epoch 5/12:   0%|          | 0/3148 [00:00<?, ?it/s]",
            "application/vnd.jupyter.widget-view+json": {
              "version_major": 2,
              "version_minor": 0,
              "model_id": "ce26bfd61d084ef493a4d8a45e892777"
            }
          },
          "metadata": {}
        },
        {
          "name": "stdout",
          "text": "Epoch 5, Validation Loss: 7.028995743397685\n",
          "output_type": "stream"
        },
        {
          "output_type": "display_data",
          "data": {
            "text/plain": "Epoch 6/12:   0%|          | 0/25182 [00:00<?, ?it/s]",
            "application/vnd.jupyter.widget-view+json": {
              "version_major": 2,
              "version_minor": 0,
              "model_id": "3a581e6e451d4979a602b7b3264876f8"
            }
          },
          "metadata": {}
        },
        {
          "name": "stdout",
          "text": "\nEpoch 6, Training Loss: 6.841585553428063\n",
          "output_type": "stream"
        },
        {
          "output_type": "display_data",
          "data": {
            "text/plain": "Validating Epoch 6/12:   0%|          | 0/3148 [00:00<?, ?it/s]",
            "application/vnd.jupyter.widget-view+json": {
              "version_major": 2,
              "version_minor": 0,
              "model_id": "fb866b7e0f2141ea88d07ff118f72856"
            }
          },
          "metadata": {}
        },
        {
          "name": "stdout",
          "text": "Epoch 6, Validation Loss: 7.010823047903321\n",
          "output_type": "stream"
        },
        {
          "output_type": "display_data",
          "data": {
            "text/plain": "Epoch 7/12:   0%|          | 0/25182 [00:00<?, ?it/s]",
            "application/vnd.jupyter.widget-view+json": {
              "version_major": 2,
              "version_minor": 0,
              "model_id": "07a294e7967e46afb6b4eeaa2404f440"
            }
          },
          "metadata": {}
        },
        {
          "name": "stdout",
          "text": "\nEpoch 7, Training Loss: 6.8131261895736985\n",
          "output_type": "stream"
        },
        {
          "output_type": "display_data",
          "data": {
            "text/plain": "Validating Epoch 7/12:   0%|          | 0/3148 [00:00<?, ?it/s]",
            "application/vnd.jupyter.widget-view+json": {
              "version_major": 2,
              "version_minor": 0,
              "model_id": "0189e34d7d8f477b978301ffe29f535e"
            }
          },
          "metadata": {}
        },
        {
          "name": "stdout",
          "text": "Epoch 7, Validation Loss: 7.00321435095243\n",
          "output_type": "stream"
        },
        {
          "output_type": "display_data",
          "data": {
            "text/plain": "Epoch 8/12:   0%|          | 0/25182 [00:00<?, ?it/s]",
            "application/vnd.jupyter.widget-view+json": {
              "version_major": 2,
              "version_minor": 0,
              "model_id": "9ba05440bc8f40c3b7765cbf75ae0c6c"
            }
          },
          "metadata": {}
        },
        {
          "name": "stdout",
          "text": "\nEpoch 8, Training Loss: 6.7745549946741725\n",
          "output_type": "stream"
        },
        {
          "output_type": "display_data",
          "data": {
            "text/plain": "Validating Epoch 8/12:   0%|          | 0/3148 [00:00<?, ?it/s]",
            "application/vnd.jupyter.widget-view+json": {
              "version_major": 2,
              "version_minor": 0,
              "model_id": "2ee558d0bf574d3c80941d90e0cb288d"
            }
          },
          "metadata": {}
        },
        {
          "name": "stdout",
          "text": "Epoch 8, Validation Loss: 6.946895168727356\n",
          "output_type": "stream"
        },
        {
          "output_type": "display_data",
          "data": {
            "text/plain": "Epoch 9/12:   0%|          | 0/25182 [00:00<?, ?it/s]",
            "application/vnd.jupyter.widget-view+json": {
              "version_major": 2,
              "version_minor": 0,
              "model_id": "2ef5e65404174ede8f6bd3be75839496"
            }
          },
          "metadata": {}
        },
        {
          "name": "stdout",
          "text": "\nEpoch 9, Training Loss: 6.734728101721712\n",
          "output_type": "stream"
        },
        {
          "output_type": "display_data",
          "data": {
            "text/plain": "Validating Epoch 9/12:   0%|          | 0/3148 [00:00<?, ?it/s]",
            "application/vnd.jupyter.widget-view+json": {
              "version_major": 2,
              "version_minor": 0,
              "model_id": "f9d01423476742d88beef3a37f7f5449"
            }
          },
          "metadata": {}
        },
        {
          "name": "stdout",
          "text": "Epoch 9, Validation Loss: 6.941313672247502\n",
          "output_type": "stream"
        },
        {
          "output_type": "display_data",
          "data": {
            "text/plain": "Epoch 10/12:   0%|          | 0/25182 [00:00<?, ?it/s]",
            "application/vnd.jupyter.widget-view+json": {
              "version_major": 2,
              "version_minor": 0,
              "model_id": "2a2b3a57801a476ab5f3efa56f4374c7"
            }
          },
          "metadata": {}
        },
        {
          "name": "stdout",
          "text": "\nEpoch 10, Training Loss: 6.709710677635224\n",
          "output_type": "stream"
        },
        {
          "output_type": "display_data",
          "data": {
            "text/plain": "Validating Epoch 10/12:   0%|          | 0/3148 [00:00<?, ?it/s]",
            "application/vnd.jupyter.widget-view+json": {
              "version_major": 2,
              "version_minor": 0,
              "model_id": "914d14fd9d464e17bf92d145cb776eb6"
            }
          },
          "metadata": {}
        },
        {
          "name": "stdout",
          "text": "Epoch 10, Validation Loss: 6.936423045555851\n",
          "output_type": "stream"
        },
        {
          "output_type": "display_data",
          "data": {
            "text/plain": "Epoch 11/12:   0%|          | 0/25182 [00:00<?, ?it/s]",
            "application/vnd.jupyter.widget-view+json": {
              "version_major": 2,
              "version_minor": 0,
              "model_id": "e45bfa59f5d64f1395e8cc64cfa39f61"
            }
          },
          "metadata": {}
        },
        {
          "name": "stdout",
          "text": "\nEpoch 11, Training Loss: 6.691229186097051\n",
          "output_type": "stream"
        },
        {
          "output_type": "display_data",
          "data": {
            "text/plain": "Validating Epoch 11/12:   0%|          | 0/3148 [00:00<?, ?it/s]",
            "application/vnd.jupyter.widget-view+json": {
              "version_major": 2,
              "version_minor": 0,
              "model_id": "1b2e7bd3209e4546aa7193337006b480"
            }
          },
          "metadata": {}
        },
        {
          "name": "stdout",
          "text": "Epoch 11, Validation Loss: 6.937813163106596\n",
          "output_type": "stream"
        },
        {
          "output_type": "display_data",
          "data": {
            "text/plain": "Epoch 12/12:   0%|          | 0/25182 [00:00<?, ?it/s]",
            "application/vnd.jupyter.widget-view+json": {
              "version_major": 2,
              "version_minor": 0,
              "model_id": "52e277b75e1b4e0d8f94a4cfdef65da1"
            }
          },
          "metadata": {}
        },
        {
          "name": "stdout",
          "text": "\nEpoch 12, Training Loss: 6.6845261707136245\n",
          "output_type": "stream"
        },
        {
          "output_type": "display_data",
          "data": {
            "text/plain": "Validating Epoch 12/12:   0%|          | 0/3148 [00:00<?, ?it/s]",
            "application/vnd.jupyter.widget-view+json": {
              "version_major": 2,
              "version_minor": 0,
              "model_id": "521e297cc2fc4cc69c1811b61c31e0f2"
            }
          },
          "metadata": {}
        },
        {
          "name": "stdout",
          "text": "Epoch 12, Validation Loss: 6.952419428237663\n",
          "output_type": "stream"
        }
      ]
    },
    {
      "cell_type": "code",
      "source": [
        "# After training\n",
        "plt.figure(figsize=(10,5))\n",
        "plt.title(\"Training and Validation Loss\")\n",
        "plt.plot(train_losses, label=\"train\")\n",
        "plt.plot(val_losses, label=\"val\")\n",
        "plt.xlabel(\"Epochs\")\n",
        "plt.ylabel(\"Loss\")\n",
        "plt.legend()\n",
        "plt.show()"
      ],
      "metadata": {
        "id": "xiM2xZwg3pGO",
        "execution": {
          "iopub.status.busy": "2023-10-24T13:27:57.850968Z",
          "iopub.execute_input": "2023-10-24T13:27:57.851322Z",
          "iopub.status.idle": "2023-10-24T13:27:58.166316Z",
          "shell.execute_reply.started": "2023-10-24T13:27:57.851277Z",
          "shell.execute_reply": "2023-10-24T13:27:58.165472Z"
        },
        "trusted": true,
        "outputId": "24e89ed9-c7d4-48fa-ae5f-06fe2d2e6efc"
      },
      "execution_count": null,
      "outputs": [
        {
          "output_type": "display_data",
          "data": {
            "text/plain": "<Figure size 1000x500 with 1 Axes>",
            "image/png": "[encoded data removed]"
          },
          "metadata": {}
        }
      ]
    },
    {
      "cell_type": "code",
      "source": [
        "def test_model_cbow2_trip(self, test_dataloader):\n",
        "    self.eval()\n",
        "    total_loss = 0\n",
        "    loss_function = nn.NLLLoss()\n",
        "\n",
        "    test_pbar = tqdm(test_dataloader, desc=\"Testing\")\n",
        "    with torch.no_grad():\n",
        "        for context, target in test_pbar:\n",
        "            context, target = context.to(device), target.to(device)\n",
        "            log_probs = self(context)\n",
        "            loss = loss_function(log_probs, target)\n",
        "            total_loss += loss.item()\n",
        "\n",
        "            test_pbar.set_description(f\"Testing Loss: {loss.item():.4f}\")\n",
        "\n",
        "    avg_test_loss = total_loss / len(test_dataloader)\n",
        "    print(f\"Average Testing Loss: {avg_test_loss}\")\n",
        "    return avg_test_loss\n",
        "\n",
        "# Run the test\n",
        "test_model_cbow2_trip(model_cbow2_trip, test_dataloader)"
      ],
      "metadata": {
        "id": "P0ZMBN8Nqsw9",
        "execution": {
          "iopub.status.busy": "2023-10-24T13:27:58.167742Z",
          "iopub.execute_input": "2023-10-24T13:27:58.168102Z",
          "iopub.status.idle": "2023-10-24T13:28:11.286616Z",
          "shell.execute_reply.started": "2023-10-24T13:27:58.168067Z",
          "shell.execute_reply": "2023-10-24T13:28:11.285485Z"
        },
        "trusted": true,
        "colab": {
          "referenced_widgets": [
            "e03cfa70af9a4f4bb706d249f7bcb075"
          ]
        },
        "outputId": "71c6a9ee-8cd5-4564-ccca-342c8a883cad"
      },
      "execution_count": null,
      "outputs": [
        {
          "output_type": "display_data",
          "data": {
            "text/plain": "Testing:   0%|          | 0/3148 [00:00<?, ?it/s]",
            "application/vnd.jupyter.widget-view+json": {
              "version_major": 2,
              "version_minor": 0,
              "model_id": "e03cfa70af9a4f4bb706d249f7bcb075"
            }
          },
          "metadata": {}
        },
        {
          "name": "stdout",
          "text": "Average Testing Loss: 6.940714779621159\n",
          "output_type": "stream"
        },
        {
          "execution_count": 46,
          "output_type": "execute_result",
          "data": {
            "text/plain": "6.940714779621159"
          },
          "metadata": {}
        }
      ]
    },
    {
      "cell_type": "code",
      "source": [
        "# Reverse dictionary of word_to_ix\n",
        "index_to_word = {index: word for word, index in word_to_ix.items()}"
      ],
      "metadata": {
        "execution": {
          "iopub.status.busy": "2023-10-24T13:39:52.163135Z",
          "iopub.execute_input": "2023-10-24T13:39:52.164098Z",
          "iopub.status.idle": "2023-10-24T13:39:52.218960Z",
          "shell.execute_reply.started": "2023-10-24T13:39:52.164059Z",
          "shell.execute_reply": "2023-10-24T13:39:52.218203Z"
        },
        "trusted": true,
        "id": "ssFXC6SI1950"
      },
      "execution_count": null,
      "outputs": []
    },
    {
      "cell_type": "markdown",
      "source": [
        "***DEFINE NECESSARY FUNCTIONS TO GET THE CLOSEST VECTORS/WORDS***"
      ],
      "metadata": {
        "id": "u4KpKRAO1951"
      }
    },
    {
      "cell_type": "code",
      "source": [
        "def get_closest_word(word, net, topn=5):\n",
        "    word_distance = []\n",
        "    emb = net.embeddings\n",
        "    pdist = nn.PairwiseDistance()\n",
        "    i = word_to_ix[word]\n",
        "    lookup_tensor_i = torch.tensor([i], dtype=torch.long).to(device)\n",
        "    v_i = emb(lookup_tensor_i)\n",
        "    for j in range(len(vocab)):\n",
        "        if j != i:\n",
        "            lookup_tensor_j = torch.tensor([j], dtype=torch.long).to(device)\n",
        "            v_j = emb(lookup_tensor_j)\n",
        "            word_distance.append((index_to_word[j], float(pdist(v_i, v_j))))\n",
        "    word_distance.sort(key=lambda x: x[1])\n",
        "    return word_distance[:topn]"
      ],
      "metadata": {
        "execution": {
          "iopub.status.busy": "2023-10-24T13:40:04.039506Z",
          "iopub.execute_input": "2023-10-24T13:40:04.040138Z",
          "iopub.status.idle": "2023-10-24T13:40:04.047514Z",
          "shell.execute_reply.started": "2023-10-24T13:40:04.040107Z",
          "shell.execute_reply": "2023-10-24T13:40:04.046481Z"
        },
        "trusted": true,
        "id": "PdajMaQ81951"
      },
      "execution_count": null,
      "outputs": []
    },
    {
      "cell_type": "code",
      "source": [
        "def print_closest_words(query_word, net):\n",
        "    closest_tuples = get_closest_word(query_word, net)\n",
        "    closest_words = [word[0] for word in closest_tuples]  # Extract words from the tuples\n",
        "    print(f'The five closest words to \"{query_word}\" are: {\", \".join(closest_words)}')"
      ],
      "metadata": {
        "execution": {
          "iopub.status.busy": "2023-10-24T13:44:54.009865Z",
          "iopub.execute_input": "2023-10-24T13:44:54.010480Z",
          "iopub.status.idle": "2023-10-24T13:44:54.015448Z",
          "shell.execute_reply.started": "2023-10-24T13:44:54.010448Z",
          "shell.execute_reply": "2023-10-24T13:44:54.014401Z"
        },
        "trusted": true,
        "id": "WGX5kii51952"
      },
      "execution_count": null,
      "outputs": []
    },
    {
      "cell_type": "markdown",
      "source": [
        "*5 CLOSEST VECTORS/WORDS FOR TRIP ADVISOR DATA CBOW2*"
      ],
      "metadata": {
        "id": "I1dozMF21952"
      }
    },
    {
      "cell_type": "code",
      "source": [
        "net = model_cbow2_trip"
      ],
      "metadata": {
        "id": "ZDeJ4mU71953"
      },
      "execution_count": null,
      "outputs": []
    },
    {
      "cell_type": "code",
      "source": [
        "print_closest_words(\"hotel\", model_cbow2_trip)\n",
        "print_closest_words(\"room\", model_cbow2_trip)\n",
        "print_closest_words(\"staff\", model_cbow2_trip)"
      ],
      "metadata": {
        "execution": {
          "iopub.status.busy": "2023-10-24T13:44:54.110000Z",
          "iopub.execute_input": "2023-10-24T13:44:54.110295Z",
          "iopub.status.idle": "2023-10-24T13:45:18.352820Z",
          "shell.execute_reply.started": "2023-10-24T13:44:54.110255Z",
          "shell.execute_reply": "2023-10-24T13:45:18.351710Z"
        },
        "trusted": true,
        "id": "64h3fsgt1954",
        "outputId": "93d085ee-f875-4baa-85a9-b25630523cde"
      },
      "execution_count": null,
      "outputs": [
        {
          "name": "stdout",
          "text": "The five closest words to \"hotel\" are: properti, resort, westin, nonsstop, altamont\nThe five closest words to \"room\" are: stationperfect, unmemor, rom, popluar, dramat\nThe five closest words to \"staff\" are: employe, greet, concierg, receptionist, childreninf\n",
          "output_type": "stream"
        }
      ]
    },
    {
      "cell_type": "code",
      "source": [
        "print_closest_words(\"beautiful\", model_cbow2_trip))\n",
        "print_closest_words(\"larg\", model_cbow2_trip))\n",
        "print_closest_words(\"pleasant\", model_cbow2_trip))"
      ],
      "metadata": {
        "execution": {
          "iopub.status.busy": "2023-10-24T13:46:26.646193Z",
          "iopub.execute_input": "2023-10-24T13:46:26.646647Z",
          "iopub.status.idle": "2023-10-24T13:46:50.831727Z",
          "shell.execute_reply.started": "2023-10-24T13:46:26.646605Z",
          "shell.execute_reply": "2023-10-24T13:46:50.830709Z"
        },
        "trusted": true,
        "id": "dwV0EEpf1955",
        "outputId": "d0496443-a3cf-4f12-a406-39e37c11ff3f"
      },
      "execution_count": null,
      "outputs": [
        {
          "name": "stdout",
          "text": "The five closest words to \"beautiful\" are: pricey, nice, love, bathroomi, chioc\nThe five closest words to \"larg\" are: small, bathroomi, ammen, kept, adequ\nThe five closest words to \"pleasant\" are: nice, encount, wonder, courtiou, serious\n",
          "output_type": "stream"
        }
      ]
    },
    {
      "cell_type": "code",
      "source": [
        "print_closest_words(\"decorat\", model_cbow2_trip))\n",
        "print_closest_words(\"book\", model_cbow2_trip))\n",
        "print_closest_words(\"check\", model_cbow2_trip))"
      ],
      "metadata": {
        "execution": {
          "iopub.status.busy": "2023-10-24T13:47:58.514765Z",
          "iopub.execute_input": "2023-10-24T13:47:58.515091Z",
          "iopub.status.idle": "2023-10-24T13:48:22.508980Z",
          "shell.execute_reply.started": "2023-10-24T13:47:58.515065Z",
          "shell.execute_reply": "2023-10-24T13:48:22.508004Z"
        },
        "trusted": true,
        "id": "SO9fT02_1955",
        "outputId": "1ef5c245-5f9a-4475-e75e-eedcbf29d0dc"
      },
      "execution_count": null,
      "outputs": [
        {
          "name": "stdout",
          "text": "The five closest words to \"decorat\" are: downsid, cofe, typic, improvestaff, seemsto\nThe five closest words to \"book\" are: arriv, stay, suggest, visit, went\nThe five closest words to \"check\" are: arriv, problem, hrperson, inform, mealther\n",
          "output_type": "stream"
        }
      ]
    },
    {
      "cell_type": "code",
      "source": [
        "# Setting hyperparameters for scifi data model CBOW2\n",
        "\n",
        "EMBEDDING_DIM = 50\n",
        "CONTEXT_WIDTH = 2\n",
        "HIDDEN_DIM = 256\n",
        "N_EPOCHS = 3"
      ],
      "metadata": {
        "execution": {
          "iopub.status.busy": "2023-10-24T14:50:23.531383Z",
          "iopub.execute_input": "2023-10-24T14:50:23.532165Z",
          "iopub.status.idle": "2023-10-24T14:50:23.537244Z",
          "shell.execute_reply.started": "2023-10-24T14:50:23.532127Z",
          "shell.execute_reply": "2023-10-24T14:50:23.536057Z"
        },
        "trusted": true,
        "id": "oQFq9Twb1956"
      },
      "execution_count": null,
      "outputs": []
    },
    {
      "cell_type": "markdown",
      "source": [
        "*Initializing the dataloader for the trip advisor dataset CBOW2*"
      ],
      "metadata": {
        "id": "VJ-raORw1956"
      }
    },
    {
      "cell_type": "code",
      "source": [
        "# Create the full dataset using the raw text\n",
        "full_dataset_scifi = CBOWDataset(CONTEXT_WIDTH, word_to_ix_scifi, raw_text=raw_text_scifi)\n",
        "\n",
        "# Split the dataset into training, validation, and test sets\n",
        "train_data_scifi, temp_data_scifi = train_test_split(full_dataset_scifi.data, test_size=0.2, random_state=42)\n",
        "val_data_scifi, test_data_scifi = train_test_split(temp_data_scifi, test_size=0.5, random_state=42)\n",
        "\n",
        "# Using the split data to instantiate datasets\n",
        "# raw_text is defaulted to None when using preprocessed_data\n",
        "train_dataset_scifi = CBOWDataset(context_size=CONTEXT_WIDTH, word_to_ix=word_to_ix_scifi, preprocessed_data=train_data_scifi)\n",
        "val_dataset_scifi = CBOWDataset(context_size=CONTEXT_WIDTH, word_to_ix=word_to_ix_scifi, preprocessed_data=val_data_scifi)\n",
        "test_dataset_scifi = CBOWDataset(context_size=CONTEXT_WIDTH, word_to_ix=word_to_ix_scifi, preprocessed_data=test_data_scifi)\n",
        "\n",
        "# Creating dataloaders for each dataset\n",
        "train_dataloader_scifi = DataLoader(train_dataset_scifi, batch_size=64, shuffle=True, num_workers=4)\n",
        "val_dataloader_scifi = DataLoader(val_dataset_scifi, batch_size=64, shuffle=False, num_workers=4)\n",
        "test_dataloader_scifi = DataLoader(test_dataset_scifi, batch_size=64, shuffle=False, num_workers=4)"
      ],
      "metadata": {
        "execution": {
          "iopub.status.busy": "2023-10-24T14:47:35.058104Z",
          "iopub.execute_input": "2023-10-24T14:47:35.059089Z",
          "iopub.status.idle": "2023-10-24T14:48:49.554831Z",
          "shell.execute_reply.started": "2023-10-24T14:47:35.059051Z",
          "shell.execute_reply": "2023-10-24T14:48:49.553288Z"
        },
        "trusted": true,
        "colab": {
          "base_uri": "https://localhost:8080/"
        },
        "id": "hRvQR3IB1957",
        "outputId": "47b16946-c924-4052-9c9a-e0cc1316c206"
      },
      "execution_count": null,
      "outputs": [
        {
          "output_type": "stream",
          "name": "stderr",
          "text": [
            "/usr/local/lib/python3.10/dist-packages/torch/utils/data/dataloader.py:557: UserWarning: This DataLoader will create 4 worker processes in total. Our suggested max number of worker in current system is 2, which is smaller than what this DataLoader is going to create. Please be aware that excessive worker creation might get DataLoader running slow or even freeze, lower the worker number to avoid potential slowness/freeze if necessary.\n",
            "  warnings.warn(_create_warning_msg(\n"
          ]
        }
      ]
    },
    {
      "cell_type": "markdown",
      "source": [
        "*Training the model for scifi dataset CBOW2*"
      ],
      "metadata": {
        "id": "tP-w6pUk1957"
      }
    },
    {
      "cell_type": "code",
      "source": [
        "# Initialize training\n",
        "\n",
        "model_cbow2_scifi = CBOW(vocab_size_scifi, EMBEDDING_DIM, CONTEXT_WIDTH, HIDDEN_DIM, word_to_ix_scifi)\n",
        "\n",
        "# device = torch.device(\"cuda\" if torch.cuda.is_available() else \"cpu\")\n",
        "device\n",
        "model_cbow2_scifi.to(device)\n",
        "\n",
        "optimizer = torch.optim.Adam(model_cbow2_scifi.parameters(), lr=0.001)\n",
        "loss_function = nn.NLLLoss()\n",
        "\n",
        "train_losses_scifi, val_losses_scifi = model_cbow2_scifi.train_model(N_EPOCHS, optimizer, train_dataloader_scifi, val_dataloader_scifi, device)"
      ],
      "metadata": {
        "execution": {
          "iopub.status.busy": "2023-10-24T14:57:04.053200Z",
          "iopub.execute_input": "2023-10-24T14:57:04.053586Z",
          "iopub.status.idle": "2023-10-24T16:05:06.851365Z",
          "shell.execute_reply.started": "2023-10-24T14:57:04.053557Z",
          "shell.execute_reply": "2023-10-24T16:05:06.850096Z"
        },
        "trusted": true,
        "colab": {
          "base_uri": "https://localhost:8080/",
          "height": 420,
          "referenced_widgets": [
            "671797e9b9e7460c8f675df71a316e9b",
            "5ff5b6bd4b83408a83f093a7fbf93b63",
            "efeaf4cfc2a44699a967a3aeb0c5af39",
            "19c4ad9dcabc4720b2c3c2ccbf39e3d5",
            "3aa1e91f004c43a68d3d4c8d065caeb7",
            "142847b68e6849a1a5c7299a7a054211",
            "f5d0c283b9274e2e88d09abe3f3e62c8",
            "03a1ebf334ec4b63ad892571f753062b",
            "ae336cee61354a30bfdea6a064bd50d3",
            "487f4daa0d274ae39f293dfe035850c6",
            "d69099d169624c51b6b178005a054e66",
            "a6514b19ad964c6ca0d9014905b8dfa1",
            "a730ec7cef4c48c79ca04feb023f985e",
            "d0daf98e39a24924a0ca6493932a296d",
            "938651e9d7154e1c962e7813a27fa931",
            "b8e7a331126d41739cb7f6e37f9313b7",
            "8d53e96fd96c45a19bafd78003c5c038",
            "2cf099de80504e7d93e8564c16774b1d",
            "a9b10723e45c4371b8b4e27cc498ea9b",
            "8932cbdecd8a431791b5b4e14651be08",
            "4900734ad3104222bf0722f0dc8279d6",
            "7c126c6a88534ddea97db9baf6ed26bc",
            "c5b2814871fe418684a7e2704886bf6c",
            "957bcd5ed6f84f638226e953509a4957",
            "b457dba547ab4e80a908ffd5306a23a6",
            "6eddd418c6c54fe0823102af203a15d0",
            "b5d062f4808c44bb9499aef429a9c1ba",
            "22674e6ed7424f37ae27198ca9564553",
            "8f1cfa48af9844fa83060c58e81e70a0",
            "de3320c17df64c8a83c7cfe2e2366546",
            "d549d806518b493d8f78a14481c095b9",
            "67c99f8848b346359988ad4a1f1d584a",
            "69e45b4c77824400b383572d0fe3a9be",
            "ae3b1a741a4f4df38c78626ff060bb2e",
            "2cc7ef2281714e5cbe293bfa953e3613",
            "63129ac88b814a7594a6f03e1cee862b",
            "4107be1c2ecb49119679edab21f2b53b",
            "d2eb4946710c4bcfa48efb86c3a8fb67",
            "c177b9ee2cfc47efa0d759700d776cd9",
            "7d8f242790c4496c86d8c85e57378c95",
            "7a13d845664e4bc69f289ac08f400c23",
            "19a452466c3f42058bc0c3fa6b8d37fe",
            "c75eb3c0a581492b8a5211035a8a0840",
            "43990977b22842af99a12b3ee644863a",
            "b5de26ce848240298e448fc06e464dab",
            "1d761e44da024ae4933b4e475d4cf9ce",
            "a70372527a804acea9639f807038b23f",
            "5f401be0290f4cb697c4d9d928f698ff",
            "086673436ef748b782da67eb564ef526",
            "db2673940bd04593a64c33ccbfa15439",
            "736a6a33e7774348a7efc31a6c06a193",
            "3e34f6f708be430fbd16c7053692c7e8",
            "255977f4199f4231aea4efc408da7712",
            "41501cfaadec42c19e80f488645789e3",
            "da7fc8d7a83b456e9ef70e6c3271579b",
            "2cc7bc5417e74dd28e46fea3a53ab047",
            "90972b6105ed4716a4476f1392469c6b",
            "4515fc2043b842b3af4300d2b79470f5",
            "f497bb0791e0425fb1b688060f4c8e39",
            "339572c09ed84ae0800641cf2ff22e82",
            "72d0758014f34874b430b400ef1812b6",
            "eb4874da88804da7849a6bad11df1c12",
            "8d184680aaa34c4fa0562c8d92f3620e",
            "2d137abf0a5b4328af289338a0f4f555",
            "489fa80b32514a448ef50e4a0221c89b",
            "e1c1cc215f1e412f9a27284421c7fa7e"
          ]
        },
        "id": "-qkUGnKa1958",
        "outputId": "f3078c99-7cdf-4b70-d1ed-21cb752b0c9b"
      },
      "execution_count": null,
      "outputs": [
        {
          "data": {
            "application/vnd.jupyter.widget-view+json": {
              "model_id": "671797e9b9e7460c8f675df71a316e9b",
              "version_major": 2,
              "version_minor": 0
            },
            "text/plain": [
              "Epoch 1/3:   0%|          | 0/9623 [00:00<?, ?it/s]"
            ]
          },
          "metadata": {},
          "output_type": "display_data"
        },
        {
          "metadata": {
            "tags": null
          },
          "name": "stderr",
          "output_type": "stream",
          "text": [
            "/usr/local/lib/python3.10/dist-packages/torch/utils/data/dataloader.py:557: UserWarning: This DataLoader will create 4 worker processes in total. Our suggested max number of worker in current system is 2, which is smaller than what this DataLoader is going to create. Please be aware that excessive worker creation might get DataLoader running slow or even freeze, lower the worker number to avoid potential slowness/freeze if necessary.\n",
            "  warnings.warn(_create_warning_msg(\n"
          ]
        },
        {
          "metadata": {
            "tags": null
          },
          "name": "stdout",
          "output_type": "stream",
          "text": [
            "\n",
            "Epoch 1, Training Loss: 8.230322766326314\n"
          ]
        },
        {
          "data": {
            "application/vnd.jupyter.widget-view+json": {
              "model_id": "a6514b19ad964c6ca0d9014905b8dfa1",
              "version_major": 2,
              "version_minor": 0
            },
            "text/plain": [
              "Validating Epoch 1/3:   0%|          | 0/1203 [00:00<?, ?it/s]"
            ]
          },
          "metadata": {},
          "output_type": "display_data"
        },
        {
          "metadata": {
            "tags": null
          },
          "name": "stdout",
          "output_type": "stream",
          "text": [
            "Epoch 1, Validation Loss: 8.17569234821069\n"
          ]
        },
        {
          "data": {
            "application/vnd.jupyter.widget-view+json": {
              "model_id": "c5b2814871fe418684a7e2704886bf6c",
              "version_major": 2,
              "version_minor": 0
            },
            "text/plain": [
              "Epoch 2/3:   0%|          | 0/9623 [00:00<?, ?it/s]"
            ]
          },
          "metadata": {},
          "output_type": "display_data"
        },
        {
          "metadata": {
            "tags": null
          },
          "name": "stdout",
          "output_type": "stream",
          "text": [
            "\n",
            "Epoch 2, Training Loss: 8.068708889897916\n"
          ]
        },
        {
          "data": {
            "application/vnd.jupyter.widget-view+json": {
              "model_id": "ae3b1a741a4f4df38c78626ff060bb2e",
              "version_major": 2,
              "version_minor": 0
            },
            "text/plain": [
              "Validating Epoch 2/3:   0%|          | 0/1203 [00:00<?, ?it/s]"
            ]
          },
          "metadata": {},
          "output_type": "display_data"
        },
        {
          "metadata": {
            "tags": null
          },
          "name": "stdout",
          "output_type": "stream",
          "text": [
            "Epoch 2, Validation Loss: 8.209749196037489\n"
          ]
        },
        {
          "data": {
            "application/vnd.jupyter.widget-view+json": {
              "model_id": "b5de26ce848240298e448fc06e464dab",
              "version_major": 2,
              "version_minor": 0
            },
            "text/plain": [
              "Epoch 3/3:   0%|          | 0/9623 [00:00<?, ?it/s]"
            ]
          },
          "metadata": {},
          "output_type": "display_data"
        },
        {
          "output_type": "stream",
          "name": "stdout",
          "text": [
            "\n",
            "Epoch 3, Training Loss: 7.989269685809656\n"
          ]
        },
        {
          "output_type": "display_data",
          "data": {
            "text/plain": [
              "Validating Epoch 3/3:   0%|          | 0/1203 [00:00<?, ?it/s]"
            ],
            "application/vnd.jupyter.widget-view+json": {
              "version_major": 2,
              "version_minor": 0,
              "model_id": "2cc7bc5417e74dd28e46fea3a53ab047"
            }
          },
          "metadata": {}
        },
        {
          "output_type": "stream",
          "name": "stdout",
          "text": [
            "Epoch 3, Validation Loss: 8.223068707007124\n"
          ]
        }
      ]
    },
    {
      "cell_type": "code",
      "source": [
        "index_to_word = {index: word for word, index in word_to_ix_scifi.items()}\n",
        "word_to_ix = {word: i for i, word in enumerate(vocab)}"
      ],
      "metadata": {
        "id": "hRf08b8gNUYX"
      },
      "execution_count": null,
      "outputs": []
    },
    {
      "cell_type": "code",
      "source": [
        "print_closest_words(\"time\", model_cbow2_scifi)\n",
        "print_closest_words(\"planet\", model_cbow2_scifi)\n",
        "print_closest_words(\"slope\", model_cbow2_scifi)"
      ],
      "metadata": {
        "colab": {
          "base_uri": "https://localhost:8080/"
        },
        "id": "6LD263ES1958",
        "outputId": "4ddf7751-0c2a-4566-abd9-a214e761412d"
      },
      "execution_count": null,
      "outputs": [
        {
          "output_type": "stream",
          "name": "stdout",
          "text": [
            "The five closest words to \"time\" are: dowm, voliin, cooki, nr, winter\n",
            "The five closest words to \"planet\" are: haphazard, posabilit, nitwit, ote, puhli\n",
            "The five closest words to \"slope\" are: dsked, gailydress, doubl, uppiti, supersecreci\n"
          ]
        }
      ]
    },
    {
      "cell_type": "code",
      "source": [
        "print_closest_words(\"old\", model_cbow2_scifi)\n",
        "print_closest_words(\"long\", model_cbow2_scifi)\n",
        "print_closest_words(\"rich\", model_cbow2_scifi)"
      ],
      "metadata": {
        "colab": {
          "base_uri": "https://localhost:8080/"
        },
        "id": "PC-uilFu1959",
        "outputId": "9fe8bd59-db9f-4775-9cb2-bb9eecd308d7"
      },
      "execution_count": null,
      "outputs": [
        {
          "output_type": "stream",
          "name": "stdout",
          "text": [
            "The five closest words to \"old\" are: medivim, circuit, conjug, goof, ultrafax\n",
            "The five closest words to \"long\" are: waterloo, centerpoint, musd, left, deme\n",
            "The five closest words to \"rich\" are: bluish, protrud, viewer, transform, tamiskefl\n"
          ]
        }
      ]
    },
    {
      "cell_type": "code",
      "source": [
        "print_closest_words(\"said\", model_cbow2_scifi)\n",
        "print_closest_words(\"cant\", model_cbow2_scifi)\n",
        "print_closest_words(\"scare\", model_cbow2_scifi)"
      ],
      "metadata": {
        "colab": {
          "base_uri": "https://localhost:8080/"
        },
        "id": "cKXlwifs1959",
        "outputId": "fd2b1631-4818-44aa-b7fb-a18441903698"
      },
      "execution_count": null,
      "outputs": [
        {
          "output_type": "stream",
          "name": "stdout",
          "text": [
            "The five closest words to \"said\" are: refashion, huh, dutyfre, stf, ummm\n",
            "The five closest words to \"cant\" are: drastic, custodi, professioo, dumb, noroton\n",
            "The five closest words to \"scare\" are: likclv, tember, descript, sam, barl\n"
          ]
        }
      ]
    },
    {
      "cell_type": "code",
      "source": [
        "print_closest_words(\"time\", model_cbow2_trip)\n",
        "print_closest_words(\"cant\", model_cbow2_trip)"
      ],
      "metadata": {
        "colab": {
          "base_uri": "https://localhost:8080/",
          "height": 193
        },
        "id": "LLOObzfCQh6R",
        "outputId": "367b63b7-9c4b-41ff-c687-996e2f4b24dc"
      },
      "execution_count": null,
      "outputs": [
        {
          "output_type": "error",
          "ename": "NameError",
          "evalue": "ignored",
          "traceback": [
            "\u001b[0;31m---------------------------------------------------------------------------\u001b[0m",
            "\u001b[0;31mNameError\u001b[0m                                 Traceback (most recent call last)",
            "\u001b[0;32m<ipython-input-41-c7c9e122bdd1>\u001b[0m in \u001b[0;36m<cell line: 1>\u001b[0;34m()\u001b[0m\n\u001b[0;32m----> 1\u001b[0;31m \u001b[0mprint_closest_words\u001b[0m\u001b[0;34m(\u001b[0m\u001b[0;34m\"time\"\u001b[0m\u001b[0;34m,\u001b[0m \u001b[0mmodel_cbow2_trip\u001b[0m\u001b[0;34m)\u001b[0m\u001b[0;34m\u001b[0m\u001b[0;34m\u001b[0m\u001b[0m\n\u001b[0m\u001b[1;32m      2\u001b[0m \u001b[0mprint_closest_words\u001b[0m\u001b[0;34m(\u001b[0m\u001b[0;34m\"cant\"\u001b[0m\u001b[0;34m,\u001b[0m \u001b[0mmodel_cbow2_trip\u001b[0m\u001b[0;34m)\u001b[0m\u001b[0;34m\u001b[0m\u001b[0;34m\u001b[0m\u001b[0m\n",
            "\u001b[0;31mNameError\u001b[0m: name 'model_cbow2_trip' is not defined"
          ]
        }
      ]
    }
  ]
}